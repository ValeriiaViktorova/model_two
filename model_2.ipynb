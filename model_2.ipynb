{
 "cells": [
  {
   "cell_type": "markdown",
   "metadata": {
    "toc": true
   },
   "source": [
    "<h1>Содержание<span class=\"tocSkip\"></span></h1>\n",
    "<div class=\"toc\"><ul class=\"toc-item\"><li><span><a href=\"#Подготовка-данных\" data-toc-modified-id=\"Подготовка-данных-1\"><span class=\"toc-item-num\">1&nbsp;&nbsp;</span>Подготовка данных</a></span></li><li><span><a href=\"#Исследование-задачи\" data-toc-modified-id=\"Исследование-задачи-2\"><span class=\"toc-item-num\">2&nbsp;&nbsp;</span>Исследование задачи</a></span></li><li><span><a href=\"#Борьба-с-дисбалансом\" data-toc-modified-id=\"Борьба-с-дисбалансом-3\"><span class=\"toc-item-num\">3&nbsp;&nbsp;</span>Борьба с дисбалансом</a></span></li><li><span><a href=\"#Тестирование-модели\" data-toc-modified-id=\"Тестирование-модели-4\"><span class=\"toc-item-num\">4&nbsp;&nbsp;</span>Тестирование модели</a></span></li><li><span><a href=\"#Чек-лист-готовности-проекта\" data-toc-modified-id=\"Чек-лист-готовности-проекта-5\"><span class=\"toc-item-num\">5&nbsp;&nbsp;</span>Чек-лист готовности проекта</a></span></li></ul></div>"
   ]
  },
  {
   "cell_type": "markdown",
   "metadata": {},
   "source": [
    "# Отток клиентов"
   ]
  },
  {
   "cell_type": "markdown",
   "metadata": {},
   "source": [
    "Из «Бета-Банка» стали уходить клиенты. Каждый месяц. Немного, но заметно. Банковские маркетологи посчитали: сохранять текущих клиентов дешевле, чем привлекать новых.\n",
    "\n",
    "Нужно спрогнозировать, уйдёт клиент из банка в ближайшее время или нет. Вам предоставлены исторические данные о поведении клиентов и расторжении договоров с банком. \n",
    "\n",
    "Постройте модель с предельно большим значением *F1*-меры. Чтобы сдать проект успешно, нужно довести метрику до 0.59. Проверьте *F1*-меру на тестовой выборке самостоятельно.\n",
    "\n",
    "Дополнительно измеряйте *AUC-ROC*, сравнивайте её значение с *F1*-мерой.\n",
    "\n",
    "Источник данных: [https://www.kaggle.com/barelydedicated/bank-customer-churn-modeling](https://www.kaggle.com/barelydedicated/bank-customer-churn-modeling)"
   ]
  },
  {
   "cell_type": "markdown",
   "metadata": {},
   "source": [
    "## Подготовка данных"
   ]
  },
  {
   "cell_type": "code",
   "execution_count": 1,
   "metadata": {},
   "outputs": [
    {
     "name": "stdout",
     "output_type": "stream",
     "text": [
      "Defaulting to user installation because normal site-packages is not writeable\n",
      "Requirement already satisfied: plot-metric in /home/jovyan/.local/lib/python3.7/site-packages (0.0.6)\n",
      "Requirement already satisfied: colorlover>=0.3.0 in /home/jovyan/.local/lib/python3.7/site-packages (from plot-metric) (0.3.0)\n",
      "Requirement already satisfied: scikit-learn>=0.21.2 in /opt/conda/lib/python3.7/site-packages (from plot-metric) (0.21.2)\n",
      "Requirement already satisfied: seaborn>=0.9.0 in /opt/conda/lib/python3.7/site-packages (from plot-metric) (0.9.0)\n",
      "Requirement already satisfied: pandas>=0.23.4 in /opt/conda/lib/python3.7/site-packages (from plot-metric) (0.25.1)\n",
      "Requirement already satisfied: matplotlib>=3.0.2 in /opt/conda/lib/python3.7/site-packages (from plot-metric) (3.1.0)\n",
      "Requirement already satisfied: numpy>=1.15.4 in /opt/conda/lib/python3.7/site-packages (from plot-metric) (1.19.5)\n",
      "Requirement already satisfied: scipy>=1.1.0 in /opt/conda/lib/python3.7/site-packages (from plot-metric) (1.4.1)\n",
      "Requirement already satisfied: joblib>=0.11 in /opt/conda/lib/python3.7/site-packages (from scikit-learn>=0.21.2->plot-metric) (1.0.1)\n",
      "Requirement already satisfied: python-dateutil>=2.6.1 in /opt/conda/lib/python3.7/site-packages (from pandas>=0.23.4->plot-metric) (2.8.1)\n",
      "Requirement already satisfied: pytz>=2017.2 in /opt/conda/lib/python3.7/site-packages (from pandas>=0.23.4->plot-metric) (2021.1)\n",
      "Requirement already satisfied: kiwisolver>=1.0.1 in /opt/conda/lib/python3.7/site-packages (from matplotlib>=3.0.2->plot-metric) (1.3.1)\n",
      "Requirement already satisfied: cycler>=0.10 in /opt/conda/lib/python3.7/site-packages (from matplotlib>=3.0.2->plot-metric) (0.10.0)\n",
      "Requirement already satisfied: pyparsing!=2.0.4,!=2.1.2,!=2.1.6,>=2.0.1 in /opt/conda/lib/python3.7/site-packages (from matplotlib>=3.0.2->plot-metric) (2.4.7)\n",
      "Requirement already satisfied: six>=1.5 in /opt/conda/lib/python3.7/site-packages (from python-dateutil>=2.6.1->pandas>=0.23.4->plot-metric) (1.15.0)\n",
      "Note: you may need to restart the kernel to use updated packages.\n"
     ]
    }
   ],
   "source": [
    "pip install plot-metric"
   ]
  },
  {
   "cell_type": "code",
   "execution_count": 2,
   "metadata": {},
   "outputs": [],
   "source": [
    "# импортируем библиотеки\n",
    "\n",
    "import pandas as pd\n",
    "import numpy as np\n",
    "import matplotlib.pyplot as plt\n",
    "import seaborn as sns\n",
    "import itertools\n",
    "import random\n",
    "import plotly.express as px\n",
    "import plotly.graph_objects as go\n",
    "from plotly.subplots import make_subplots\n",
    "import plotly.io as pio\n",
    "pio.templates.default = \"seaborn\"\n",
    "\n",
    "import re\n",
    "import statistics\n",
    "import sklearn.metrics as metrics\n",
    "from sklearn.impute import SimpleImputer\n",
    "from sklearn.dummy import DummyClassifier\n",
    "from sklearn.ensemble import RandomForestClassifier\n",
    "from sklearn.linear_model import LogisticRegression\n",
    "from sklearn.tree import DecisionTreeClassifier\n",
    "from plot_metric.functions import BinaryClassification\n",
    "from sklearn.metrics import accuracy_score\n",
    "from sklearn.metrics import f1_score\n",
    "from sklearn.metrics import roc_auc_score\n",
    "from sklearn.metrics import roc_curve, auc\n",
    "\n",
    "from sklearn.model_selection import train_test_split\n",
    "from sklearn.preprocessing import StandardScaler\n",
    "from sklearn.utils import shuffle\n",
    "from sklearn.metrics import confusion_matrix\n",
    "\n",
    "import warnings\n",
    "warnings.filterwarnings(\"ignore\")\n",
    "\n",
    "pd.set_option('display.max_colwidth', -1)"
   ]
  },
  {
   "cell_type": "code",
   "execution_count": 3,
   "metadata": {},
   "outputs": [
    {
     "data": {
      "text/html": [
       "<div>\n",
       "<style scoped>\n",
       "    .dataframe tbody tr th:only-of-type {\n",
       "        vertical-align: middle;\n",
       "    }\n",
       "\n",
       "    .dataframe tbody tr th {\n",
       "        vertical-align: top;\n",
       "    }\n",
       "\n",
       "    .dataframe thead th {\n",
       "        text-align: right;\n",
       "    }\n",
       "</style>\n",
       "<table border=\"1\" class=\"dataframe\">\n",
       "  <thead>\n",
       "    <tr style=\"text-align: right;\">\n",
       "      <th></th>\n",
       "      <th>RowNumber</th>\n",
       "      <th>CustomerId</th>\n",
       "      <th>Surname</th>\n",
       "      <th>CreditScore</th>\n",
       "      <th>Geography</th>\n",
       "      <th>Gender</th>\n",
       "      <th>Age</th>\n",
       "      <th>Tenure</th>\n",
       "      <th>Balance</th>\n",
       "      <th>NumOfProducts</th>\n",
       "      <th>HasCrCard</th>\n",
       "      <th>IsActiveMember</th>\n",
       "      <th>EstimatedSalary</th>\n",
       "      <th>Exited</th>\n",
       "    </tr>\n",
       "  </thead>\n",
       "  <tbody>\n",
       "    <tr>\n",
       "      <td>0</td>\n",
       "      <td>1</td>\n",
       "      <td>15634602</td>\n",
       "      <td>Hargrave</td>\n",
       "      <td>619</td>\n",
       "      <td>France</td>\n",
       "      <td>Female</td>\n",
       "      <td>42</td>\n",
       "      <td>2.0</td>\n",
       "      <td>0.00</td>\n",
       "      <td>1</td>\n",
       "      <td>1</td>\n",
       "      <td>1</td>\n",
       "      <td>101348.88</td>\n",
       "      <td>1</td>\n",
       "    </tr>\n",
       "    <tr>\n",
       "      <td>1</td>\n",
       "      <td>2</td>\n",
       "      <td>15647311</td>\n",
       "      <td>Hill</td>\n",
       "      <td>608</td>\n",
       "      <td>Spain</td>\n",
       "      <td>Female</td>\n",
       "      <td>41</td>\n",
       "      <td>1.0</td>\n",
       "      <td>83807.86</td>\n",
       "      <td>1</td>\n",
       "      <td>0</td>\n",
       "      <td>1</td>\n",
       "      <td>112542.58</td>\n",
       "      <td>0</td>\n",
       "    </tr>\n",
       "    <tr>\n",
       "      <td>2</td>\n",
       "      <td>3</td>\n",
       "      <td>15619304</td>\n",
       "      <td>Onio</td>\n",
       "      <td>502</td>\n",
       "      <td>France</td>\n",
       "      <td>Female</td>\n",
       "      <td>42</td>\n",
       "      <td>8.0</td>\n",
       "      <td>159660.80</td>\n",
       "      <td>3</td>\n",
       "      <td>1</td>\n",
       "      <td>0</td>\n",
       "      <td>113931.57</td>\n",
       "      <td>1</td>\n",
       "    </tr>\n",
       "    <tr>\n",
       "      <td>3</td>\n",
       "      <td>4</td>\n",
       "      <td>15701354</td>\n",
       "      <td>Boni</td>\n",
       "      <td>699</td>\n",
       "      <td>France</td>\n",
       "      <td>Female</td>\n",
       "      <td>39</td>\n",
       "      <td>1.0</td>\n",
       "      <td>0.00</td>\n",
       "      <td>2</td>\n",
       "      <td>0</td>\n",
       "      <td>0</td>\n",
       "      <td>93826.63</td>\n",
       "      <td>0</td>\n",
       "    </tr>\n",
       "    <tr>\n",
       "      <td>4</td>\n",
       "      <td>5</td>\n",
       "      <td>15737888</td>\n",
       "      <td>Mitchell</td>\n",
       "      <td>850</td>\n",
       "      <td>Spain</td>\n",
       "      <td>Female</td>\n",
       "      <td>43</td>\n",
       "      <td>2.0</td>\n",
       "      <td>125510.82</td>\n",
       "      <td>1</td>\n",
       "      <td>1</td>\n",
       "      <td>1</td>\n",
       "      <td>79084.10</td>\n",
       "      <td>0</td>\n",
       "    </tr>\n",
       "  </tbody>\n",
       "</table>\n",
       "</div>"
      ],
      "text/plain": [
       "   RowNumber  CustomerId   Surname  CreditScore Geography  Gender  Age  \\\n",
       "0  1          15634602    Hargrave  619          France    Female  42    \n",
       "1  2          15647311    Hill      608          Spain     Female  41    \n",
       "2  3          15619304    Onio      502          France    Female  42    \n",
       "3  4          15701354    Boni      699          France    Female  39    \n",
       "4  5          15737888    Mitchell  850          Spain     Female  43    \n",
       "\n",
       "   Tenure    Balance  NumOfProducts  HasCrCard  IsActiveMember  \\\n",
       "0  2.0     0.00       1              1          1                \n",
       "1  1.0     83807.86   1              0          1                \n",
       "2  8.0     159660.80  3              1          0                \n",
       "3  1.0     0.00       2              0          0                \n",
       "4  2.0     125510.82  1              1          1                \n",
       "\n",
       "   EstimatedSalary  Exited  \n",
       "0  101348.88        1       \n",
       "1  112542.58        0       \n",
       "2  113931.57        1       \n",
       "3  93826.63         0       \n",
       "4  79084.10         0       "
      ]
     },
     "execution_count": 3,
     "metadata": {},
     "output_type": "execute_result"
    }
   ],
   "source": [
    "#Изучим данные\n",
    "df = pd.read_csv('/datasets/Churn.csv')\n",
    "df.head()"
   ]
  },
  {
   "cell_type": "code",
   "execution_count": 4,
   "metadata": {},
   "outputs": [
    {
     "data": {
      "text/html": [
       "<div>\n",
       "<style scoped>\n",
       "    .dataframe tbody tr th:only-of-type {\n",
       "        vertical-align: middle;\n",
       "    }\n",
       "\n",
       "    .dataframe tbody tr th {\n",
       "        vertical-align: top;\n",
       "    }\n",
       "\n",
       "    .dataframe thead th {\n",
       "        text-align: right;\n",
       "    }\n",
       "</style>\n",
       "<table border=\"1\" class=\"dataframe\">\n",
       "  <thead>\n",
       "    <tr style=\"text-align: right;\">\n",
       "      <th></th>\n",
       "      <th>RowNumber</th>\n",
       "      <th>CustomerId</th>\n",
       "      <th>Surname</th>\n",
       "      <th>CreditScore</th>\n",
       "      <th>Geography</th>\n",
       "      <th>Gender</th>\n",
       "      <th>Age</th>\n",
       "      <th>Tenure</th>\n",
       "      <th>Balance</th>\n",
       "      <th>NumOfProducts</th>\n",
       "      <th>HasCrCard</th>\n",
       "      <th>IsActiveMember</th>\n",
       "      <th>EstimatedSalary</th>\n",
       "      <th>Exited</th>\n",
       "    </tr>\n",
       "  </thead>\n",
       "  <tbody>\n",
       "    <tr>\n",
       "      <td>9995</td>\n",
       "      <td>9996</td>\n",
       "      <td>15606229</td>\n",
       "      <td>Obijiaku</td>\n",
       "      <td>771</td>\n",
       "      <td>France</td>\n",
       "      <td>Male</td>\n",
       "      <td>39</td>\n",
       "      <td>5.0</td>\n",
       "      <td>0.00</td>\n",
       "      <td>2</td>\n",
       "      <td>1</td>\n",
       "      <td>0</td>\n",
       "      <td>96270.64</td>\n",
       "      <td>0</td>\n",
       "    </tr>\n",
       "    <tr>\n",
       "      <td>9996</td>\n",
       "      <td>9997</td>\n",
       "      <td>15569892</td>\n",
       "      <td>Johnstone</td>\n",
       "      <td>516</td>\n",
       "      <td>France</td>\n",
       "      <td>Male</td>\n",
       "      <td>35</td>\n",
       "      <td>10.0</td>\n",
       "      <td>57369.61</td>\n",
       "      <td>1</td>\n",
       "      <td>1</td>\n",
       "      <td>1</td>\n",
       "      <td>101699.77</td>\n",
       "      <td>0</td>\n",
       "    </tr>\n",
       "    <tr>\n",
       "      <td>9997</td>\n",
       "      <td>9998</td>\n",
       "      <td>15584532</td>\n",
       "      <td>Liu</td>\n",
       "      <td>709</td>\n",
       "      <td>France</td>\n",
       "      <td>Female</td>\n",
       "      <td>36</td>\n",
       "      <td>7.0</td>\n",
       "      <td>0.00</td>\n",
       "      <td>1</td>\n",
       "      <td>0</td>\n",
       "      <td>1</td>\n",
       "      <td>42085.58</td>\n",
       "      <td>1</td>\n",
       "    </tr>\n",
       "    <tr>\n",
       "      <td>9998</td>\n",
       "      <td>9999</td>\n",
       "      <td>15682355</td>\n",
       "      <td>Sabbatini</td>\n",
       "      <td>772</td>\n",
       "      <td>Germany</td>\n",
       "      <td>Male</td>\n",
       "      <td>42</td>\n",
       "      <td>3.0</td>\n",
       "      <td>75075.31</td>\n",
       "      <td>2</td>\n",
       "      <td>1</td>\n",
       "      <td>0</td>\n",
       "      <td>92888.52</td>\n",
       "      <td>1</td>\n",
       "    </tr>\n",
       "    <tr>\n",
       "      <td>9999</td>\n",
       "      <td>10000</td>\n",
       "      <td>15628319</td>\n",
       "      <td>Walker</td>\n",
       "      <td>792</td>\n",
       "      <td>France</td>\n",
       "      <td>Female</td>\n",
       "      <td>28</td>\n",
       "      <td>NaN</td>\n",
       "      <td>130142.79</td>\n",
       "      <td>1</td>\n",
       "      <td>1</td>\n",
       "      <td>0</td>\n",
       "      <td>38190.78</td>\n",
       "      <td>0</td>\n",
       "    </tr>\n",
       "  </tbody>\n",
       "</table>\n",
       "</div>"
      ],
      "text/plain": [
       "      RowNumber  CustomerId    Surname  CreditScore Geography  Gender  Age  \\\n",
       "9995  9996       15606229    Obijiaku   771          France    Male    39    \n",
       "9996  9997       15569892    Johnstone  516          France    Male    35    \n",
       "9997  9998       15584532    Liu        709          France    Female  36    \n",
       "9998  9999       15682355    Sabbatini  772          Germany   Male    42    \n",
       "9999  10000      15628319    Walker     792          France    Female  28    \n",
       "\n",
       "      Tenure    Balance  NumOfProducts  HasCrCard  IsActiveMember  \\\n",
       "9995  5.0     0.00       2              1          0                \n",
       "9996  10.0    57369.61   1              1          1                \n",
       "9997  7.0     0.00       1              0          1                \n",
       "9998  3.0     75075.31   2              1          0                \n",
       "9999 NaN      130142.79  1              1          0                \n",
       "\n",
       "      EstimatedSalary  Exited  \n",
       "9995  96270.64         0       \n",
       "9996  101699.77        0       \n",
       "9997  42085.58         1       \n",
       "9998  92888.52         1       \n",
       "9999  38190.78         0       "
      ]
     },
     "execution_count": 4,
     "metadata": {},
     "output_type": "execute_result"
    }
   ],
   "source": [
    "df.tail()"
   ]
  },
  {
   "cell_type": "code",
   "execution_count": 5,
   "metadata": {},
   "outputs": [
    {
     "name": "stdout",
     "output_type": "stream",
     "text": [
      "<class 'pandas.core.frame.DataFrame'>\n",
      "RangeIndex: 10000 entries, 0 to 9999\n",
      "Data columns (total 14 columns):\n",
      "RowNumber          10000 non-null int64\n",
      "CustomerId         10000 non-null int64\n",
      "Surname            10000 non-null object\n",
      "CreditScore        10000 non-null int64\n",
      "Geography          10000 non-null object\n",
      "Gender             10000 non-null object\n",
      "Age                10000 non-null int64\n",
      "Tenure             9091 non-null float64\n",
      "Balance            10000 non-null float64\n",
      "NumOfProducts      10000 non-null int64\n",
      "HasCrCard          10000 non-null int64\n",
      "IsActiveMember     10000 non-null int64\n",
      "EstimatedSalary    10000 non-null float64\n",
      "Exited             10000 non-null int64\n",
      "dtypes: float64(3), int64(8), object(3)\n",
      "memory usage: 1.1+ MB\n"
     ]
    }
   ],
   "source": [
    "# с помощью метода info() изучим типы данных, количество строк, столбцов, пропущенных данных\n",
    "df.info()"
   ]
  },
  {
   "cell_type": "markdown",
   "metadata": {},
   "source": [
    "Датафрейм содержит пропуски"
   ]
  },
  {
   "cell_type": "code",
   "execution_count": 6,
   "metadata": {},
   "outputs": [
    {
     "data": {
      "text/plain": [
       "RowNumber          0  \n",
       "CustomerId         0  \n",
       "Surname            0  \n",
       "CreditScore        0  \n",
       "Geography          0  \n",
       "Gender             0  \n",
       "Age                0  \n",
       "Tenure             909\n",
       "Balance            0  \n",
       "NumOfProducts      0  \n",
       "HasCrCard          0  \n",
       "IsActiveMember     0  \n",
       "EstimatedSalary    0  \n",
       "Exited             0  \n",
       "dtype: int64"
      ]
     },
     "execution_count": 6,
     "metadata": {},
     "output_type": "execute_result"
    }
   ],
   "source": [
    "#посмотрим количество пропусков\n",
    "df.isna().sum()"
   ]
  },
  {
   "cell_type": "code",
   "execution_count": 7,
   "metadata": {},
   "outputs": [
    {
     "data": {
      "text/html": [
       "<div>\n",
       "<style scoped>\n",
       "    .dataframe tbody tr th:only-of-type {\n",
       "        vertical-align: middle;\n",
       "    }\n",
       "\n",
       "    .dataframe tbody tr th {\n",
       "        vertical-align: top;\n",
       "    }\n",
       "\n",
       "    .dataframe thead th {\n",
       "        text-align: right;\n",
       "    }\n",
       "</style>\n",
       "<table border=\"1\" class=\"dataframe\">\n",
       "  <thead>\n",
       "    <tr style=\"text-align: right;\">\n",
       "      <th></th>\n",
       "      <th>RowNumber</th>\n",
       "      <th>CustomerId</th>\n",
       "      <th>CreditScore</th>\n",
       "      <th>Age</th>\n",
       "      <th>Tenure</th>\n",
       "      <th>Balance</th>\n",
       "      <th>NumOfProducts</th>\n",
       "      <th>HasCrCard</th>\n",
       "      <th>IsActiveMember</th>\n",
       "      <th>EstimatedSalary</th>\n",
       "      <th>Exited</th>\n",
       "    </tr>\n",
       "  </thead>\n",
       "  <tbody>\n",
       "    <tr>\n",
       "      <td>count</td>\n",
       "      <td>10000.00000</td>\n",
       "      <td>1.000000e+04</td>\n",
       "      <td>10000.000000</td>\n",
       "      <td>10000.000000</td>\n",
       "      <td>9091.000000</td>\n",
       "      <td>10000.000000</td>\n",
       "      <td>10000.000000</td>\n",
       "      <td>10000.00000</td>\n",
       "      <td>10000.000000</td>\n",
       "      <td>10000.000000</td>\n",
       "      <td>10000.000000</td>\n",
       "    </tr>\n",
       "    <tr>\n",
       "      <td>mean</td>\n",
       "      <td>5000.50000</td>\n",
       "      <td>1.569094e+07</td>\n",
       "      <td>650.528800</td>\n",
       "      <td>38.921800</td>\n",
       "      <td>4.997690</td>\n",
       "      <td>76485.889288</td>\n",
       "      <td>1.530200</td>\n",
       "      <td>0.70550</td>\n",
       "      <td>0.515100</td>\n",
       "      <td>100090.239881</td>\n",
       "      <td>0.203700</td>\n",
       "    </tr>\n",
       "    <tr>\n",
       "      <td>std</td>\n",
       "      <td>2886.89568</td>\n",
       "      <td>7.193619e+04</td>\n",
       "      <td>96.653299</td>\n",
       "      <td>10.487806</td>\n",
       "      <td>2.894723</td>\n",
       "      <td>62397.405202</td>\n",
       "      <td>0.581654</td>\n",
       "      <td>0.45584</td>\n",
       "      <td>0.499797</td>\n",
       "      <td>57510.492818</td>\n",
       "      <td>0.402769</td>\n",
       "    </tr>\n",
       "    <tr>\n",
       "      <td>min</td>\n",
       "      <td>1.00000</td>\n",
       "      <td>1.556570e+07</td>\n",
       "      <td>350.000000</td>\n",
       "      <td>18.000000</td>\n",
       "      <td>0.000000</td>\n",
       "      <td>0.000000</td>\n",
       "      <td>1.000000</td>\n",
       "      <td>0.00000</td>\n",
       "      <td>0.000000</td>\n",
       "      <td>11.580000</td>\n",
       "      <td>0.000000</td>\n",
       "    </tr>\n",
       "    <tr>\n",
       "      <td>25%</td>\n",
       "      <td>2500.75000</td>\n",
       "      <td>1.562853e+07</td>\n",
       "      <td>584.000000</td>\n",
       "      <td>32.000000</td>\n",
       "      <td>2.000000</td>\n",
       "      <td>0.000000</td>\n",
       "      <td>1.000000</td>\n",
       "      <td>0.00000</td>\n",
       "      <td>0.000000</td>\n",
       "      <td>51002.110000</td>\n",
       "      <td>0.000000</td>\n",
       "    </tr>\n",
       "    <tr>\n",
       "      <td>50%</td>\n",
       "      <td>5000.50000</td>\n",
       "      <td>1.569074e+07</td>\n",
       "      <td>652.000000</td>\n",
       "      <td>37.000000</td>\n",
       "      <td>5.000000</td>\n",
       "      <td>97198.540000</td>\n",
       "      <td>1.000000</td>\n",
       "      <td>1.00000</td>\n",
       "      <td>1.000000</td>\n",
       "      <td>100193.915000</td>\n",
       "      <td>0.000000</td>\n",
       "    </tr>\n",
       "    <tr>\n",
       "      <td>75%</td>\n",
       "      <td>7500.25000</td>\n",
       "      <td>1.575323e+07</td>\n",
       "      <td>718.000000</td>\n",
       "      <td>44.000000</td>\n",
       "      <td>7.000000</td>\n",
       "      <td>127644.240000</td>\n",
       "      <td>2.000000</td>\n",
       "      <td>1.00000</td>\n",
       "      <td>1.000000</td>\n",
       "      <td>149388.247500</td>\n",
       "      <td>0.000000</td>\n",
       "    </tr>\n",
       "    <tr>\n",
       "      <td>max</td>\n",
       "      <td>10000.00000</td>\n",
       "      <td>1.581569e+07</td>\n",
       "      <td>850.000000</td>\n",
       "      <td>92.000000</td>\n",
       "      <td>10.000000</td>\n",
       "      <td>250898.090000</td>\n",
       "      <td>4.000000</td>\n",
       "      <td>1.00000</td>\n",
       "      <td>1.000000</td>\n",
       "      <td>199992.480000</td>\n",
       "      <td>1.000000</td>\n",
       "    </tr>\n",
       "  </tbody>\n",
       "</table>\n",
       "</div>"
      ],
      "text/plain": [
       "         RowNumber    CustomerId   CreditScore           Age       Tenure  \\\n",
       "count  10000.00000  1.000000e+04  10000.000000  10000.000000  9091.000000   \n",
       "mean   5000.50000   1.569094e+07  650.528800    38.921800     4.997690      \n",
       "std    2886.89568   7.193619e+04  96.653299     10.487806     2.894723      \n",
       "min    1.00000      1.556570e+07  350.000000    18.000000     0.000000      \n",
       "25%    2500.75000   1.562853e+07  584.000000    32.000000     2.000000      \n",
       "50%    5000.50000   1.569074e+07  652.000000    37.000000     5.000000      \n",
       "75%    7500.25000   1.575323e+07  718.000000    44.000000     7.000000      \n",
       "max    10000.00000  1.581569e+07  850.000000    92.000000     10.000000     \n",
       "\n",
       "             Balance  NumOfProducts    HasCrCard  IsActiveMember  \\\n",
       "count  10000.000000   10000.000000   10000.00000  10000.000000     \n",
       "mean   76485.889288   1.530200       0.70550      0.515100         \n",
       "std    62397.405202   0.581654       0.45584      0.499797         \n",
       "min    0.000000       1.000000       0.00000      0.000000         \n",
       "25%    0.000000       1.000000       0.00000      0.000000         \n",
       "50%    97198.540000   1.000000       1.00000      1.000000         \n",
       "75%    127644.240000  2.000000       1.00000      1.000000         \n",
       "max    250898.090000  4.000000       1.00000      1.000000         \n",
       "\n",
       "       EstimatedSalary        Exited  \n",
       "count  10000.000000     10000.000000  \n",
       "mean   100090.239881    0.203700      \n",
       "std    57510.492818     0.402769      \n",
       "min    11.580000        0.000000      \n",
       "25%    51002.110000     0.000000      \n",
       "50%    100193.915000    0.000000      \n",
       "75%    149388.247500    0.000000      \n",
       "max    199992.480000    1.000000      "
      ]
     },
     "execution_count": 7,
     "metadata": {},
     "output_type": "execute_result"
    }
   ],
   "source": [
    "df.describe()"
   ]
  },
  {
   "cell_type": "code",
   "execution_count": 8,
   "metadata": {},
   "outputs": [
    {
     "data": {
      "text/plain": [
       "0"
      ]
     },
     "execution_count": 8,
     "metadata": {},
     "output_type": "execute_result"
    }
   ],
   "source": [
    "#Посмотрим имеются ли у нас дубликаты \n",
    "df.duplicated().sum()"
   ]
  },
  {
   "cell_type": "markdown",
   "metadata": {},
   "source": [
    "Дубликаты отсутствуют"
   ]
  },
  {
   "cell_type": "code",
   "execution_count": 9,
   "metadata": {},
   "outputs": [
    {
     "data": {
      "text/html": [
       "<div>\n",
       "<style scoped>\n",
       "    .dataframe tbody tr th:only-of-type {\n",
       "        vertical-align: middle;\n",
       "    }\n",
       "\n",
       "    .dataframe tbody tr th {\n",
       "        vertical-align: top;\n",
       "    }\n",
       "\n",
       "    .dataframe thead th {\n",
       "        text-align: right;\n",
       "    }\n",
       "</style>\n",
       "<table border=\"1\" class=\"dataframe\">\n",
       "  <thead>\n",
       "    <tr style=\"text-align: right;\">\n",
       "      <th></th>\n",
       "      <th>RowNumber</th>\n",
       "      <th>CustomerId</th>\n",
       "      <th>CreditScore</th>\n",
       "      <th>Age</th>\n",
       "      <th>Tenure</th>\n",
       "      <th>Balance</th>\n",
       "      <th>NumOfProducts</th>\n",
       "      <th>HasCrCard</th>\n",
       "      <th>IsActiveMember</th>\n",
       "      <th>EstimatedSalary</th>\n",
       "      <th>Exited</th>\n",
       "    </tr>\n",
       "  </thead>\n",
       "  <tbody>\n",
       "    <tr>\n",
       "      <td>RowNumber</td>\n",
       "      <td>1.000000</td>\n",
       "      <td>0.004202</td>\n",
       "      <td>0.005840</td>\n",
       "      <td>0.000783</td>\n",
       "      <td>-0.007322</td>\n",
       "      <td>-0.009067</td>\n",
       "      <td>0.007246</td>\n",
       "      <td>0.000599</td>\n",
       "      <td>0.012044</td>\n",
       "      <td>-0.005988</td>\n",
       "      <td>-0.016571</td>\n",
       "    </tr>\n",
       "    <tr>\n",
       "      <td>CustomerId</td>\n",
       "      <td>0.004202</td>\n",
       "      <td>1.000000</td>\n",
       "      <td>0.005308</td>\n",
       "      <td>0.009497</td>\n",
       "      <td>-0.021418</td>\n",
       "      <td>-0.012419</td>\n",
       "      <td>0.016972</td>\n",
       "      <td>-0.014025</td>\n",
       "      <td>0.001665</td>\n",
       "      <td>0.015271</td>\n",
       "      <td>-0.006248</td>\n",
       "    </tr>\n",
       "    <tr>\n",
       "      <td>CreditScore</td>\n",
       "      <td>0.005840</td>\n",
       "      <td>0.005308</td>\n",
       "      <td>1.000000</td>\n",
       "      <td>-0.003965</td>\n",
       "      <td>-0.000062</td>\n",
       "      <td>0.006268</td>\n",
       "      <td>0.012238</td>\n",
       "      <td>-0.005458</td>\n",
       "      <td>0.025651</td>\n",
       "      <td>-0.001384</td>\n",
       "      <td>-0.027094</td>\n",
       "    </tr>\n",
       "    <tr>\n",
       "      <td>Age</td>\n",
       "      <td>0.000783</td>\n",
       "      <td>0.009497</td>\n",
       "      <td>-0.003965</td>\n",
       "      <td>1.000000</td>\n",
       "      <td>-0.013134</td>\n",
       "      <td>0.028308</td>\n",
       "      <td>-0.030680</td>\n",
       "      <td>-0.011721</td>\n",
       "      <td>0.085472</td>\n",
       "      <td>-0.007201</td>\n",
       "      <td>0.285323</td>\n",
       "    </tr>\n",
       "    <tr>\n",
       "      <td>Tenure</td>\n",
       "      <td>-0.007322</td>\n",
       "      <td>-0.021418</td>\n",
       "      <td>-0.000062</td>\n",
       "      <td>-0.013134</td>\n",
       "      <td>1.000000</td>\n",
       "      <td>-0.007911</td>\n",
       "      <td>0.011979</td>\n",
       "      <td>0.027232</td>\n",
       "      <td>-0.032178</td>\n",
       "      <td>0.010520</td>\n",
       "      <td>-0.016761</td>\n",
       "    </tr>\n",
       "    <tr>\n",
       "      <td>Balance</td>\n",
       "      <td>-0.009067</td>\n",
       "      <td>-0.012419</td>\n",
       "      <td>0.006268</td>\n",
       "      <td>0.028308</td>\n",
       "      <td>-0.007911</td>\n",
       "      <td>1.000000</td>\n",
       "      <td>-0.304180</td>\n",
       "      <td>-0.014858</td>\n",
       "      <td>-0.010084</td>\n",
       "      <td>0.012797</td>\n",
       "      <td>0.118533</td>\n",
       "    </tr>\n",
       "    <tr>\n",
       "      <td>NumOfProducts</td>\n",
       "      <td>0.007246</td>\n",
       "      <td>0.016972</td>\n",
       "      <td>0.012238</td>\n",
       "      <td>-0.030680</td>\n",
       "      <td>0.011979</td>\n",
       "      <td>-0.304180</td>\n",
       "      <td>1.000000</td>\n",
       "      <td>0.003183</td>\n",
       "      <td>0.009612</td>\n",
       "      <td>0.014204</td>\n",
       "      <td>-0.047820</td>\n",
       "    </tr>\n",
       "    <tr>\n",
       "      <td>HasCrCard</td>\n",
       "      <td>0.000599</td>\n",
       "      <td>-0.014025</td>\n",
       "      <td>-0.005458</td>\n",
       "      <td>-0.011721</td>\n",
       "      <td>0.027232</td>\n",
       "      <td>-0.014858</td>\n",
       "      <td>0.003183</td>\n",
       "      <td>1.000000</td>\n",
       "      <td>-0.011866</td>\n",
       "      <td>-0.009933</td>\n",
       "      <td>-0.007138</td>\n",
       "    </tr>\n",
       "    <tr>\n",
       "      <td>IsActiveMember</td>\n",
       "      <td>0.012044</td>\n",
       "      <td>0.001665</td>\n",
       "      <td>0.025651</td>\n",
       "      <td>0.085472</td>\n",
       "      <td>-0.032178</td>\n",
       "      <td>-0.010084</td>\n",
       "      <td>0.009612</td>\n",
       "      <td>-0.011866</td>\n",
       "      <td>1.000000</td>\n",
       "      <td>-0.011421</td>\n",
       "      <td>-0.156128</td>\n",
       "    </tr>\n",
       "    <tr>\n",
       "      <td>EstimatedSalary</td>\n",
       "      <td>-0.005988</td>\n",
       "      <td>0.015271</td>\n",
       "      <td>-0.001384</td>\n",
       "      <td>-0.007201</td>\n",
       "      <td>0.010520</td>\n",
       "      <td>0.012797</td>\n",
       "      <td>0.014204</td>\n",
       "      <td>-0.009933</td>\n",
       "      <td>-0.011421</td>\n",
       "      <td>1.000000</td>\n",
       "      <td>0.012097</td>\n",
       "    </tr>\n",
       "    <tr>\n",
       "      <td>Exited</td>\n",
       "      <td>-0.016571</td>\n",
       "      <td>-0.006248</td>\n",
       "      <td>-0.027094</td>\n",
       "      <td>0.285323</td>\n",
       "      <td>-0.016761</td>\n",
       "      <td>0.118533</td>\n",
       "      <td>-0.047820</td>\n",
       "      <td>-0.007138</td>\n",
       "      <td>-0.156128</td>\n",
       "      <td>0.012097</td>\n",
       "      <td>1.000000</td>\n",
       "    </tr>\n",
       "  </tbody>\n",
       "</table>\n",
       "</div>"
      ],
      "text/plain": [
       "                 RowNumber  CustomerId  CreditScore       Age    Tenure  \\\n",
       "RowNumber        1.000000   0.004202    0.005840     0.000783 -0.007322   \n",
       "CustomerId       0.004202   1.000000    0.005308     0.009497 -0.021418   \n",
       "CreditScore      0.005840   0.005308    1.000000    -0.003965 -0.000062   \n",
       "Age              0.000783   0.009497   -0.003965     1.000000 -0.013134   \n",
       "Tenure          -0.007322  -0.021418   -0.000062    -0.013134  1.000000   \n",
       "Balance         -0.009067  -0.012419    0.006268     0.028308 -0.007911   \n",
       "NumOfProducts    0.007246   0.016972    0.012238    -0.030680  0.011979   \n",
       "HasCrCard        0.000599  -0.014025   -0.005458    -0.011721  0.027232   \n",
       "IsActiveMember   0.012044   0.001665    0.025651     0.085472 -0.032178   \n",
       "EstimatedSalary -0.005988   0.015271   -0.001384    -0.007201  0.010520   \n",
       "Exited          -0.016571  -0.006248   -0.027094     0.285323 -0.016761   \n",
       "\n",
       "                  Balance  NumOfProducts  HasCrCard  IsActiveMember  \\\n",
       "RowNumber       -0.009067  0.007246       0.000599   0.012044         \n",
       "CustomerId      -0.012419  0.016972      -0.014025   0.001665         \n",
       "CreditScore      0.006268  0.012238      -0.005458   0.025651         \n",
       "Age              0.028308 -0.030680      -0.011721   0.085472         \n",
       "Tenure          -0.007911  0.011979       0.027232  -0.032178         \n",
       "Balance          1.000000 -0.304180      -0.014858  -0.010084         \n",
       "NumOfProducts   -0.304180  1.000000       0.003183   0.009612         \n",
       "HasCrCard       -0.014858  0.003183       1.000000  -0.011866         \n",
       "IsActiveMember  -0.010084  0.009612      -0.011866   1.000000         \n",
       "EstimatedSalary  0.012797  0.014204      -0.009933  -0.011421         \n",
       "Exited           0.118533 -0.047820      -0.007138  -0.156128         \n",
       "\n",
       "                 EstimatedSalary    Exited  \n",
       "RowNumber       -0.005988        -0.016571  \n",
       "CustomerId       0.015271        -0.006248  \n",
       "CreditScore     -0.001384        -0.027094  \n",
       "Age             -0.007201         0.285323  \n",
       "Tenure           0.010520        -0.016761  \n",
       "Balance          0.012797         0.118533  \n",
       "NumOfProducts    0.014204        -0.047820  \n",
       "HasCrCard       -0.009933        -0.007138  \n",
       "IsActiveMember  -0.011421        -0.156128  \n",
       "EstimatedSalary  1.000000         0.012097  \n",
       "Exited           0.012097         1.000000  "
      ]
     },
     "execution_count": 9,
     "metadata": {},
     "output_type": "execute_result"
    }
   ],
   "source": [
    "#Посмотрим на таблицу корреляции\n",
    "df.corr()"
   ]
  },
  {
   "cell_type": "code",
   "execution_count": 10,
   "metadata": {},
   "outputs": [
    {
     "data": {
      "image/png": "[encoded data removed]",
      "text/plain": [
       "<Figure size 504x504 with 1 Axes>"
      ]
     },
     "metadata": {
      "needs_background": "light"
     },
     "output_type": "display_data"
    }
   ],
   "source": [
    "\n",
    "def plot_corr(df, size=7):\n",
    "    corr = df.corr()\n",
    "    fig, ax = plt.subplots(figsize=(size,size))\n",
    "    ax.matshow(corr)\n",
    "    plt.xticks(range(len(corr.columns)), corr.columns)\n",
    "    plt.yticks(range(len(corr.columns)), corr.columns)\n",
    "plot_corr(df)"
   ]
  },
  {
   "cell_type": "markdown",
   "metadata": {},
   "source": [
    "Как видим из графика взаимосвязей никаких нет"
   ]
  },
  {
   "cell_type": "markdown",
   "metadata": {},
   "source": [
    "Датафрейм df содержит следующие столбцы\n",
    "\n",
    "Признаки:\n",
    "\n",
    "- индекс строки в данных\n",
    "\n",
    "- уникальный идентификатор клиента\n",
    "\n",
    "- фамилия\n",
    "\n",
    "- кредитный рейтинг\n",
    "\n",
    "- страна проживания\n",
    "\n",
    "- пол\n",
    "\n",
    "- возраст\n",
    "\n",
    "- количество недвижимости у клиента\n",
    "\n",
    "- баланс на счёте\n",
    "\n",
    "- количество продуктов банка, используемых клиентом\n",
    "\n",
    "- наличие кредитной карты\n",
    "\n",
    "- активность клиента\n",
    "\n",
    "- предполагаемая зарплата\n",
    "\n",
    "Целевой признак - факт ухода клиента («ушел» — 1, «не ушел» — 0). В этом заключается наша задача классификации, т.к. целевой признак является категориальным.\n",
    "\n",
    "Первые три столбца не должны повлиять на принятие решения по уходу из банка, и их можно будет удалить из датасета \n",
    "\n",
    "Масштаб признаков разный, поэтому, перед тем как приступить к обучению модели, необходимо их масштабировать.\n"
   ]
  },
  {
   "cell_type": "markdown",
   "metadata": {},
   "source": [
    "В датасете имеются как категориальные так и количественные признаки"
   ]
  },
  {
   "cell_type": "markdown",
   "metadata": {},
   "source": [
    "Выполним предоработку:"
   ]
  },
  {
   "cell_type": "code",
   "execution_count": 11,
   "metadata": {},
   "outputs": [
    {
     "data": {
      "text/html": [
       "<div>\n",
       "<style scoped>\n",
       "    .dataframe tbody tr th:only-of-type {\n",
       "        vertical-align: middle;\n",
       "    }\n",
       "\n",
       "    .dataframe tbody tr th {\n",
       "        vertical-align: top;\n",
       "    }\n",
       "\n",
       "    .dataframe thead th {\n",
       "        text-align: right;\n",
       "    }\n",
       "</style>\n",
       "<table border=\"1\" class=\"dataframe\">\n",
       "  <thead>\n",
       "    <tr style=\"text-align: right;\">\n",
       "      <th></th>\n",
       "      <th>row_number</th>\n",
       "      <th>customer_id</th>\n",
       "      <th>surname</th>\n",
       "      <th>credit_score</th>\n",
       "      <th>geography</th>\n",
       "      <th>gender</th>\n",
       "      <th>age</th>\n",
       "      <th>tenure</th>\n",
       "      <th>balance</th>\n",
       "      <th>num_of_products</th>\n",
       "      <th>has_cr_card</th>\n",
       "      <th>is_active_member</th>\n",
       "      <th>estimated_salary</th>\n",
       "      <th>exited</th>\n",
       "    </tr>\n",
       "  </thead>\n",
       "  <tbody>\n",
       "    <tr>\n",
       "      <td>0</td>\n",
       "      <td>1</td>\n",
       "      <td>15634602</td>\n",
       "      <td>Hargrave</td>\n",
       "      <td>619</td>\n",
       "      <td>France</td>\n",
       "      <td>Female</td>\n",
       "      <td>42</td>\n",
       "      <td>2.0</td>\n",
       "      <td>0.00</td>\n",
       "      <td>1</td>\n",
       "      <td>1</td>\n",
       "      <td>1</td>\n",
       "      <td>101348.88</td>\n",
       "      <td>1</td>\n",
       "    </tr>\n",
       "    <tr>\n",
       "      <td>1</td>\n",
       "      <td>2</td>\n",
       "      <td>15647311</td>\n",
       "      <td>Hill</td>\n",
       "      <td>608</td>\n",
       "      <td>Spain</td>\n",
       "      <td>Female</td>\n",
       "      <td>41</td>\n",
       "      <td>1.0</td>\n",
       "      <td>83807.86</td>\n",
       "      <td>1</td>\n",
       "      <td>0</td>\n",
       "      <td>1</td>\n",
       "      <td>112542.58</td>\n",
       "      <td>0</td>\n",
       "    </tr>\n",
       "    <tr>\n",
       "      <td>2</td>\n",
       "      <td>3</td>\n",
       "      <td>15619304</td>\n",
       "      <td>Onio</td>\n",
       "      <td>502</td>\n",
       "      <td>France</td>\n",
       "      <td>Female</td>\n",
       "      <td>42</td>\n",
       "      <td>8.0</td>\n",
       "      <td>159660.80</td>\n",
       "      <td>3</td>\n",
       "      <td>1</td>\n",
       "      <td>0</td>\n",
       "      <td>113931.57</td>\n",
       "      <td>1</td>\n",
       "    </tr>\n",
       "    <tr>\n",
       "      <td>3</td>\n",
       "      <td>4</td>\n",
       "      <td>15701354</td>\n",
       "      <td>Boni</td>\n",
       "      <td>699</td>\n",
       "      <td>France</td>\n",
       "      <td>Female</td>\n",
       "      <td>39</td>\n",
       "      <td>1.0</td>\n",
       "      <td>0.00</td>\n",
       "      <td>2</td>\n",
       "      <td>0</td>\n",
       "      <td>0</td>\n",
       "      <td>93826.63</td>\n",
       "      <td>0</td>\n",
       "    </tr>\n",
       "    <tr>\n",
       "      <td>4</td>\n",
       "      <td>5</td>\n",
       "      <td>15737888</td>\n",
       "      <td>Mitchell</td>\n",
       "      <td>850</td>\n",
       "      <td>Spain</td>\n",
       "      <td>Female</td>\n",
       "      <td>43</td>\n",
       "      <td>2.0</td>\n",
       "      <td>125510.82</td>\n",
       "      <td>1</td>\n",
       "      <td>1</td>\n",
       "      <td>1</td>\n",
       "      <td>79084.10</td>\n",
       "      <td>0</td>\n",
       "    </tr>\n",
       "  </tbody>\n",
       "</table>\n",
       "</div>"
      ],
      "text/plain": [
       "   row_number  customer_id   surname  credit_score geography  gender  age  \\\n",
       "0  1           15634602     Hargrave  619           France    Female  42    \n",
       "1  2           15647311     Hill      608           Spain     Female  41    \n",
       "2  3           15619304     Onio      502           France    Female  42    \n",
       "3  4           15701354     Boni      699           France    Female  39    \n",
       "4  5           15737888     Mitchell  850           Spain     Female  43    \n",
       "\n",
       "   tenure    balance  num_of_products  has_cr_card  is_active_member  \\\n",
       "0  2.0     0.00       1                1            1                  \n",
       "1  1.0     83807.86   1                0            1                  \n",
       "2  8.0     159660.80  3                1            0                  \n",
       "3  1.0     0.00       2                0            0                  \n",
       "4  2.0     125510.82  1                1            1                  \n",
       "\n",
       "   estimated_salary  exited  \n",
       "0  101348.88         1       \n",
       "1  112542.58         0       \n",
       "2  113931.57         1       \n",
       "3  93826.63          0       \n",
       "4  79084.10          0       "
      ]
     },
     "execution_count": 11,
     "metadata": {},
     "output_type": "execute_result"
    }
   ],
   "source": [
    "#отделим слова нижним подчёркиванием, регистр текста заменим на нижний.\n",
    "df.columns = df.columns.str.replace(r\"([A-Z])\", r\" \\1\").str.lower().str.replace(' ', '_').str[1:]\n",
    "df.head()"
   ]
  },
  {
   "cell_type": "markdown",
   "metadata": {},
   "source": [
    "Удалим столбцы, в которых нет необходимости"
   ]
  },
  {
   "cell_type": "code",
   "execution_count": 12,
   "metadata": {},
   "outputs": [],
   "source": [
    "df = df.drop(['row_number','customer_id','surname'], axis=1)"
   ]
  },
  {
   "cell_type": "code",
   "execution_count": 13,
   "metadata": {},
   "outputs": [
    {
     "data": {
      "text/plain": [
       "0"
      ]
     },
     "execution_count": 13,
     "metadata": {},
     "output_type": "execute_result"
    }
   ],
   "source": [
    "#изменим тип данных у столбца  tenure и заполним пустые значения с помощью SimpleImputer из библиотеки sklearn\n",
    "df['tenure'] = df['tenure'].replace(np.NaN, None).astype(int,errors='ignore').astype(object)\n",
    "imputer = SimpleImputer(strategy='constant')\n",
    "imp_data = pd.DataFrame(imputer.fit_transform(df))\n",
    "imp_data.columns = df.columns\n",
    "\n",
    "#проверим как сработал SimpleImputer\n",
    "df['tenure'].isnull().sum()\n"
   ]
  },
  {
   "cell_type": "code",
   "execution_count": 14,
   "metadata": {},
   "outputs": [
    {
     "data": {
      "text/plain": [
       "array([2, 1, 8, 7, 4, 6, 3, 10, 5, 9, 0], dtype=object)"
      ]
     },
     "execution_count": 14,
     "metadata": {},
     "output_type": "execute_result"
    }
   ],
   "source": [
    "df['tenure'].unique()"
   ]
  },
  {
   "cell_type": "code",
   "execution_count": 15,
   "metadata": {},
   "outputs": [
    {
     "data": {
      "text/plain": [
       "0"
      ]
     },
     "execution_count": 15,
     "metadata": {},
     "output_type": "execute_result"
    }
   ],
   "source": [
    "df['tenure'].isna().sum()"
   ]
  },
  {
   "cell_type": "code",
   "execution_count": 16,
   "metadata": {},
   "outputs": [],
   "source": [
    "#Проведем кодирование с помощью OHE\n",
    "df = pd.get_dummies(df, drop_first=True)\n",
    "\n",
    "#Стандартизируем признаки с помощью StandardScaler\n",
    "scaler = StandardScaler()\n",
    "numeric = ['credit_score', 'age', 'balance', 'estimated_salary']\n",
    "scaler.fit(df[numeric])\n",
    "df[numeric] = scaler.transform(df[numeric])"
   ]
  },
  {
   "cell_type": "code",
   "execution_count": 17,
   "metadata": {},
   "outputs": [
    {
     "data": {
      "text/html": [
       "<div>\n",
       "<style scoped>\n",
       "    .dataframe tbody tr th:only-of-type {\n",
       "        vertical-align: middle;\n",
       "    }\n",
       "\n",
       "    .dataframe tbody tr th {\n",
       "        vertical-align: top;\n",
       "    }\n",
       "\n",
       "    .dataframe thead th {\n",
       "        text-align: right;\n",
       "    }\n",
       "</style>\n",
       "<table border=\"1\" class=\"dataframe\">\n",
       "  <thead>\n",
       "    <tr style=\"text-align: right;\">\n",
       "      <th></th>\n",
       "      <th>credit_score</th>\n",
       "      <th>age</th>\n",
       "      <th>balance</th>\n",
       "      <th>num_of_products</th>\n",
       "      <th>has_cr_card</th>\n",
       "      <th>is_active_member</th>\n",
       "      <th>estimated_salary</th>\n",
       "      <th>exited</th>\n",
       "      <th>geography_Germany</th>\n",
       "      <th>geography_Spain</th>\n",
       "      <th>...</th>\n",
       "      <th>tenure_1</th>\n",
       "      <th>tenure_2</th>\n",
       "      <th>tenure_3</th>\n",
       "      <th>tenure_4</th>\n",
       "      <th>tenure_5</th>\n",
       "      <th>tenure_6</th>\n",
       "      <th>tenure_7</th>\n",
       "      <th>tenure_8</th>\n",
       "      <th>tenure_9</th>\n",
       "      <th>tenure_10</th>\n",
       "    </tr>\n",
       "  </thead>\n",
       "  <tbody>\n",
       "    <tr>\n",
       "      <td>0</td>\n",
       "      <td>-0.326221</td>\n",
       "      <td>0.293517</td>\n",
       "      <td>-1.225848</td>\n",
       "      <td>1</td>\n",
       "      <td>1</td>\n",
       "      <td>1</td>\n",
       "      <td>0.021886</td>\n",
       "      <td>1</td>\n",
       "      <td>0</td>\n",
       "      <td>0</td>\n",
       "      <td>...</td>\n",
       "      <td>0</td>\n",
       "      <td>1</td>\n",
       "      <td>0</td>\n",
       "      <td>0</td>\n",
       "      <td>0</td>\n",
       "      <td>0</td>\n",
       "      <td>0</td>\n",
       "      <td>0</td>\n",
       "      <td>0</td>\n",
       "      <td>0</td>\n",
       "    </tr>\n",
       "    <tr>\n",
       "      <td>1</td>\n",
       "      <td>-0.440036</td>\n",
       "      <td>0.198164</td>\n",
       "      <td>0.117350</td>\n",
       "      <td>1</td>\n",
       "      <td>0</td>\n",
       "      <td>1</td>\n",
       "      <td>0.216534</td>\n",
       "      <td>0</td>\n",
       "      <td>0</td>\n",
       "      <td>1</td>\n",
       "      <td>...</td>\n",
       "      <td>1</td>\n",
       "      <td>0</td>\n",
       "      <td>0</td>\n",
       "      <td>0</td>\n",
       "      <td>0</td>\n",
       "      <td>0</td>\n",
       "      <td>0</td>\n",
       "      <td>0</td>\n",
       "      <td>0</td>\n",
       "      <td>0</td>\n",
       "    </tr>\n",
       "    <tr>\n",
       "      <td>2</td>\n",
       "      <td>-1.536794</td>\n",
       "      <td>0.293517</td>\n",
       "      <td>1.333053</td>\n",
       "      <td>3</td>\n",
       "      <td>1</td>\n",
       "      <td>0</td>\n",
       "      <td>0.240687</td>\n",
       "      <td>1</td>\n",
       "      <td>0</td>\n",
       "      <td>0</td>\n",
       "      <td>...</td>\n",
       "      <td>0</td>\n",
       "      <td>0</td>\n",
       "      <td>0</td>\n",
       "      <td>0</td>\n",
       "      <td>0</td>\n",
       "      <td>0</td>\n",
       "      <td>0</td>\n",
       "      <td>1</td>\n",
       "      <td>0</td>\n",
       "      <td>0</td>\n",
       "    </tr>\n",
       "    <tr>\n",
       "      <td>3</td>\n",
       "      <td>0.501521</td>\n",
       "      <td>0.007457</td>\n",
       "      <td>-1.225848</td>\n",
       "      <td>2</td>\n",
       "      <td>0</td>\n",
       "      <td>0</td>\n",
       "      <td>-0.108918</td>\n",
       "      <td>0</td>\n",
       "      <td>0</td>\n",
       "      <td>0</td>\n",
       "      <td>...</td>\n",
       "      <td>1</td>\n",
       "      <td>0</td>\n",
       "      <td>0</td>\n",
       "      <td>0</td>\n",
       "      <td>0</td>\n",
       "      <td>0</td>\n",
       "      <td>0</td>\n",
       "      <td>0</td>\n",
       "      <td>0</td>\n",
       "      <td>0</td>\n",
       "    </tr>\n",
       "    <tr>\n",
       "      <td>4</td>\n",
       "      <td>2.063884</td>\n",
       "      <td>0.388871</td>\n",
       "      <td>0.785728</td>\n",
       "      <td>1</td>\n",
       "      <td>1</td>\n",
       "      <td>1</td>\n",
       "      <td>-0.365276</td>\n",
       "      <td>0</td>\n",
       "      <td>0</td>\n",
       "      <td>1</td>\n",
       "      <td>...</td>\n",
       "      <td>0</td>\n",
       "      <td>1</td>\n",
       "      <td>0</td>\n",
       "      <td>0</td>\n",
       "      <td>0</td>\n",
       "      <td>0</td>\n",
       "      <td>0</td>\n",
       "      <td>0</td>\n",
       "      <td>0</td>\n",
       "      <td>0</td>\n",
       "    </tr>\n",
       "    <tr>\n",
       "      <td>...</td>\n",
       "      <td>...</td>\n",
       "      <td>...</td>\n",
       "      <td>...</td>\n",
       "      <td>...</td>\n",
       "      <td>...</td>\n",
       "      <td>...</td>\n",
       "      <td>...</td>\n",
       "      <td>...</td>\n",
       "      <td>...</td>\n",
       "      <td>...</td>\n",
       "      <td>...</td>\n",
       "      <td>...</td>\n",
       "      <td>...</td>\n",
       "      <td>...</td>\n",
       "      <td>...</td>\n",
       "      <td>...</td>\n",
       "      <td>...</td>\n",
       "      <td>...</td>\n",
       "      <td>...</td>\n",
       "      <td>...</td>\n",
       "      <td>...</td>\n",
       "    </tr>\n",
       "    <tr>\n",
       "      <td>9995</td>\n",
       "      <td>1.246488</td>\n",
       "      <td>0.007457</td>\n",
       "      <td>-1.225848</td>\n",
       "      <td>2</td>\n",
       "      <td>1</td>\n",
       "      <td>0</td>\n",
       "      <td>-0.066419</td>\n",
       "      <td>0</td>\n",
       "      <td>0</td>\n",
       "      <td>0</td>\n",
       "      <td>...</td>\n",
       "      <td>0</td>\n",
       "      <td>0</td>\n",
       "      <td>0</td>\n",
       "      <td>0</td>\n",
       "      <td>1</td>\n",
       "      <td>0</td>\n",
       "      <td>0</td>\n",
       "      <td>0</td>\n",
       "      <td>0</td>\n",
       "      <td>0</td>\n",
       "    </tr>\n",
       "    <tr>\n",
       "      <td>9996</td>\n",
       "      <td>-1.391939</td>\n",
       "      <td>-0.373958</td>\n",
       "      <td>-0.306379</td>\n",
       "      <td>1</td>\n",
       "      <td>1</td>\n",
       "      <td>1</td>\n",
       "      <td>0.027988</td>\n",
       "      <td>0</td>\n",
       "      <td>0</td>\n",
       "      <td>0</td>\n",
       "      <td>...</td>\n",
       "      <td>0</td>\n",
       "      <td>0</td>\n",
       "      <td>0</td>\n",
       "      <td>0</td>\n",
       "      <td>0</td>\n",
       "      <td>0</td>\n",
       "      <td>0</td>\n",
       "      <td>0</td>\n",
       "      <td>0</td>\n",
       "      <td>1</td>\n",
       "    </tr>\n",
       "    <tr>\n",
       "      <td>9997</td>\n",
       "      <td>0.604988</td>\n",
       "      <td>-0.278604</td>\n",
       "      <td>-1.225848</td>\n",
       "      <td>1</td>\n",
       "      <td>0</td>\n",
       "      <td>1</td>\n",
       "      <td>-1.008643</td>\n",
       "      <td>1</td>\n",
       "      <td>0</td>\n",
       "      <td>0</td>\n",
       "      <td>...</td>\n",
       "      <td>0</td>\n",
       "      <td>0</td>\n",
       "      <td>0</td>\n",
       "      <td>0</td>\n",
       "      <td>0</td>\n",
       "      <td>0</td>\n",
       "      <td>1</td>\n",
       "      <td>0</td>\n",
       "      <td>0</td>\n",
       "      <td>0</td>\n",
       "    </tr>\n",
       "    <tr>\n",
       "      <td>9998</td>\n",
       "      <td>1.256835</td>\n",
       "      <td>0.293517</td>\n",
       "      <td>-0.022608</td>\n",
       "      <td>2</td>\n",
       "      <td>1</td>\n",
       "      <td>0</td>\n",
       "      <td>-0.125231</td>\n",
       "      <td>1</td>\n",
       "      <td>1</td>\n",
       "      <td>0</td>\n",
       "      <td>...</td>\n",
       "      <td>0</td>\n",
       "      <td>0</td>\n",
       "      <td>1</td>\n",
       "      <td>0</td>\n",
       "      <td>0</td>\n",
       "      <td>0</td>\n",
       "      <td>0</td>\n",
       "      <td>0</td>\n",
       "      <td>0</td>\n",
       "      <td>0</td>\n",
       "    </tr>\n",
       "    <tr>\n",
       "      <td>9999</td>\n",
       "      <td>1.463771</td>\n",
       "      <td>-1.041433</td>\n",
       "      <td>0.859965</td>\n",
       "      <td>1</td>\n",
       "      <td>1</td>\n",
       "      <td>0</td>\n",
       "      <td>-1.076370</td>\n",
       "      <td>0</td>\n",
       "      <td>0</td>\n",
       "      <td>0</td>\n",
       "      <td>...</td>\n",
       "      <td>0</td>\n",
       "      <td>0</td>\n",
       "      <td>1</td>\n",
       "      <td>0</td>\n",
       "      <td>0</td>\n",
       "      <td>0</td>\n",
       "      <td>0</td>\n",
       "      <td>0</td>\n",
       "      <td>0</td>\n",
       "      <td>0</td>\n",
       "    </tr>\n",
       "  </tbody>\n",
       "</table>\n",
       "<p>10000 rows × 21 columns</p>\n",
       "</div>"
      ],
      "text/plain": [
       "      credit_score       age   balance  num_of_products  has_cr_card  \\\n",
       "0    -0.326221      0.293517 -1.225848  1                1             \n",
       "1    -0.440036      0.198164  0.117350  1                0             \n",
       "2    -1.536794      0.293517  1.333053  3                1             \n",
       "3     0.501521      0.007457 -1.225848  2                0             \n",
       "4     2.063884      0.388871  0.785728  1                1             \n",
       "...        ...           ...       ... ..               ..             \n",
       "9995  1.246488      0.007457 -1.225848  2                1             \n",
       "9996 -1.391939     -0.373958 -0.306379  1                1             \n",
       "9997  0.604988     -0.278604 -1.225848  1                0             \n",
       "9998  1.256835      0.293517 -0.022608  2                1             \n",
       "9999  1.463771     -1.041433  0.859965  1                1             \n",
       "\n",
       "      is_active_member  estimated_salary  exited  geography_Germany  \\\n",
       "0     1                 0.021886          1       0                   \n",
       "1     1                 0.216534          0       0                   \n",
       "2     0                 0.240687          1       0                   \n",
       "3     0                -0.108918          0       0                   \n",
       "4     1                -0.365276          0       0                   \n",
       "...  ..                      ...         ..      ..                   \n",
       "9995  0                -0.066419          0       0                   \n",
       "9996  1                 0.027988          0       0                   \n",
       "9997  1                -1.008643          1       0                   \n",
       "9998  0                -0.125231          1       1                   \n",
       "9999  0                -1.076370          0       0                   \n",
       "\n",
       "      geography_Spain  ...  tenure_1  tenure_2  tenure_3  tenure_4  tenure_5  \\\n",
       "0     0                ...  0         1         0         0         0          \n",
       "1     1                ...  1         0         0         0         0          \n",
       "2     0                ...  0         0         0         0         0          \n",
       "3     0                ...  1         0         0         0         0          \n",
       "4     1                ...  0         1         0         0         0          \n",
       "...  ..                ... ..        ..        ..        ..        ..          \n",
       "9995  0                ...  0         0         0         0         1          \n",
       "9996  0                ...  0         0         0         0         0          \n",
       "9997  0                ...  0         0         0         0         0          \n",
       "9998  0                ...  0         0         1         0         0          \n",
       "9999  0                ...  0         0         1         0         0          \n",
       "\n",
       "      tenure_6  tenure_7  tenure_8  tenure_9  tenure_10  \n",
       "0     0         0         0         0         0          \n",
       "1     0         0         0         0         0          \n",
       "2     0         0         1         0         0          \n",
       "3     0         0         0         0         0          \n",
       "4     0         0         0         0         0          \n",
       "...  ..        ..        ..        ..        ..          \n",
       "9995  0         0         0         0         0          \n",
       "9996  0         0         0         0         1          \n",
       "9997  0         1         0         0         0          \n",
       "9998  0         0         0         0         0          \n",
       "9999  0         0         0         0         0          \n",
       "\n",
       "[10000 rows x 21 columns]"
      ]
     },
     "execution_count": 17,
     "metadata": {},
     "output_type": "execute_result"
    }
   ],
   "source": [
    "df"
   ]
  },
  {
   "cell_type": "code",
   "execution_count": 18,
   "metadata": {},
   "outputs": [
    {
     "name": "stdout",
     "output_type": "stream",
     "text": [
      "Размер обучающей выборки: 6000\n",
      "Размер валидационной выборки: 2000\n",
      "Размер тестовой выборки: 2000\n"
     ]
    }
   ],
   "source": [
    "#Разделим наш датасет на выборки в соотношении 3:1:1 и посмотрим их размер\n",
    "X = df.drop(['exited'], axis=1)\n",
    "y = df['exited']\n",
    "\n",
    "X_train, X_valid, y_train, y_valid = train_test_split(X, y, train_size=0.6, test_size=0.4, random_state=12345)\n",
    "X_test, X_valid, y_test, y_valid = train_test_split(X_valid, y_valid, test_size=0.5, random_state=12345)\n",
    "\n",
    "print('Размер обучающей выборки:', X_train.shape[0])\n",
    "print('Размер валидационной выборки:', X_valid.shape[0])\n",
    "print('Размер тестовой выборки:',X_test.shape[0])"
   ]
  },
  {
   "cell_type": "markdown",
   "metadata": {},
   "source": [
    "**Вывод**\n",
    "\n",
    " - изучили данные\n",
    " - нашли пустые значения в столбце tenure, заполнили их с помощью SimpleImputer\n",
    " - дубликатов не выявили\n",
    " - изучили  матрицу корреляции, никаких взаимосвязей потенциально мешающим будущим моделям не выявили\n",
    " - провели кодирование и стандартизировали \n",
    " - разделили наш датасет на выборки : обучающую, валидационную и тестовую в соотношении 3:1:1"
   ]
  },
  {
   "cell_type": "markdown",
   "metadata": {},
   "source": [
    "## Исследование задачи"
   ]
  },
  {
   "cell_type": "markdown",
   "metadata": {},
   "source": [
    "В рамках проекта нам предстоит решить задачу бинарной классификации: спрогнозировать, уйдёт клиент из банка в ближайшее время или нет. \n",
    "\n",
    "Перед тем, как приступить к задаче, необходимо:\n",
    "\n",
    " - исследовать баланс классов\n",
    " - обучить модели без учёта дисбаланса.\n",
    "\n",
    "Проверим баланс классов."
   ]
  },
  {
   "cell_type": "code",
   "execution_count": 19,
   "metadata": {},
   "outputs": [
    {
     "data": {
      "text/html": [
       "<div>\n",
       "<style scoped>\n",
       "    .dataframe tbody tr th:only-of-type {\n",
       "        vertical-align: middle;\n",
       "    }\n",
       "\n",
       "    .dataframe tbody tr th {\n",
       "        vertical-align: top;\n",
       "    }\n",
       "\n",
       "    .dataframe thead th {\n",
       "        text-align: right;\n",
       "    }\n",
       "</style>\n",
       "<table border=\"1\" class=\"dataframe\">\n",
       "  <thead>\n",
       "    <tr style=\"text-align: right;\">\n",
       "      <th></th>\n",
       "      <th>Boolean</th>\n",
       "      <th>Count</th>\n",
       "      <th>Percentage</th>\n",
       "    </tr>\n",
       "  </thead>\n",
       "  <tbody>\n",
       "    <tr>\n",
       "      <td>0</td>\n",
       "      <td>0</td>\n",
       "      <td>7963</td>\n",
       "      <td>0.7963</td>\n",
       "    </tr>\n",
       "    <tr>\n",
       "      <td>1</td>\n",
       "      <td>1</td>\n",
       "      <td>2037</td>\n",
       "      <td>0.2037</td>\n",
       "    </tr>\n",
       "  </tbody>\n",
       "</table>\n",
       "</div>"
      ],
      "text/plain": [
       "   Boolean  Count  Percentage\n",
       "0  0        7963   0.7963    \n",
       "1  1        2037   0.2037    "
      ]
     },
     "execution_count": 19,
     "metadata": {},
     "output_type": "execute_result"
    }
   ],
   "source": [
    "values = df['exited'].value_counts()\n",
    "values = values.to_frame().reset_index()\n",
    "values.columns = ['Boolean', 'Count']\n",
    "values['Percentage'] = df['exited'].value_counts(normalize=True)\n",
    "pd.DataFrame(values)\n",
    "values"
   ]
  },
  {
   "cell_type": "markdown",
   "metadata": {},
   "source": [
    "Классы не сбалансированы.\n",
    "\n",
    "Обучим разные модели без учёта дисбаланса. Так как нам предстоит решить задачу бинарной классификации, рассмотрим следующие модели:"
   ]
  },
  {
   "cell_type": "code",
   "execution_count": 20,
   "metadata": {},
   "outputs": [
    {
     "name": "stdout",
     "output_type": "stream",
     "text": [
      "Accuracy is: 0.8385\n",
      "F1_Score is: 0.49922480620155035\n"
     ]
    },
    {
     "data": {
      "text/plain": [
       "array([[1516,   61],\n",
       "       [ 262,  161]])"
      ]
     },
     "execution_count": 20,
     "metadata": {},
     "output_type": "execute_result"
    }
   ],
   "source": [
    "# Модель RandomForestClassifier со стандартными параметрами\n",
    "model = RandomForestClassifier(random_state=12345)\n",
    "model.fit(X_train, y_train)\n",
    "predicted_valid = model.predict(X_valid)\n",
    "accuracy_valid = accuracy_score(predicted_valid, y_valid)\n",
    "print('Accuracy is:', accuracy_valid)\n",
    "print('F1_Score is:', f1_score(y_valid, predicted_valid))\n",
    "confusion_matrix(y_valid, predicted_valid)"
   ]
  },
  {
   "cell_type": "code",
   "execution_count": 21,
   "metadata": {},
   "outputs": [
    {
     "name": "stdout",
     "output_type": "stream",
     "text": [
      "Accuracy is: 0.789\n",
      "F1_Score is: 0.2673611111111111\n"
     ]
    },
    {
     "data": {
      "text/plain": [
       "array([[1501,   76],\n",
       "       [ 346,   77]])"
      ]
     },
     "execution_count": 21,
     "metadata": {},
     "output_type": "execute_result"
    }
   ],
   "source": [
    "# Модель logisticRegression со стандартными параметрами\n",
    "model = LogisticRegression(random_state=12345, solver='liblinear')\n",
    "model.fit(X_train, y_train)\n",
    "predicted_valid = model.predict(X_valid)\n",
    "accuracy_valid = accuracy_score(predicted_valid, y_valid)\n",
    "print('Accuracy is:', accuracy_valid)\n",
    "print('F1_Score is:', f1_score(y_valid, predicted_valid))\n",
    "\n",
    "confusion_matrix(y_valid, predicted_valid)"
   ]
  },
  {
   "cell_type": "markdown",
   "metadata": {},
   "source": [
    "**Вывод**\n",
    "\n",
    "RandomForestClassifier показывает наилучшие результаты, будем работать с данной  моделью и попытаемся ее улучшить"
   ]
  },
  {
   "cell_type": "markdown",
   "metadata": {},
   "source": [
    "## Борьба с дисбалансом"
   ]
  },
  {
   "cell_type": "markdown",
   "metadata": {},
   "source": [
    "Существует несколько способов борьбы с дисбалансом, в рамках данного проекта применим следующие:\n",
    "\n",
    " - взвешивание классов (объектам редкого класса придается больший вес)\n",
    " - увеличение выборки (upsampling)\n",
    " - уменьшение выборки (downsampling)."
   ]
  },
  {
   "cell_type": "code",
   "execution_count": 22,
   "metadata": {},
   "outputs": [
    {
     "name": "stdout",
     "output_type": "stream",
     "text": [
      "Depth:     1       |   Estimators:     1\n",
      "Accuracy: 0.6785   |   F1_Score: 0.4819\n",
      "Depth:     1       |   Estimators:    51\n",
      "Accuracy: 0.7375   |   F1_Score: 0.4937\n",
      "Depth:     1       |   Estimators:   101\n",
      "Accuracy: 0.7345   |   F1_Score: 0.5238\n",
      "Depth:    11       |   Estimators:     1\n",
      "Accuracy: 0.7665   |   F1_Score: 0.5353\n",
      "Depth:    11       |   Estimators:    51\n",
      "Accuracy: 0.8350   |   F1_Score: 0.6034\n",
      "Depth:    11       |   Estimators:   101\n",
      "Accuracy: 0.8380   |   F1_Score: 0.6029\n",
      "Depth:    21       |   Estimators:     1\n",
      "Accuracy: 0.7605   |   F1_Score: 0.4437\n",
      "Depth:    21       |   Estimators:    51\n",
      "Accuracy: 0.8420   |   F1_Score: 0.5108\n",
      "Depth:    21       |   Estimators:   101\n",
      "Accuracy: 0.8425   |   F1_Score: 0.5116\n"
     ]
    }
   ],
   "source": [
    "#class_weight='balanced'\n",
    "for depth,estimator in itertools.product(range(1,30,10), range(1,151,50)):\n",
    "    model = RandomForestClassifier(random_state=12345, max_depth=depth, n_estimators=estimator, class_weight='balanced')\n",
    "    model.fit(X_train, y_train)\n",
    "    predictions = model.predict(X_valid)\n",
    "    score = accuracy_score(predictions, y_valid)\n",
    "    fscore = f1_score(y_valid, predictions)\n",
    "    print('Depth: {: >5.0f}       |   Estimators: {:>5.0f}'.format(depth, estimator))\n",
    "    print('Accuracy: {: >5.4f}   |   F1_Score: {: >5.4f}'.format(score,fscore))\n"
   ]
  },
  {
   "cell_type": "markdown",
   "metadata": {},
   "source": [
    "При глубине деревьев 11 и числе деревьев 51  F1_score показывает наилучший результат : 0.6034 и accuracy_score : 0.8350. \n",
    "\n"
   ]
  },
  {
   "cell_type": "code",
   "execution_count": 23,
   "metadata": {},
   "outputs": [
    {
     "name": "stdout",
     "output_type": "stream",
     "text": [
      "F1_Score: 0.496  |   Repeats :     1\n",
      "F1_Score: 0.528  |   Repeats :     2\n",
      "F1_Score: 0.506  |   Repeats :     3\n",
      "F1_Score: 0.549  |   Repeats :     4\n",
      "F1_Score: 0.533  |   Repeats :     5\n",
      "F1_Score: 0.500  |   Repeats :     6\n",
      "F1_Score: 0.524  |   Repeats :     7\n",
      "F1_Score: 0.525  |   Repeats :     8\n",
      "F1_Score: 0.526  |   Repeats :     9\n"
     ]
    }
   ],
   "source": [
    "#увеличение выборки\n",
    "\n",
    "def upsampling(features, target, repeat):\n",
    "    X_zeros = X_train[y_train == 0]\n",
    "    X_ones = X_train[y_train == 1]\n",
    "    y_zeros = y_train[y_train == 0]\n",
    "    y_ones = y_train[y_train == 1]\n",
    "\n",
    "    X_upsampled = pd.concat([X_zeros] + [X_ones] * repeat)\n",
    "    y_upsampled = pd.concat([y_zeros] + [y_ones] * repeat)\n",
    "    \n",
    "    X_upsampled, y_upsampled = shuffle(X_upsampled, y_upsampled, random_state=12345)\n",
    "    \n",
    "    return X_upsampled, y_upsampled\n",
    "\n",
    "\n",
    "for repeat in range(1,10,1):\n",
    "    X_upsampled, y_upsampled = upsampling(X_train, y_train, repeat)\n",
    "\n",
    "    model = RandomForestClassifier(random_state=12345)\n",
    "    model.fit(X_upsampled, y_upsampled)\n",
    "    predictions = model.predict(X_valid)\n",
    "    print(\"F1_Score: {: >5.3f}  |   Repeats : {: >5.0f}\".format(f1_score(y_valid, predictions),repeat))"
   ]
  },
  {
   "cell_type": "markdown",
   "metadata": {},
   "source": [
    "Не добились показателя лучше предыдущего, уменьшим выборку"
   ]
  },
  {
   "cell_type": "code",
   "execution_count": 24,
   "metadata": {},
   "outputs": [
    {
     "name": "stdout",
     "output_type": "stream",
     "text": [
      "F1_Score: 0.374  |  Fractions : 0.030\n",
      "F1_Score: 0.438  |  Fractions : 0.060\n",
      "F1_Score: 0.473  |  Fractions : 0.090\n",
      "F1_Score: 0.489  |  Fractions : 0.120\n",
      "F1_Score: 0.503  |  Fractions : 0.150\n",
      "F1_Score: 0.542  |  Fractions : 0.180\n",
      "F1_Score: 0.535  |  Fractions : 0.210\n",
      "F1_Score: 0.557  |  Fractions : 0.240\n",
      "F1_Score: 0.534  |  Fractions : 0.270\n",
      "F1_Score: 0.568  |  Fractions : 0.300\n"
     ]
    }
   ],
   "source": [
    "#уменьшение выборки\n",
    "\n",
    "def downsampling(X, y, fraction):\n",
    "    X_zeros = X[y == 0]\n",
    "    X_ones = X[y == 1]\n",
    "    y_zeros = y[y == 0]\n",
    "    y_ones = y[y == 1]\n",
    "\n",
    "    X_downsampled = pd.concat(\n",
    "        [X_zeros.sample(frac=fraction, random_state=12345)] + [X_ones])\n",
    "    y_downsampled = pd.concat(\n",
    "        [y_zeros.sample(frac=fraction, random_state=12345)] + [y_ones])\n",
    "    \n",
    "    X_downsampled, y_downsampled = shuffle(\n",
    "        X_downsampled, y_downsampled, random_state=12345)\n",
    "    \n",
    "    return X_downsampled, y_downsampled\n",
    "\n",
    "for i in np.arange(0.03, 0.31, 0.03):\n",
    "    X_downsampled, y_downsampled = downsampling(X_train, y_train, i)\n",
    "    model = RandomForestClassifier(random_state=12345)\n",
    "    model.fit(X_downsampled, y_downsampled)\n",
    "    predictions = model.predict(X_valid)\n",
    "    print(\"F1_Score: {: >5.3f}  |  Fractions : {: >5.3f}\".format(f1_score(y_valid, predictions), i))"
   ]
  },
  {
   "cell_type": "markdown",
   "metadata": {},
   "source": [
    "**Вывод:**\n",
    "\n",
    "Через цикл попробовали методом подбора количества деревьев и глубины леса подобрать нужные параметры. \n",
    "\n",
    "Выявили лучшие параметры при взвешивании классов: глубина - 11, количество деревьев - 51,  F1 score показывает значение -  0.6034\n",
    "\n",
    "Путем увеличения и уменьшения выборок  увеличить f1_score не удалось."
   ]
  },
  {
   "cell_type": "markdown",
   "metadata": {},
   "source": [
    "## Тестирование модели"
   ]
  },
  {
   "cell_type": "code",
   "execution_count": 25,
   "metadata": {},
   "outputs": [
    {
     "name": "stdout",
     "output_type": "stream",
     "text": [
      "Accuracy is: 0.843\n",
      "F1_Score is: 0.6244019138755981\n"
     ]
    }
   ],
   "source": [
    "# пробуем модель на тестовой выборке с соответствующими параметрами\n",
    "model = RandomForestClassifier(n_estimators = 51, max_depth=11, class_weight='balanced', random_state=12345)\n",
    "model.fit(X_train, y_train)\n",
    "predicted_valid = model.predict(X_test)\n",
    "\n",
    "accuracy_valid = accuracy_score(predicted_valid, y_test)\n",
    "print('Accuracy is:', accuracy_valid)\n",
    "print('F1_Score is:', f1_score(y_test, predicted_valid))"
   ]
  },
  {
   "cell_type": "markdown",
   "metadata": {},
   "source": [
    "Получили достаточное значение f1"
   ]
  },
  {
   "cell_type": "code",
   "execution_count": 26,
   "metadata": {},
   "outputs": [
    {
     "data": {
      "image/png": "[encoded data removed]",
      "text/plain": [
       "<Figure size 576x576 with 1 Axes>"
      ]
     },
     "metadata": {},
     "output_type": "display_data"
    },
    {
     "name": "stdout",
     "output_type": "stream",
     "text": [
      "                       Roc Auc Score is: 0.847\n",
      "\n",
      "\n"
     ]
    }
   ],
   "source": [
    "#рисуем ROC кривую\n",
    "y_pred = model.predict_proba(X_test)[:,1]\n",
    "bc = BinaryClassification(y_test, y_pred, labels=[\"Class 1\"])\n",
    "\n",
    "plt.figure(figsize=(8,8))\n",
    "bc.plot_roc_curve()\n",
    "plt.show()\n",
    "print('                       Roc Auc Score is: {:.3f}'.format(roc_auc_score(y_test, y_pred)))\n",
    "print('\\n')"
   ]
  },
  {
   "cell_type": "markdown",
   "metadata": {},
   "source": [
    "**Вывод**\n",
    "\n",
    "Целью проекта было построение модели с предельно большим значением F1-меры (больше 0.59). \n",
    "\n",
    "В ходе решения поставленной задачи мы подготовили датасет для прогнозирования оттока клиентов.\n",
    "\n",
    "Использовали две модели : RandomForestClassifier и LogisticRegression. \n",
    "Выбрали модель RandomForestClassifier для дальнейшей работы, так как изначально она показала лучшие результаты.\n",
    "\n",
    "Через цикл попробовали методом подбора количества деревьев и глубины леса подобрать нужные параметры.\n",
    "Выявили лучшие параметры при взвешивании классов: глубина - 11, количество деревьев - 51, F1 score показывает значение - 0.6034\n",
    "\n",
    "\n",
    "Отрисовали ROC кривую и получили roc auc score : 0.85, что значительно больше случайного порога в 0.5. \n",
    "Наша модель предсказывает достаточно хорошо, так как проверив модель на тестовой выборке мы получили требуемое значение.\n",
    "\n",
    "Поставленная задача выполнена."
   ]
  },
  {
   "cell_type": "code",
   "execution_count": null,
   "metadata": {},
   "outputs": [],
   "source": []
  }
 ],
 "metadata": {
  "ExecuteTimeLog": [
   {
    "duration": 1552,
    "start_time": "2022-02-11T11:10:59.124Z"
   },
   {
    "duration": 1992,
    "start_time": "2022-02-11T11:12:19.857Z"
   },
   {
    "duration": 1620,
    "start_time": "2022-02-11T11:12:49.362Z"
   },
   {
    "duration": 1718,
    "start_time": "2022-02-11T11:13:04.535Z"
   },
   {
    "duration": 5,
    "start_time": "2022-02-11T11:56:17.953Z"
   },
   {
    "duration": 1375,
    "start_time": "2022-02-11T11:56:25.246Z"
   },
   {
    "duration": 8,
    "start_time": "2022-02-11T11:56:26.624Z"
   },
   {
    "duration": 1726,
    "start_time": "2022-02-11T11:56:26.635Z"
   },
   {
    "duration": 1827,
    "start_time": "2022-02-11T11:57:19.860Z"
   },
   {
    "duration": 5,
    "start_time": "2022-02-11T11:58:07.479Z"
   },
   {
    "duration": 1382,
    "start_time": "2022-02-11T11:58:13.941Z"
   },
   {
    "duration": 6,
    "start_time": "2022-02-11T11:58:15.326Z"
   },
   {
    "duration": 1771,
    "start_time": "2022-02-11T11:58:15.334Z"
   },
   {
    "duration": 2033,
    "start_time": "2022-02-11T12:00:02.839Z"
   },
   {
    "duration": 1790,
    "start_time": "2022-02-11T12:06:22.510Z"
   },
   {
    "duration": 2214,
    "start_time": "2022-02-11T12:10:17.263Z"
   },
   {
    "duration": 29,
    "start_time": "2022-02-11T12:15:43.486Z"
   },
   {
    "duration": 255,
    "start_time": "2022-02-11T12:16:34.972Z"
   },
   {
    "duration": 36,
    "start_time": "2022-02-11T12:16:42.609Z"
   },
   {
    "duration": 2487,
    "start_time": "2022-02-11T12:17:00.339Z"
   },
   {
    "duration": 46,
    "start_time": "2022-02-11T12:17:31.505Z"
   },
   {
    "duration": 62,
    "start_time": "2022-02-11T12:18:03.194Z"
   },
   {
    "duration": 1964,
    "start_time": "2022-02-11T19:31:38.651Z"
   },
   {
    "duration": 32,
    "start_time": "2022-02-11T19:31:40.617Z"
   },
   {
    "duration": 38,
    "start_time": "2022-02-11T19:31:40.651Z"
   },
   {
    "duration": 12,
    "start_time": "2022-02-11T19:32:33.938Z"
   },
   {
    "duration": 31,
    "start_time": "2022-02-11T19:33:18.007Z"
   },
   {
    "duration": 12,
    "start_time": "2022-02-11T19:33:21.141Z"
   },
   {
    "duration": 1961,
    "start_time": "2022-02-11T19:33:27.352Z"
   },
   {
    "duration": 35,
    "start_time": "2022-02-11T19:33:29.314Z"
   },
   {
    "duration": 11,
    "start_time": "2022-02-11T19:33:29.353Z"
   },
   {
    "duration": 55,
    "start_time": "2022-02-11T19:33:29.366Z"
   },
   {
    "duration": 10,
    "start_time": "2022-02-11T19:41:22.141Z"
   },
   {
    "duration": 2105,
    "start_time": "2022-02-11T19:41:27.606Z"
   },
   {
    "duration": 35,
    "start_time": "2022-02-11T19:41:29.713Z"
   },
   {
    "duration": 13,
    "start_time": "2022-02-11T19:41:29.752Z"
   },
   {
    "duration": 16,
    "start_time": "2022-02-11T19:41:29.766Z"
   },
   {
    "duration": 9,
    "start_time": "2022-02-11T19:49:28.544Z"
   },
   {
    "duration": 2009,
    "start_time": "2022-02-11T19:49:35.496Z"
   },
   {
    "duration": 34,
    "start_time": "2022-02-11T19:49:37.507Z"
   },
   {
    "duration": 11,
    "start_time": "2022-02-11T19:49:37.543Z"
   },
   {
    "duration": 26,
    "start_time": "2022-02-11T19:49:37.556Z"
   },
   {
    "duration": 8,
    "start_time": "2022-02-11T19:51:36.440Z"
   },
   {
    "duration": 7,
    "start_time": "2022-02-11T19:51:51.705Z"
   },
   {
    "duration": 38,
    "start_time": "2022-02-11T19:52:38.372Z"
   },
   {
    "duration": 13,
    "start_time": "2022-02-11T19:52:53.082Z"
   },
   {
    "duration": 17,
    "start_time": "2022-02-11T19:54:58.291Z"
   },
   {
    "duration": 305,
    "start_time": "2022-02-11T20:58:10.855Z"
   },
   {
    "duration": 995,
    "start_time": "2022-02-11T21:00:48.952Z"
   },
   {
    "duration": 673,
    "start_time": "2022-02-11T21:01:07.205Z"
   },
   {
    "duration": 320,
    "start_time": "2022-02-11T21:01:15.239Z"
   },
   {
    "duration": 310,
    "start_time": "2022-02-11T21:03:42.697Z"
   },
   {
    "duration": 346,
    "start_time": "2022-02-11T21:03:54.444Z"
   },
   {
    "duration": 165,
    "start_time": "2022-02-11T21:04:08.576Z"
   },
   {
    "duration": 190,
    "start_time": "2022-02-11T21:04:15.827Z"
   },
   {
    "duration": 298,
    "start_time": "2022-02-11T21:04:35.286Z"
   },
   {
    "duration": 222,
    "start_time": "2022-02-11T21:04:59.496Z"
   },
   {
    "duration": 176,
    "start_time": "2022-02-11T21:05:07.580Z"
   },
   {
    "duration": 198,
    "start_time": "2022-02-11T21:05:23.531Z"
   },
   {
    "duration": 206,
    "start_time": "2022-02-11T21:08:13.920Z"
   },
   {
    "duration": 275,
    "start_time": "2022-02-12T08:23:13.243Z"
   },
   {
    "duration": 2076,
    "start_time": "2022-02-12T08:23:20.410Z"
   },
   {
    "duration": 38,
    "start_time": "2022-02-12T08:23:22.489Z"
   },
   {
    "duration": 15,
    "start_time": "2022-02-12T08:23:22.530Z"
   },
   {
    "duration": 12,
    "start_time": "2022-02-12T08:23:22.548Z"
   },
   {
    "duration": 11,
    "start_time": "2022-02-12T08:23:22.562Z"
   },
   {
    "duration": 68,
    "start_time": "2022-02-12T08:23:22.575Z"
   },
   {
    "duration": 12,
    "start_time": "2022-02-12T08:23:22.646Z"
   },
   {
    "duration": 19,
    "start_time": "2022-02-12T08:23:22.661Z"
   },
   {
    "duration": 227,
    "start_time": "2022-02-12T08:23:22.709Z"
   },
   {
    "duration": 16,
    "start_time": "2022-02-12T08:23:22.938Z"
   },
   {
    "duration": 4,
    "start_time": "2022-02-12T08:26:21.555Z"
   },
   {
    "duration": 4,
    "start_time": "2022-02-12T08:27:12.963Z"
   },
   {
    "duration": 2360,
    "start_time": "2022-02-12T08:27:20.593Z"
   },
   {
    "duration": 39,
    "start_time": "2022-02-12T08:27:22.955Z"
   },
   {
    "duration": 27,
    "start_time": "2022-02-12T08:27:22.997Z"
   },
   {
    "duration": 67,
    "start_time": "2022-02-12T08:27:23.027Z"
   },
   {
    "duration": 53,
    "start_time": "2022-02-12T08:27:23.097Z"
   },
   {
    "duration": 53,
    "start_time": "2022-02-12T08:27:23.152Z"
   },
   {
    "duration": 18,
    "start_time": "2022-02-12T08:27:23.207Z"
   },
   {
    "duration": 45,
    "start_time": "2022-02-12T08:27:23.228Z"
   },
   {
    "duration": 242,
    "start_time": "2022-02-12T08:27:23.276Z"
   },
   {
    "duration": 19,
    "start_time": "2022-02-12T08:27:23.521Z"
   },
   {
    "duration": 19,
    "start_time": "2022-02-12T08:27:23.541Z"
   },
   {
    "duration": 17,
    "start_time": "2022-02-12T08:27:23.562Z"
   },
   {
    "duration": 6,
    "start_time": "2022-02-12T08:32:29.362Z"
   },
   {
    "duration": 16,
    "start_time": "2022-02-12T08:32:52.877Z"
   },
   {
    "duration": 1011,
    "start_time": "2022-02-12T08:49:55.607Z"
   },
   {
    "duration": 1640,
    "start_time": "2022-02-12T08:50:13.281Z"
   },
   {
    "duration": 1353,
    "start_time": "2022-02-12T08:51:08.351Z"
   },
   {
    "duration": 264,
    "start_time": "2022-02-12T08:53:16.149Z"
   },
   {
    "duration": 282,
    "start_time": "2022-02-12T08:53:26.853Z"
   },
   {
    "duration": 280,
    "start_time": "2022-02-12T08:54:03.420Z"
   },
   {
    "duration": 278,
    "start_time": "2022-02-12T08:54:13.302Z"
   },
   {
    "duration": 269,
    "start_time": "2022-02-12T09:01:59.717Z"
   },
   {
    "duration": 19,
    "start_time": "2022-02-12T09:02:23.613Z"
   },
   {
    "duration": 19,
    "start_time": "2022-02-12T09:02:43.339Z"
   },
   {
    "duration": 2079,
    "start_time": "2022-02-12T09:09:12.357Z"
   },
   {
    "duration": 38,
    "start_time": "2022-02-12T09:09:14.438Z"
   },
   {
    "duration": 13,
    "start_time": "2022-02-12T09:09:14.478Z"
   },
   {
    "duration": 16,
    "start_time": "2022-02-12T09:09:14.494Z"
   },
   {
    "duration": 7,
    "start_time": "2022-02-12T09:09:14.512Z"
   },
   {
    "duration": 40,
    "start_time": "2022-02-12T09:09:14.521Z"
   },
   {
    "duration": 45,
    "start_time": "2022-02-12T09:09:14.562Z"
   },
   {
    "duration": 18,
    "start_time": "2022-02-12T09:09:14.610Z"
   },
   {
    "duration": 240,
    "start_time": "2022-02-12T09:09:14.630Z"
   },
   {
    "duration": 15,
    "start_time": "2022-02-12T09:09:14.872Z"
   },
   {
    "duration": 20,
    "start_time": "2022-02-12T09:09:14.889Z"
   },
   {
    "duration": 11,
    "start_time": "2022-02-12T09:09:14.911Z"
   },
   {
    "duration": 17,
    "start_time": "2022-02-12T09:09:14.924Z"
   },
   {
    "duration": 266,
    "start_time": "2022-02-12T09:09:14.943Z"
   },
   {
    "duration": 285,
    "start_time": "2022-02-12T09:09:15.211Z"
   },
   {
    "duration": 24,
    "start_time": "2022-02-12T09:09:15.498Z"
   },
   {
    "duration": 20,
    "start_time": "2022-02-12T09:09:15.524Z"
   },
   {
    "duration": 18,
    "start_time": "2022-02-12T09:18:18.972Z"
   },
   {
    "duration": 2049,
    "start_time": "2022-02-12T09:19:43.558Z"
   },
   {
    "duration": 39,
    "start_time": "2022-02-12T09:19:45.610Z"
   },
   {
    "duration": 15,
    "start_time": "2022-02-12T09:19:45.652Z"
   },
   {
    "duration": 12,
    "start_time": "2022-02-12T09:19:45.669Z"
   },
   {
    "duration": 28,
    "start_time": "2022-02-12T09:19:45.683Z"
   },
   {
    "duration": 45,
    "start_time": "2022-02-12T09:19:45.713Z"
   },
   {
    "duration": 11,
    "start_time": "2022-02-12T09:19:45.760Z"
   },
   {
    "duration": 47,
    "start_time": "2022-02-12T09:19:45.774Z"
   },
   {
    "duration": 246,
    "start_time": "2022-02-12T09:19:45.823Z"
   },
   {
    "duration": 17,
    "start_time": "2022-02-12T09:19:46.072Z"
   },
   {
    "duration": 25,
    "start_time": "2022-02-12T09:19:46.091Z"
   },
   {
    "duration": 10,
    "start_time": "2022-02-12T09:19:46.118Z"
   },
   {
    "duration": 16,
    "start_time": "2022-02-12T09:19:46.130Z"
   },
   {
    "duration": 272,
    "start_time": "2022-02-12T09:19:46.148Z"
   },
   {
    "duration": 299,
    "start_time": "2022-02-12T09:19:46.422Z"
   },
   {
    "duration": 18,
    "start_time": "2022-02-12T09:19:46.723Z"
   },
   {
    "duration": 18,
    "start_time": "2022-02-12T09:19:46.743Z"
   },
   {
    "duration": 18,
    "start_time": "2022-02-12T09:19:46.763Z"
   },
   {
    "duration": 763,
    "start_time": "2022-02-12T09:24:16.946Z"
   },
   {
    "duration": 642,
    "start_time": "2022-02-12T09:29:02.219Z"
   },
   {
    "duration": 374,
    "start_time": "2022-02-12T09:31:01.164Z"
   },
   {
    "duration": 49,
    "start_time": "2022-02-12T09:31:46.394Z"
   },
   {
    "duration": 5,
    "start_time": "2022-02-12T09:34:44.013Z"
   },
   {
    "duration": 2648,
    "start_time": "2022-02-12T09:34:52.059Z"
   },
   {
    "duration": 54,
    "start_time": "2022-02-12T09:34:54.710Z"
   },
   {
    "duration": 21,
    "start_time": "2022-02-12T09:34:54.767Z"
   },
   {
    "duration": 26,
    "start_time": "2022-02-12T09:34:54.791Z"
   },
   {
    "duration": 52,
    "start_time": "2022-02-12T09:34:54.820Z"
   },
   {
    "duration": 58,
    "start_time": "2022-02-12T09:34:54.875Z"
   },
   {
    "duration": 12,
    "start_time": "2022-02-12T09:34:54.935Z"
   },
   {
    "duration": 17,
    "start_time": "2022-02-12T09:34:54.949Z"
   },
   {
    "duration": 258,
    "start_time": "2022-02-12T09:34:54.969Z"
   },
   {
    "duration": 15,
    "start_time": "2022-02-12T09:34:55.229Z"
   },
   {
    "duration": 27,
    "start_time": "2022-02-12T09:34:55.246Z"
   },
   {
    "duration": 18,
    "start_time": "2022-02-12T09:34:55.275Z"
   },
   {
    "duration": 24,
    "start_time": "2022-02-12T09:34:55.295Z"
   },
   {
    "duration": 24,
    "start_time": "2022-02-12T09:34:55.321Z"
   },
   {
    "duration": 260,
    "start_time": "2022-02-12T09:34:55.347Z"
   },
   {
    "duration": 301,
    "start_time": "2022-02-12T09:34:55.609Z"
   },
   {
    "duration": 18,
    "start_time": "2022-02-12T09:34:55.913Z"
   },
   {
    "duration": 20,
    "start_time": "2022-02-12T09:34:55.933Z"
   },
   {
    "duration": 17,
    "start_time": "2022-02-12T09:34:55.956Z"
   },
   {
    "duration": 656,
    "start_time": "2022-02-12T09:34:55.975Z"
   },
   {
    "duration": 266,
    "start_time": "2022-02-12T09:35:46.058Z"
   },
   {
    "duration": 262,
    "start_time": "2022-02-12T09:44:23.197Z"
   },
   {
    "duration": 6262,
    "start_time": "2022-02-12T09:44:32.990Z"
   },
   {
    "duration": 2079,
    "start_time": "2022-02-12T09:44:43.883Z"
   },
   {
    "duration": 43,
    "start_time": "2022-02-12T09:44:45.965Z"
   },
   {
    "duration": 15,
    "start_time": "2022-02-12T09:44:46.011Z"
   },
   {
    "duration": 15,
    "start_time": "2022-02-12T09:44:46.028Z"
   },
   {
    "duration": 8,
    "start_time": "2022-02-12T09:44:46.045Z"
   },
   {
    "duration": 75,
    "start_time": "2022-02-12T09:44:46.055Z"
   },
   {
    "duration": 11,
    "start_time": "2022-02-12T09:44:46.132Z"
   },
   {
    "duration": 19,
    "start_time": "2022-02-12T09:44:46.145Z"
   },
   {
    "duration": 232,
    "start_time": "2022-02-12T09:44:46.167Z"
   },
   {
    "duration": 15,
    "start_time": "2022-02-12T09:44:46.402Z"
   },
   {
    "duration": 4,
    "start_time": "2022-02-12T09:44:46.419Z"
   },
   {
    "duration": 6798,
    "start_time": "2022-02-12T09:44:46.425Z"
   },
   {
    "duration": -10,
    "start_time": "2022-02-12T09:44:53.235Z"
   },
   {
    "duration": -11,
    "start_time": "2022-02-12T09:44:53.237Z"
   },
   {
    "duration": -10,
    "start_time": "2022-02-12T09:44:53.238Z"
   },
   {
    "duration": -10,
    "start_time": "2022-02-12T09:44:53.239Z"
   },
   {
    "duration": -11,
    "start_time": "2022-02-12T09:44:53.241Z"
   },
   {
    "duration": -11,
    "start_time": "2022-02-12T09:44:53.242Z"
   },
   {
    "duration": -11,
    "start_time": "2022-02-12T09:44:53.244Z"
   },
   {
    "duration": -11,
    "start_time": "2022-02-12T09:44:53.245Z"
   },
   {
    "duration": -11,
    "start_time": "2022-02-12T09:44:53.246Z"
   },
   {
    "duration": 2100,
    "start_time": "2022-02-12T09:45:10.947Z"
   },
   {
    "duration": 38,
    "start_time": "2022-02-12T09:45:13.050Z"
   },
   {
    "duration": 19,
    "start_time": "2022-02-12T09:45:13.090Z"
   },
   {
    "duration": 17,
    "start_time": "2022-02-12T09:45:13.111Z"
   },
   {
    "duration": 11,
    "start_time": "2022-02-12T09:45:13.130Z"
   },
   {
    "duration": 46,
    "start_time": "2022-02-12T09:45:13.143Z"
   },
   {
    "duration": 26,
    "start_time": "2022-02-12T09:45:13.191Z"
   },
   {
    "duration": 18,
    "start_time": "2022-02-12T09:45:13.219Z"
   },
   {
    "duration": 233,
    "start_time": "2022-02-12T09:45:13.240Z"
   },
   {
    "duration": 16,
    "start_time": "2022-02-12T09:45:13.475Z"
   },
   {
    "duration": 4,
    "start_time": "2022-02-12T09:45:13.507Z"
   },
   {
    "duration": 714,
    "start_time": "2022-02-12T09:45:13.513Z"
   },
   {
    "duration": 32,
    "start_time": "2022-02-12T09:45:14.197Z"
   },
   {
    "duration": 31,
    "start_time": "2022-02-12T09:45:14.199Z"
   },
   {
    "duration": 7,
    "start_time": "2022-02-12T09:45:14.224Z"
   },
   {
    "duration": 3,
    "start_time": "2022-02-12T09:45:14.229Z"
   },
   {
    "duration": 2,
    "start_time": "2022-02-12T09:45:14.231Z"
   },
   {
    "duration": 2,
    "start_time": "2022-02-12T09:45:14.232Z"
   },
   {
    "duration": 2,
    "start_time": "2022-02-12T09:45:14.233Z"
   },
   {
    "duration": 2,
    "start_time": "2022-02-12T09:45:14.234Z"
   },
   {
    "duration": 2,
    "start_time": "2022-02-12T09:45:14.235Z"
   },
   {
    "duration": 2052,
    "start_time": "2022-02-12T09:45:34.223Z"
   },
   {
    "duration": 38,
    "start_time": "2022-02-12T09:45:36.277Z"
   },
   {
    "duration": 14,
    "start_time": "2022-02-12T09:45:36.317Z"
   },
   {
    "duration": 29,
    "start_time": "2022-02-12T09:45:36.333Z"
   },
   {
    "duration": 18,
    "start_time": "2022-02-12T09:45:36.364Z"
   },
   {
    "duration": 59,
    "start_time": "2022-02-12T09:45:36.384Z"
   },
   {
    "duration": 12,
    "start_time": "2022-02-12T09:45:36.444Z"
   },
   {
    "duration": 22,
    "start_time": "2022-02-12T09:45:36.458Z"
   },
   {
    "duration": 239,
    "start_time": "2022-02-12T09:45:36.483Z"
   },
   {
    "duration": 18,
    "start_time": "2022-02-12T09:45:36.725Z"
   },
   {
    "duration": 21,
    "start_time": "2022-02-12T09:45:36.746Z"
   },
   {
    "duration": 882,
    "start_time": "2022-02-12T09:45:36.769Z"
   },
   {
    "duration": 12,
    "start_time": "2022-02-12T09:45:37.641Z"
   },
   {
    "duration": 8,
    "start_time": "2022-02-12T09:45:37.647Z"
   },
   {
    "duration": 7,
    "start_time": "2022-02-12T09:45:37.648Z"
   },
   {
    "duration": 7,
    "start_time": "2022-02-12T09:45:37.650Z"
   },
   {
    "duration": 7,
    "start_time": "2022-02-12T09:45:37.651Z"
   },
   {
    "duration": 7,
    "start_time": "2022-02-12T09:45:37.652Z"
   },
   {
    "duration": 6,
    "start_time": "2022-02-12T09:45:37.654Z"
   },
   {
    "duration": 6,
    "start_time": "2022-02-12T09:45:37.655Z"
   },
   {
    "duration": 6,
    "start_time": "2022-02-12T09:45:37.656Z"
   },
   {
    "duration": 2029,
    "start_time": "2022-02-12T09:47:28.430Z"
   },
   {
    "duration": 41,
    "start_time": "2022-02-12T09:47:30.461Z"
   },
   {
    "duration": 15,
    "start_time": "2022-02-12T09:47:30.509Z"
   },
   {
    "duration": 17,
    "start_time": "2022-02-12T09:47:30.527Z"
   },
   {
    "duration": 16,
    "start_time": "2022-02-12T09:47:30.547Z"
   },
   {
    "duration": 60,
    "start_time": "2022-02-12T09:47:30.565Z"
   },
   {
    "duration": 11,
    "start_time": "2022-02-12T09:47:30.627Z"
   },
   {
    "duration": 20,
    "start_time": "2022-02-12T09:47:30.640Z"
   },
   {
    "duration": 243,
    "start_time": "2022-02-12T09:47:30.664Z"
   },
   {
    "duration": 17,
    "start_time": "2022-02-12T09:47:30.910Z"
   },
   {
    "duration": 15,
    "start_time": "2022-02-12T09:47:30.930Z"
   },
   {
    "duration": 351,
    "start_time": "2022-02-12T09:47:30.947Z"
   },
   {
    "duration": 10,
    "start_time": "2022-02-12T09:47:31.300Z"
   },
   {
    "duration": 57,
    "start_time": "2022-02-12T09:47:31.312Z"
   },
   {
    "duration": 28,
    "start_time": "2022-02-12T09:47:31.371Z"
   },
   {
    "duration": 262,
    "start_time": "2022-02-12T09:47:31.402Z"
   },
   {
    "duration": 399,
    "start_time": "2022-02-12T09:47:31.667Z"
   },
   {
    "duration": 18,
    "start_time": "2022-02-12T09:47:32.068Z"
   },
   {
    "duration": 38,
    "start_time": "2022-02-12T09:47:32.088Z"
   },
   {
    "duration": 44,
    "start_time": "2022-02-12T09:47:32.129Z"
   },
   {
    "duration": 1366,
    "start_time": "2022-02-12T09:47:32.175Z"
   },
   {
    "duration": 1274,
    "start_time": "2022-02-12T09:48:09.349Z"
   },
   {
    "duration": 2095,
    "start_time": "2022-02-12T09:48:54.865Z"
   },
   {
    "duration": 39,
    "start_time": "2022-02-12T09:48:56.962Z"
   },
   {
    "duration": 13,
    "start_time": "2022-02-12T09:48:57.007Z"
   },
   {
    "duration": 11,
    "start_time": "2022-02-12T09:48:57.022Z"
   },
   {
    "duration": 7,
    "start_time": "2022-02-12T09:48:57.035Z"
   },
   {
    "duration": 66,
    "start_time": "2022-02-12T09:48:57.044Z"
   },
   {
    "duration": 13,
    "start_time": "2022-02-12T09:48:57.112Z"
   },
   {
    "duration": 18,
    "start_time": "2022-02-12T09:48:57.127Z"
   },
   {
    "duration": 231,
    "start_time": "2022-02-12T09:48:57.148Z"
   },
   {
    "duration": 26,
    "start_time": "2022-02-12T09:48:57.382Z"
   },
   {
    "duration": 14,
    "start_time": "2022-02-12T09:48:57.411Z"
   },
   {
    "duration": 333,
    "start_time": "2022-02-12T09:48:57.427Z"
   },
   {
    "duration": 6,
    "start_time": "2022-02-12T09:48:57.762Z"
   },
   {
    "duration": 8,
    "start_time": "2022-02-12T09:48:57.770Z"
   },
   {
    "duration": 31,
    "start_time": "2022-02-12T09:48:57.779Z"
   },
   {
    "duration": 255,
    "start_time": "2022-02-12T09:48:57.812Z"
   },
   {
    "duration": 416,
    "start_time": "2022-02-12T09:48:58.070Z"
   },
   {
    "duration": 27,
    "start_time": "2022-02-12T09:48:58.488Z"
   },
   {
    "duration": 20,
    "start_time": "2022-02-12T09:48:58.517Z"
   },
   {
    "duration": 18,
    "start_time": "2022-02-12T09:48:58.538Z"
   },
   {
    "duration": 994,
    "start_time": "2022-02-12T09:48:58.558Z"
   },
   {
    "duration": 2548,
    "start_time": "2022-02-12T09:51:15.267Z"
   },
   {
    "duration": 515,
    "start_time": "2022-02-12T09:51:29.591Z"
   },
   {
    "duration": 2705,
    "start_time": "2022-02-12T09:56:27.762Z"
   },
   {
    "duration": 17,
    "start_time": "2022-02-12T09:56:31.404Z"
   },
   {
    "duration": 458,
    "start_time": "2022-02-12T10:04:23.952Z"
   },
   {
    "duration": 24,
    "start_time": "2022-02-12T10:07:10.495Z"
   },
   {
    "duration": 493,
    "start_time": "2022-02-12T10:11:49.453Z"
   },
   {
    "duration": 2836,
    "start_time": "2022-02-12T10:12:35.242Z"
   },
   {
    "duration": 29,
    "start_time": "2022-02-12T10:12:38.081Z"
   },
   {
    "duration": 260,
    "start_time": "2022-02-12T10:21:19.591Z"
   },
   {
    "duration": 249,
    "start_time": "2022-02-12T10:23:46.247Z"
   },
   {
    "duration": 141,
    "start_time": "2022-02-12T10:24:12.930Z"
   },
   {
    "duration": 2274,
    "start_time": "2022-02-12T10:25:59.230Z"
   },
   {
    "duration": 26,
    "start_time": "2022-02-12T10:26:17.725Z"
   },
   {
    "duration": 292,
    "start_time": "2022-02-12T10:29:41.851Z"
   },
   {
    "duration": 4,
    "start_time": "2022-02-12T10:30:08.155Z"
   },
   {
    "duration": 258,
    "start_time": "2022-02-12T10:30:43.459Z"
   },
   {
    "duration": 745,
    "start_time": "2022-02-12T10:31:43.309Z"
   },
   {
    "duration": 259,
    "start_time": "2022-02-12T10:32:12.932Z"
   },
   {
    "duration": 4423,
    "start_time": "2022-02-12T10:32:36.127Z"
   },
   {
    "duration": 37,
    "start_time": "2022-02-12T10:32:56.023Z"
   },
   {
    "duration": 187,
    "start_time": "2022-02-12T10:37:15.896Z"
   },
   {
    "duration": 4,
    "start_time": "2022-02-12T10:37:28.388Z"
   },
   {
    "duration": 1170,
    "start_time": "2022-02-12T10:38:00.444Z"
   },
   {
    "duration": 33,
    "start_time": "2022-02-12T10:38:16.624Z"
   },
   {
    "duration": 17,
    "start_time": "2022-02-12T10:40:29.578Z"
   },
   {
    "duration": 5656,
    "start_time": "2022-02-12T10:49:32.659Z"
   },
   {
    "duration": 6,
    "start_time": "2022-02-12T10:50:37.510Z"
   },
   {
    "duration": 7208,
    "start_time": "2022-02-12T10:51:49.103Z"
   },
   {
    "duration": 5664,
    "start_time": "2022-02-12T10:52:07.148Z"
   },
   {
    "duration": 6,
    "start_time": "2022-02-12T10:52:12.814Z"
   },
   {
    "duration": 5588,
    "start_time": "2022-02-12T10:52:37.219Z"
   },
   {
    "duration": 5,
    "start_time": "2022-02-12T10:53:59.016Z"
   },
   {
    "duration": 140346,
    "start_time": "2022-02-12T10:55:08.953Z"
   },
   {
    "duration": 23,
    "start_time": "2022-02-12T10:58:44.223Z"
   },
   {
    "duration": 13,
    "start_time": "2022-02-12T11:06:48.250Z"
   },
   {
    "duration": 2043,
    "start_time": "2022-02-12T11:10:15.731Z"
   },
   {
    "duration": 37,
    "start_time": "2022-02-12T11:10:17.776Z"
   },
   {
    "duration": 13,
    "start_time": "2022-02-12T11:10:17.818Z"
   },
   {
    "duration": 13,
    "start_time": "2022-02-12T11:10:17.833Z"
   },
   {
    "duration": 8,
    "start_time": "2022-02-12T11:10:17.848Z"
   },
   {
    "duration": 75,
    "start_time": "2022-02-12T11:10:17.857Z"
   },
   {
    "duration": 12,
    "start_time": "2022-02-12T11:10:17.935Z"
   },
   {
    "duration": 18,
    "start_time": "2022-02-12T11:10:17.949Z"
   },
   {
    "duration": 235,
    "start_time": "2022-02-12T11:10:17.969Z"
   },
   {
    "duration": 15,
    "start_time": "2022-02-12T11:10:18.208Z"
   },
   {
    "duration": 24,
    "start_time": "2022-02-12T11:10:18.224Z"
   },
   {
    "duration": 320,
    "start_time": "2022-02-12T11:10:18.250Z"
   },
   {
    "duration": 5,
    "start_time": "2022-02-12T11:10:18.572Z"
   },
   {
    "duration": 18,
    "start_time": "2022-02-12T11:10:18.578Z"
   },
   {
    "duration": 41,
    "start_time": "2022-02-12T11:10:18.598Z"
   },
   {
    "duration": 360,
    "start_time": "2022-02-12T11:10:18.641Z"
   },
   {
    "duration": 286,
    "start_time": "2022-02-12T11:10:19.003Z"
   },
   {
    "duration": 25,
    "start_time": "2022-02-12T11:10:19.291Z"
   },
   {
    "duration": 19,
    "start_time": "2022-02-12T11:10:19.318Z"
   },
   {
    "duration": 16,
    "start_time": "2022-02-12T11:10:19.339Z"
   },
   {
    "duration": 2572,
    "start_time": "2022-02-12T11:10:19.357Z"
   },
   {
    "duration": 455,
    "start_time": "2022-02-12T11:10:21.933Z"
   },
   {
    "duration": 2234,
    "start_time": "2022-02-12T11:10:22.391Z"
   },
   {
    "duration": 25,
    "start_time": "2022-02-12T11:10:24.627Z"
   },
   {
    "duration": 298,
    "start_time": "2022-02-12T11:10:24.653Z"
   },
   {
    "duration": 3,
    "start_time": "2022-02-12T11:10:24.954Z"
   },
   {
    "duration": 3362,
    "start_time": "2022-02-12T11:10:24.959Z"
   },
   {
    "duration": 24,
    "start_time": "2022-02-12T11:10:28.323Z"
   },
   {
    "duration": 185,
    "start_time": "2022-02-12T11:10:28.349Z"
   },
   {
    "duration": 5,
    "start_time": "2022-02-12T11:10:28.536Z"
   },
   {
    "duration": 1041,
    "start_time": "2022-02-12T11:10:28.543Z"
   },
   {
    "duration": 36,
    "start_time": "2022-02-12T11:10:29.586Z"
   },
   {
    "duration": 16,
    "start_time": "2022-02-12T11:10:29.624Z"
   },
   {
    "duration": 5768,
    "start_time": "2022-02-12T11:10:29.642Z"
   },
   {
    "duration": 96,
    "start_time": "2022-02-12T11:10:35.412Z"
   },
   {
    "duration": 5518,
    "start_time": "2022-02-12T11:10:35.510Z"
   },
   {
    "duration": 5,
    "start_time": "2022-02-12T11:10:41.031Z"
   },
   {
    "duration": 262920,
    "start_time": "2022-02-12T11:10:41.039Z"
   },
   {
    "duration": 13,
    "start_time": "2022-02-12T11:15:03.961Z"
   },
   {
    "duration": 545,
    "start_time": "2022-02-12T11:19:49.076Z"
   },
   {
    "duration": 14,
    "start_time": "2022-02-12T11:20:52.079Z"
   },
   {
    "duration": 386,
    "start_time": "2022-02-12T11:21:09.442Z"
   },
   {
    "duration": 5,
    "start_time": "2022-02-12T11:21:23.641Z"
   },
   {
    "duration": 707,
    "start_time": "2022-02-12T11:22:08.175Z"
   },
   {
    "duration": 2166,
    "start_time": "2022-02-12T11:29:20.272Z"
   },
   {
    "duration": 41,
    "start_time": "2022-02-12T11:29:22.440Z"
   },
   {
    "duration": 28,
    "start_time": "2022-02-12T11:29:22.484Z"
   },
   {
    "duration": 13,
    "start_time": "2022-02-12T11:29:22.515Z"
   },
   {
    "duration": 18,
    "start_time": "2022-02-12T11:29:22.531Z"
   },
   {
    "duration": 60,
    "start_time": "2022-02-12T11:29:22.551Z"
   },
   {
    "duration": 12,
    "start_time": "2022-02-12T11:29:22.613Z"
   },
   {
    "duration": 17,
    "start_time": "2022-02-12T11:29:22.627Z"
   },
   {
    "duration": 343,
    "start_time": "2022-02-12T11:29:22.647Z"
   },
   {
    "duration": 35,
    "start_time": "2022-02-12T11:29:22.993Z"
   },
   {
    "duration": 23,
    "start_time": "2022-02-12T11:29:23.030Z"
   },
   {
    "duration": 362,
    "start_time": "2022-02-12T11:29:23.055Z"
   },
   {
    "duration": 6,
    "start_time": "2022-02-12T11:29:23.419Z"
   },
   {
    "duration": 7,
    "start_time": "2022-02-12T11:29:23.427Z"
   },
   {
    "duration": 16,
    "start_time": "2022-02-12T11:29:23.436Z"
   },
   {
    "duration": 399,
    "start_time": "2022-02-12T11:29:23.454Z"
   },
   {
    "duration": 316,
    "start_time": "2022-02-12T11:29:23.855Z"
   },
   {
    "duration": 18,
    "start_time": "2022-02-12T11:29:24.173Z"
   },
   {
    "duration": 29,
    "start_time": "2022-02-12T11:29:24.193Z"
   },
   {
    "duration": 18,
    "start_time": "2022-02-12T11:29:24.224Z"
   },
   {
    "duration": 2785,
    "start_time": "2022-02-12T11:29:24.244Z"
   },
   {
    "duration": 589,
    "start_time": "2022-02-12T11:29:27.032Z"
   },
   {
    "duration": 2227,
    "start_time": "2022-02-12T11:29:27.624Z"
   },
   {
    "duration": 25,
    "start_time": "2022-02-12T11:29:29.853Z"
   },
   {
    "duration": 320,
    "start_time": "2022-02-12T11:29:29.880Z"
   },
   {
    "duration": 7,
    "start_time": "2022-02-12T11:29:30.202Z"
   },
   {
    "duration": 3294,
    "start_time": "2022-02-12T11:29:30.213Z"
   },
   {
    "duration": 27,
    "start_time": "2022-02-12T11:29:33.509Z"
   },
   {
    "duration": 189,
    "start_time": "2022-02-12T11:29:33.538Z"
   },
   {
    "duration": 4,
    "start_time": "2022-02-12T11:29:33.729Z"
   },
   {
    "duration": 1141,
    "start_time": "2022-02-12T11:29:33.735Z"
   },
   {
    "duration": 37,
    "start_time": "2022-02-12T11:29:34.878Z"
   },
   {
    "duration": 19,
    "start_time": "2022-02-12T11:29:34.917Z"
   },
   {
    "duration": 5780,
    "start_time": "2022-02-12T11:29:34.938Z"
   },
   {
    "duration": 88,
    "start_time": "2022-02-12T11:29:40.720Z"
   },
   {
    "duration": 6011,
    "start_time": "2022-02-12T11:29:40.811Z"
   },
   {
    "duration": 6,
    "start_time": "2022-02-12T11:29:46.824Z"
   },
   {
    "duration": 530182,
    "start_time": "2022-02-12T11:29:46.832Z"
   },
   {
    "duration": 13,
    "start_time": "2022-02-12T11:38:37.017Z"
   },
   {
    "duration": 553,
    "start_time": "2022-02-12T11:38:37.032Z"
   },
   {
    "duration": 26,
    "start_time": "2022-02-12T11:38:37.587Z"
   },
   {
    "duration": 379,
    "start_time": "2022-02-12T11:38:37.615Z"
   },
   {
    "duration": 4,
    "start_time": "2022-02-12T11:38:37.996Z"
   },
   {
    "duration": 710,
    "start_time": "2022-02-12T11:38:38.002Z"
   },
   {
    "duration": 2222,
    "start_time": "2022-02-12T11:53:50.556Z"
   },
   {
    "duration": 40,
    "start_time": "2022-02-12T11:53:52.780Z"
   },
   {
    "duration": 14,
    "start_time": "2022-02-12T11:53:52.822Z"
   },
   {
    "duration": 19,
    "start_time": "2022-02-12T11:53:52.839Z"
   },
   {
    "duration": 22,
    "start_time": "2022-02-12T11:53:52.860Z"
   },
   {
    "duration": 67,
    "start_time": "2022-02-12T11:53:52.884Z"
   },
   {
    "duration": 13,
    "start_time": "2022-02-12T11:53:52.953Z"
   },
   {
    "duration": 41,
    "start_time": "2022-02-12T11:53:52.968Z"
   },
   {
    "duration": 272,
    "start_time": "2022-02-12T11:53:53.012Z"
   },
   {
    "duration": 25,
    "start_time": "2022-02-12T11:53:53.287Z"
   },
   {
    "duration": 7,
    "start_time": "2022-02-12T11:53:53.314Z"
   },
   {
    "duration": 443,
    "start_time": "2022-02-12T11:53:53.323Z"
   },
   {
    "duration": 5,
    "start_time": "2022-02-12T11:53:53.768Z"
   },
   {
    "duration": 10,
    "start_time": "2022-02-12T11:53:53.775Z"
   },
   {
    "duration": 26,
    "start_time": "2022-02-12T11:53:53.809Z"
   },
   {
    "duration": 447,
    "start_time": "2022-02-12T11:53:53.837Z"
   },
   {
    "duration": 327,
    "start_time": "2022-02-12T11:53:54.286Z"
   },
   {
    "duration": 18,
    "start_time": "2022-02-12T11:53:54.615Z"
   },
   {
    "duration": 3378,
    "start_time": "2022-02-12T11:53:54.635Z"
   },
   {
    "duration": 609,
    "start_time": "2022-02-12T11:53:58.016Z"
   },
   {
    "duration": 2388,
    "start_time": "2022-02-12T11:53:58.627Z"
   },
   {
    "duration": 28,
    "start_time": "2022-02-12T11:54:01.018Z"
   },
   {
    "duration": 318,
    "start_time": "2022-02-12T11:54:01.048Z"
   },
   {
    "duration": 4,
    "start_time": "2022-02-12T11:54:01.369Z"
   },
   {
    "duration": 3373,
    "start_time": "2022-02-12T11:54:01.374Z"
   },
   {
    "duration": 25,
    "start_time": "2022-02-12T11:54:04.749Z"
   },
   {
    "duration": 193,
    "start_time": "2022-02-12T11:54:04.779Z"
   },
   {
    "duration": 4,
    "start_time": "2022-02-12T11:54:04.974Z"
   },
   {
    "duration": 1116,
    "start_time": "2022-02-12T11:54:04.979Z"
   },
   {
    "duration": 36,
    "start_time": "2022-02-12T11:54:06.097Z"
   },
   {
    "duration": 14,
    "start_time": "2022-02-12T11:54:06.136Z"
   },
   {
    "duration": 23662,
    "start_time": "2022-02-12T11:54:06.152Z"
   },
   {
    "duration": 92,
    "start_time": "2022-02-12T11:54:29.816Z"
   },
   {
    "duration": 5704,
    "start_time": "2022-02-12T11:54:29.911Z"
   },
   {
    "duration": 5,
    "start_time": "2022-02-12T11:54:35.617Z"
   },
   {
    "duration": 532514,
    "start_time": "2022-02-12T11:54:35.623Z"
   },
   {
    "duration": 13,
    "start_time": "2022-02-12T12:03:28.140Z"
   },
   {
    "duration": 599,
    "start_time": "2022-02-12T12:03:28.155Z"
   },
   {
    "duration": 12,
    "start_time": "2022-02-12T12:03:28.756Z"
   },
   {
    "duration": 393,
    "start_time": "2022-02-12T12:03:28.770Z"
   },
   {
    "duration": 4,
    "start_time": "2022-02-12T12:03:29.165Z"
   },
   {
    "duration": 17,
    "start_time": "2022-02-12T12:06:50.482Z"
   },
   {
    "duration": 1449,
    "start_time": "2022-02-12T12:08:13.055Z"
   },
   {
    "duration": 5,
    "start_time": "2022-02-12T12:08:23.624Z"
   },
   {
    "duration": 2115,
    "start_time": "2022-02-12T12:09:42.438Z"
   },
   {
    "duration": 38,
    "start_time": "2022-02-12T12:09:44.555Z"
   },
   {
    "duration": 18,
    "start_time": "2022-02-12T12:09:44.595Z"
   },
   {
    "duration": 16,
    "start_time": "2022-02-12T12:09:44.616Z"
   },
   {
    "duration": 16,
    "start_time": "2022-02-12T12:09:44.634Z"
   },
   {
    "duration": 58,
    "start_time": "2022-02-12T12:09:44.652Z"
   },
   {
    "duration": 12,
    "start_time": "2022-02-12T12:09:44.712Z"
   },
   {
    "duration": 18,
    "start_time": "2022-02-12T12:09:44.726Z"
   },
   {
    "duration": 235,
    "start_time": "2022-02-12T12:09:44.747Z"
   },
   {
    "duration": 26,
    "start_time": "2022-02-12T12:09:44.985Z"
   },
   {
    "duration": 40,
    "start_time": "2022-02-12T12:09:45.013Z"
   },
   {
    "duration": 347,
    "start_time": "2022-02-12T12:09:45.055Z"
   },
   {
    "duration": 6,
    "start_time": "2022-02-12T12:09:45.408Z"
   },
   {
    "duration": 14,
    "start_time": "2022-02-12T12:09:45.416Z"
   },
   {
    "duration": 32,
    "start_time": "2022-02-12T12:09:45.433Z"
   },
   {
    "duration": 372,
    "start_time": "2022-02-12T12:09:45.467Z"
   },
   {
    "duration": 308,
    "start_time": "2022-02-12T12:09:45.841Z"
   },
   {
    "duration": 18,
    "start_time": "2022-02-12T12:09:46.151Z"
   },
   {
    "duration": 2679,
    "start_time": "2022-02-12T12:09:46.171Z"
   },
   {
    "duration": 523,
    "start_time": "2022-02-12T12:09:48.852Z"
   },
   {
    "duration": 2367,
    "start_time": "2022-02-12T12:09:49.378Z"
   },
   {
    "duration": 25,
    "start_time": "2022-02-12T12:09:51.746Z"
   },
   {
    "duration": 323,
    "start_time": "2022-02-12T12:09:51.773Z"
   },
   {
    "duration": 13,
    "start_time": "2022-02-12T12:09:52.098Z"
   },
   {
    "duration": 3377,
    "start_time": "2022-02-12T12:09:52.114Z"
   },
   {
    "duration": 34,
    "start_time": "2022-02-12T12:09:55.493Z"
   },
   {
    "duration": 187,
    "start_time": "2022-02-12T12:09:55.531Z"
   },
   {
    "duration": 4,
    "start_time": "2022-02-12T12:09:55.721Z"
   },
   {
    "duration": 1045,
    "start_time": "2022-02-12T12:09:55.727Z"
   },
   {
    "duration": 39,
    "start_time": "2022-02-12T12:09:56.774Z"
   },
   {
    "duration": 18,
    "start_time": "2022-02-12T12:09:56.814Z"
   },
   {
    "duration": 22778,
    "start_time": "2022-02-12T12:09:56.834Z"
   },
   {
    "duration": 7,
    "start_time": "2022-02-12T12:10:19.615Z"
   },
   {
    "duration": 1550,
    "start_time": "2022-02-12T12:10:19.624Z"
   },
   {
    "duration": 5,
    "start_time": "2022-02-12T12:10:21.176Z"
   },
   {
    "duration": 24,
    "start_time": "2022-02-12T12:20:05.097Z"
   },
   {
    "duration": 32,
    "start_time": "2022-02-12T12:20:05.124Z"
   },
   {
    "duration": 12,
    "start_time": "2022-02-12T12:20:05.963Z"
   },
   {
    "duration": 515,
    "start_time": "2022-02-12T12:20:05.977Z"
   },
   {
    "duration": 4,
    "start_time": "2022-02-12T12:20:06.495Z"
   },
   {
    "duration": 190491,
    "start_time": "2022-02-12T12:20:06.502Z"
   },
   {
    "duration": 696,
    "start_time": "2022-02-12T12:23:16.995Z"
   },
   {
    "duration": 2142,
    "start_time": "2022-02-12T12:24:07.318Z"
   },
   {
    "duration": 46,
    "start_time": "2022-02-12T12:24:09.463Z"
   },
   {
    "duration": 17,
    "start_time": "2022-02-12T12:24:09.511Z"
   },
   {
    "duration": 25,
    "start_time": "2022-02-12T12:24:09.530Z"
   },
   {
    "duration": 31,
    "start_time": "2022-02-12T12:24:09.557Z"
   },
   {
    "duration": 60,
    "start_time": "2022-02-12T12:24:09.590Z"
   },
   {
    "duration": 12,
    "start_time": "2022-02-12T12:24:09.652Z"
   },
   {
    "duration": 18,
    "start_time": "2022-02-12T12:24:09.666Z"
   },
   {
    "duration": 235,
    "start_time": "2022-02-12T12:24:09.708Z"
   },
   {
    "duration": 15,
    "start_time": "2022-02-12T12:24:09.945Z"
   },
   {
    "duration": 35,
    "start_time": "2022-02-12T12:24:09.962Z"
   },
   {
    "duration": 429,
    "start_time": "2022-02-12T12:24:09.999Z"
   },
   {
    "duration": 6,
    "start_time": "2022-02-12T12:24:10.430Z"
   },
   {
    "duration": 29,
    "start_time": "2022-02-12T12:24:10.438Z"
   },
   {
    "duration": 22,
    "start_time": "2022-02-12T12:24:10.469Z"
   },
   {
    "duration": 417,
    "start_time": "2022-02-12T12:24:10.493Z"
   },
   {
    "duration": 325,
    "start_time": "2022-02-12T12:24:10.912Z"
   },
   {
    "duration": 19,
    "start_time": "2022-02-12T12:24:11.240Z"
   },
   {
    "duration": 17,
    "start_time": "2022-02-12T12:24:11.261Z"
   },
   {
    "duration": 2847,
    "start_time": "2022-02-12T12:24:11.280Z"
   },
   {
    "duration": 665,
    "start_time": "2022-02-12T12:24:14.129Z"
   },
   {
    "duration": 2985,
    "start_time": "2022-02-12T12:24:14.796Z"
   },
   {
    "duration": 46,
    "start_time": "2022-02-12T12:24:17.784Z"
   },
   {
    "duration": 334,
    "start_time": "2022-02-12T12:24:17.833Z"
   },
   {
    "duration": 4,
    "start_time": "2022-02-12T12:24:18.169Z"
   },
   {
    "duration": 3661,
    "start_time": "2022-02-12T12:24:18.175Z"
   },
   {
    "duration": 24,
    "start_time": "2022-02-12T12:24:21.840Z"
   },
   {
    "duration": 192,
    "start_time": "2022-02-12T12:24:21.867Z"
   },
   {
    "duration": 3,
    "start_time": "2022-02-12T12:24:22.061Z"
   },
   {
    "duration": 1130,
    "start_time": "2022-02-12T12:24:22.066Z"
   },
   {
    "duration": 35,
    "start_time": "2022-02-12T12:24:23.198Z"
   },
   {
    "duration": 21,
    "start_time": "2022-02-12T12:24:23.235Z"
   },
   {
    "duration": 5562,
    "start_time": "2022-02-12T12:24:23.258Z"
   },
   {
    "duration": 86,
    "start_time": "2022-02-12T12:24:28.823Z"
   },
   {
    "duration": 1537,
    "start_time": "2022-02-12T12:24:28.912Z"
   },
   {
    "duration": 5,
    "start_time": "2022-02-12T12:24:30.451Z"
   },
   {
    "duration": 185813,
    "start_time": "2022-02-12T12:24:30.458Z"
   },
   {
    "duration": 12,
    "start_time": "2022-02-12T12:27:36.273Z"
   },
   {
    "duration": 35,
    "start_time": "2022-02-12T12:27:36.287Z"
   },
   {
    "duration": 614,
    "start_time": "2022-02-12T12:27:36.323Z"
   },
   {
    "duration": 14,
    "start_time": "2022-02-12T12:27:36.939Z"
   },
   {
    "duration": 416,
    "start_time": "2022-02-12T12:27:36.955Z"
   },
   {
    "duration": 5,
    "start_time": "2022-02-12T12:27:37.373Z"
   },
   {
    "duration": 162,
    "start_time": "2022-02-12T12:29:11.636Z"
   },
   {
    "duration": 2167,
    "start_time": "2022-02-12T12:34:58.315Z"
   },
   {
    "duration": 42,
    "start_time": "2022-02-12T12:35:00.484Z"
   },
   {
    "duration": 14,
    "start_time": "2022-02-12T12:35:00.529Z"
   },
   {
    "duration": 27,
    "start_time": "2022-02-12T12:35:00.545Z"
   },
   {
    "duration": 28,
    "start_time": "2022-02-12T12:35:00.574Z"
   },
   {
    "duration": 55,
    "start_time": "2022-02-12T12:35:00.604Z"
   },
   {
    "duration": 18,
    "start_time": "2022-02-12T12:35:00.661Z"
   },
   {
    "duration": 18,
    "start_time": "2022-02-12T12:35:00.681Z"
   },
   {
    "duration": 231,
    "start_time": "2022-02-12T12:35:00.708Z"
   },
   {
    "duration": 16,
    "start_time": "2022-02-12T12:35:00.941Z"
   },
   {
    "duration": 26,
    "start_time": "2022-02-12T12:35:00.958Z"
   },
   {
    "duration": 386,
    "start_time": "2022-02-12T12:35:00.987Z"
   },
   {
    "duration": 5,
    "start_time": "2022-02-12T12:35:01.376Z"
   },
   {
    "duration": 53,
    "start_time": "2022-02-12T12:35:01.383Z"
   },
   {
    "duration": 30,
    "start_time": "2022-02-12T12:35:01.438Z"
   },
   {
    "duration": 396,
    "start_time": "2022-02-12T12:35:01.470Z"
   },
   {
    "duration": 348,
    "start_time": "2022-02-12T12:35:01.868Z"
   },
   {
    "duration": 25,
    "start_time": "2022-02-12T12:35:02.219Z"
   },
   {
    "duration": 63,
    "start_time": "2022-02-12T12:35:02.246Z"
   },
   {
    "duration": 2981,
    "start_time": "2022-02-12T12:35:02.311Z"
   },
   {
    "duration": 539,
    "start_time": "2022-02-12T12:35:05.294Z"
   },
   {
    "duration": 2353,
    "start_time": "2022-02-12T12:35:05.836Z"
   },
   {
    "duration": 41,
    "start_time": "2022-02-12T12:35:08.191Z"
   },
   {
    "duration": 320,
    "start_time": "2022-02-12T12:35:08.234Z"
   },
   {
    "duration": 4,
    "start_time": "2022-02-12T12:35:08.556Z"
   },
   {
    "duration": 3581,
    "start_time": "2022-02-12T12:35:08.562Z"
   },
   {
    "duration": 27,
    "start_time": "2022-02-12T12:35:12.147Z"
   },
   {
    "duration": 197,
    "start_time": "2022-02-12T12:35:12.176Z"
   },
   {
    "duration": 4,
    "start_time": "2022-02-12T12:35:12.375Z"
   },
   {
    "duration": 1155,
    "start_time": "2022-02-12T12:35:12.380Z"
   },
   {
    "duration": 29,
    "start_time": "2022-02-12T12:35:13.537Z"
   },
   {
    "duration": 17,
    "start_time": "2022-02-12T12:35:13.567Z"
   },
   {
    "duration": 5423,
    "start_time": "2022-02-12T12:35:13.586Z"
   },
   {
    "duration": 87,
    "start_time": "2022-02-12T12:35:19.021Z"
   },
   {
    "duration": 1630,
    "start_time": "2022-02-12T12:35:19.110Z"
   },
   {
    "duration": 6,
    "start_time": "2022-02-12T12:35:20.742Z"
   },
   {
    "duration": 182914,
    "start_time": "2022-02-12T12:35:20.750Z"
   },
   {
    "duration": 12,
    "start_time": "2022-02-12T12:38:23.666Z"
   },
   {
    "duration": 39,
    "start_time": "2022-02-12T12:38:23.680Z"
   },
   {
    "duration": 170,
    "start_time": "2022-02-12T12:38:23.721Z"
   },
   {
    "duration": 22,
    "start_time": "2022-02-12T12:38:23.894Z"
   },
   {
    "duration": 417,
    "start_time": "2022-02-12T12:38:23.919Z"
   },
   {
    "duration": 3,
    "start_time": "2022-02-12T12:38:24.338Z"
   },
   {
    "duration": 1335,
    "start_time": "2022-02-12T12:38:24.343Z"
   },
   {
    "duration": 148,
    "start_time": "2022-02-12T12:39:54.138Z"
   },
   {
    "duration": 812,
    "start_time": "2022-02-12T12:40:52.241Z"
   },
   {
    "duration": 2610,
    "start_time": "2022-02-12T20:10:04.059Z"
   },
   {
    "duration": 51,
    "start_time": "2022-02-12T20:10:06.672Z"
   },
   {
    "duration": 19,
    "start_time": "2022-02-12T20:10:06.732Z"
   },
   {
    "duration": 26,
    "start_time": "2022-02-12T20:10:06.754Z"
   },
   {
    "duration": 15,
    "start_time": "2022-02-12T20:10:06.783Z"
   },
   {
    "duration": 80,
    "start_time": "2022-02-12T20:10:06.800Z"
   },
   {
    "duration": 16,
    "start_time": "2022-02-12T20:10:06.882Z"
   },
   {
    "duration": 41,
    "start_time": "2022-02-12T20:10:06.902Z"
   },
   {
    "duration": 339,
    "start_time": "2022-02-12T20:10:06.946Z"
   },
   {
    "duration": 21,
    "start_time": "2022-02-12T20:10:07.288Z"
   },
   {
    "duration": 21,
    "start_time": "2022-02-12T20:10:07.312Z"
   },
   {
    "duration": 519,
    "start_time": "2022-02-12T20:10:07.336Z"
   },
   {
    "duration": 6,
    "start_time": "2022-02-12T20:10:07.857Z"
   },
   {
    "duration": 8,
    "start_time": "2022-02-12T20:10:07.865Z"
   },
   {
    "duration": 24,
    "start_time": "2022-02-12T20:10:07.876Z"
   },
   {
    "duration": 502,
    "start_time": "2022-02-12T20:10:07.902Z"
   },
   {
    "duration": 362,
    "start_time": "2022-02-12T20:10:08.407Z"
   },
   {
    "duration": 21,
    "start_time": "2022-02-12T20:10:08.772Z"
   },
   {
    "duration": 44,
    "start_time": "2022-02-12T20:10:08.796Z"
   },
   {
    "duration": 2960,
    "start_time": "2022-02-12T20:10:08.844Z"
   },
   {
    "duration": 581,
    "start_time": "2022-02-12T20:10:11.807Z"
   },
   {
    "duration": 2501,
    "start_time": "2022-02-12T20:10:12.391Z"
   },
   {
    "duration": 45,
    "start_time": "2022-02-12T20:10:14.897Z"
   },
   {
    "duration": 361,
    "start_time": "2022-02-12T20:10:14.945Z"
   },
   {
    "duration": 5,
    "start_time": "2022-02-12T20:10:15.309Z"
   },
   {
    "duration": 3716,
    "start_time": "2022-02-12T20:10:15.316Z"
   },
   {
    "duration": 40,
    "start_time": "2022-02-12T20:10:19.034Z"
   },
   {
    "duration": 228,
    "start_time": "2022-02-12T20:10:19.076Z"
   },
   {
    "duration": 5,
    "start_time": "2022-02-12T20:10:19.306Z"
   },
   {
    "duration": 1191,
    "start_time": "2022-02-12T20:10:19.313Z"
   },
   {
    "duration": 50,
    "start_time": "2022-02-12T20:10:20.507Z"
   },
   {
    "duration": 20,
    "start_time": "2022-02-12T20:10:20.559Z"
   },
   {
    "duration": 9152,
    "start_time": "2022-02-12T20:10:20.582Z"
   },
   {
    "duration": 6,
    "start_time": "2022-02-12T20:10:29.736Z"
   },
   {
    "duration": 1768,
    "start_time": "2022-02-12T20:10:29.744Z"
   },
   {
    "duration": 5,
    "start_time": "2022-02-12T20:10:31.514Z"
   },
   {
    "duration": 187734,
    "start_time": "2022-02-12T20:10:31.532Z"
   },
   {
    "duration": 15,
    "start_time": "2022-02-12T20:13:39.269Z"
   },
   {
    "duration": 46,
    "start_time": "2022-02-12T20:13:39.286Z"
   },
   {
    "duration": 187,
    "start_time": "2022-02-12T20:13:39.334Z"
   },
   {
    "duration": 19,
    "start_time": "2022-02-12T20:13:39.523Z"
   },
   {
    "duration": 489,
    "start_time": "2022-02-12T20:13:39.545Z"
   },
   {
    "duration": 4,
    "start_time": "2022-02-12T20:13:40.037Z"
   },
   {
    "duration": 941,
    "start_time": "2022-02-12T20:13:40.044Z"
   },
   {
    "duration": 2709,
    "start_time": "2022-02-12T20:18:09.906Z"
   },
   {
    "duration": 51,
    "start_time": "2022-02-12T20:18:12.617Z"
   },
   {
    "duration": 18,
    "start_time": "2022-02-12T20:18:12.670Z"
   },
   {
    "duration": 12,
    "start_time": "2022-02-12T20:18:12.691Z"
   },
   {
    "duration": 30,
    "start_time": "2022-02-12T20:18:12.706Z"
   },
   {
    "duration": 62,
    "start_time": "2022-02-12T20:18:12.739Z"
   },
   {
    "duration": 41,
    "start_time": "2022-02-12T20:18:12.803Z"
   },
   {
    "duration": 24,
    "start_time": "2022-02-12T20:18:12.847Z"
   },
   {
    "duration": 336,
    "start_time": "2022-02-12T20:18:12.874Z"
   },
   {
    "duration": 29,
    "start_time": "2022-02-12T20:18:13.214Z"
   },
   {
    "duration": 5,
    "start_time": "2022-02-12T20:18:13.246Z"
   },
   {
    "duration": 522,
    "start_time": "2022-02-12T20:18:13.254Z"
   },
   {
    "duration": 8,
    "start_time": "2022-02-12T20:18:13.779Z"
   },
   {
    "duration": 8,
    "start_time": "2022-02-12T20:18:13.789Z"
   },
   {
    "duration": 46,
    "start_time": "2022-02-12T20:18:13.799Z"
   },
   {
    "duration": 455,
    "start_time": "2022-02-12T20:18:13.848Z"
   },
   {
    "duration": 351,
    "start_time": "2022-02-12T20:18:14.305Z"
   },
   {
    "duration": 22,
    "start_time": "2022-02-12T20:18:14.658Z"
   },
   {
    "duration": 20,
    "start_time": "2022-02-12T20:18:14.683Z"
   },
   {
    "duration": 2820,
    "start_time": "2022-02-12T20:18:14.706Z"
   },
   {
    "duration": 549,
    "start_time": "2022-02-12T20:18:17.528Z"
   },
   {
    "duration": 2391,
    "start_time": "2022-02-12T20:18:18.080Z"
   },
   {
    "duration": 33,
    "start_time": "2022-02-12T20:18:20.474Z"
   },
   {
    "duration": 546,
    "start_time": "2022-02-12T20:18:20.509Z"
   },
   {
    "duration": 5,
    "start_time": "2022-02-12T20:18:21.058Z"
   },
   {
    "duration": 3933,
    "start_time": "2022-02-12T20:18:21.066Z"
   },
   {
    "duration": 50,
    "start_time": "2022-02-12T20:18:25.004Z"
   },
   {
    "duration": 217,
    "start_time": "2022-02-12T20:18:25.057Z"
   },
   {
    "duration": 4,
    "start_time": "2022-02-12T20:18:25.276Z"
   },
   {
    "duration": 1174,
    "start_time": "2022-02-12T20:18:25.282Z"
   },
   {
    "duration": 46,
    "start_time": "2022-02-12T20:18:26.458Z"
   },
   {
    "duration": 38,
    "start_time": "2022-02-12T20:18:26.506Z"
   },
   {
    "duration": 9497,
    "start_time": "2022-02-12T20:18:26.547Z"
   },
   {
    "duration": 6,
    "start_time": "2022-02-12T20:18:36.046Z"
   },
   {
    "duration": 1458,
    "start_time": "2022-02-12T20:18:36.054Z"
   },
   {
    "duration": 6,
    "start_time": "2022-02-12T20:18:37.514Z"
   },
   {
    "duration": 172973,
    "start_time": "2022-02-12T20:18:37.532Z"
   },
   {
    "duration": 27,
    "start_time": "2022-02-12T20:21:30.507Z"
   },
   {
    "duration": 31,
    "start_time": "2022-02-12T20:21:30.536Z"
   },
   {
    "duration": 190,
    "start_time": "2022-02-12T20:21:30.569Z"
   },
   {
    "duration": 16,
    "start_time": "2022-02-12T20:21:30.761Z"
   },
   {
    "duration": 479,
    "start_time": "2022-02-12T20:21:30.779Z"
   },
   {
    "duration": 5,
    "start_time": "2022-02-12T20:21:31.261Z"
   },
   {
    "duration": 920,
    "start_time": "2022-02-12T20:21:31.268Z"
   },
   {
    "duration": 2735,
    "start_time": "2022-02-12T20:45:10.426Z"
   },
   {
    "duration": 48,
    "start_time": "2022-02-12T20:45:13.163Z"
   },
   {
    "duration": 27,
    "start_time": "2022-02-12T20:45:13.214Z"
   },
   {
    "duration": 31,
    "start_time": "2022-02-12T20:45:13.244Z"
   },
   {
    "duration": 21,
    "start_time": "2022-02-12T20:45:13.278Z"
   },
   {
    "duration": 61,
    "start_time": "2022-02-12T20:45:13.301Z"
   },
   {
    "duration": 15,
    "start_time": "2022-02-12T20:45:13.365Z"
   },
   {
    "duration": 25,
    "start_time": "2022-02-12T20:45:13.384Z"
   },
   {
    "duration": 316,
    "start_time": "2022-02-12T20:45:13.432Z"
   },
   {
    "duration": 21,
    "start_time": "2022-02-12T20:45:13.750Z"
   },
   {
    "duration": 6609,
    "start_time": "2022-02-12T20:45:13.773Z"
   },
   {
    "duration": 19,
    "start_time": "2022-02-12T20:45:20.367Z"
   },
   {
    "duration": 18,
    "start_time": "2022-02-12T20:45:20.369Z"
   },
   {
    "duration": 17,
    "start_time": "2022-02-12T20:45:20.371Z"
   },
   {
    "duration": 19,
    "start_time": "2022-02-12T20:45:20.372Z"
   },
   {
    "duration": 19,
    "start_time": "2022-02-12T20:45:20.373Z"
   },
   {
    "duration": 19,
    "start_time": "2022-02-12T20:45:20.375Z"
   },
   {
    "duration": 19,
    "start_time": "2022-02-12T20:45:20.376Z"
   },
   {
    "duration": 20,
    "start_time": "2022-02-12T20:45:20.377Z"
   },
   {
    "duration": 20,
    "start_time": "2022-02-12T20:45:20.378Z"
   },
   {
    "duration": 20,
    "start_time": "2022-02-12T20:45:20.380Z"
   },
   {
    "duration": 20,
    "start_time": "2022-02-12T20:45:20.381Z"
   },
   {
    "duration": 18,
    "start_time": "2022-02-12T20:45:20.385Z"
   },
   {
    "duration": 18,
    "start_time": "2022-02-12T20:45:20.386Z"
   },
   {
    "duration": 19,
    "start_time": "2022-02-12T20:45:20.387Z"
   },
   {
    "duration": 19,
    "start_time": "2022-02-12T20:45:20.388Z"
   },
   {
    "duration": 20,
    "start_time": "2022-02-12T20:45:20.389Z"
   },
   {
    "duration": 20,
    "start_time": "2022-02-12T20:45:20.390Z"
   },
   {
    "duration": 21,
    "start_time": "2022-02-12T20:45:20.391Z"
   },
   {
    "duration": 22,
    "start_time": "2022-02-12T20:45:20.392Z"
   },
   {
    "duration": 18,
    "start_time": "2022-02-12T20:45:20.397Z"
   },
   {
    "duration": 18,
    "start_time": "2022-02-12T20:45:20.398Z"
   },
   {
    "duration": 19,
    "start_time": "2022-02-12T20:45:20.399Z"
   },
   {
    "duration": 20,
    "start_time": "2022-02-12T20:45:20.400Z"
   },
   {
    "duration": 21,
    "start_time": "2022-02-12T20:45:20.400Z"
   },
   {
    "duration": 21,
    "start_time": "2022-02-12T20:45:20.401Z"
   },
   {
    "duration": 22,
    "start_time": "2022-02-12T20:45:20.402Z"
   },
   {
    "duration": 22,
    "start_time": "2022-02-12T20:45:20.403Z"
   },
   {
    "duration": 30,
    "start_time": "2022-02-12T20:45:20.404Z"
   },
   {
    "duration": 31,
    "start_time": "2022-02-12T20:45:20.405Z"
   },
   {
    "duration": 32,
    "start_time": "2022-02-12T20:45:20.406Z"
   },
   {
    "duration": 32,
    "start_time": "2022-02-12T20:45:20.407Z"
   },
   {
    "duration": 33,
    "start_time": "2022-02-12T20:45:20.408Z"
   },
   {
    "duration": 34,
    "start_time": "2022-02-12T20:45:20.408Z"
   },
   {
    "duration": 35,
    "start_time": "2022-02-12T20:45:20.409Z"
   },
   {
    "duration": 35,
    "start_time": "2022-02-12T20:45:20.410Z"
   },
   {
    "duration": 8,
    "start_time": "2022-02-12T20:47:56.458Z"
   },
   {
    "duration": 14,
    "start_time": "2022-02-12T20:48:00.414Z"
   },
   {
    "duration": 2615,
    "start_time": "2022-02-12T20:48:16.161Z"
   },
   {
    "duration": 53,
    "start_time": "2022-02-12T20:48:18.779Z"
   },
   {
    "duration": 20,
    "start_time": "2022-02-12T20:48:18.835Z"
   },
   {
    "duration": 13,
    "start_time": "2022-02-12T20:48:18.858Z"
   },
   {
    "duration": 8,
    "start_time": "2022-02-12T20:48:18.874Z"
   },
   {
    "duration": 97,
    "start_time": "2022-02-12T20:48:18.884Z"
   },
   {
    "duration": 16,
    "start_time": "2022-02-12T20:48:18.984Z"
   },
   {
    "duration": 45,
    "start_time": "2022-02-12T20:48:19.003Z"
   },
   {
    "duration": 333,
    "start_time": "2022-02-12T20:48:19.051Z"
   },
   {
    "duration": 20,
    "start_time": "2022-02-12T20:48:19.387Z"
   },
   {
    "duration": 24,
    "start_time": "2022-02-12T20:48:19.410Z"
   },
   {
    "duration": 13,
    "start_time": "2022-02-12T20:48:19.436Z"
   },
   {
    "duration": 4,
    "start_time": "2022-02-12T20:48:19.451Z"
   },
   {
    "duration": 538,
    "start_time": "2022-02-12T20:48:19.458Z"
   },
   {
    "duration": 6,
    "start_time": "2022-02-12T20:48:19.998Z"
   },
   {
    "duration": 28,
    "start_time": "2022-02-12T20:48:20.006Z"
   },
   {
    "duration": 21,
    "start_time": "2022-02-12T20:48:20.036Z"
   },
   {
    "duration": 465,
    "start_time": "2022-02-12T20:48:20.060Z"
   },
   {
    "duration": 352,
    "start_time": "2022-02-12T20:48:20.528Z"
   },
   {
    "duration": 22,
    "start_time": "2022-02-12T20:48:20.882Z"
   },
   {
    "duration": 39,
    "start_time": "2022-02-12T20:48:20.906Z"
   },
   {
    "duration": 2869,
    "start_time": "2022-02-12T20:48:20.947Z"
   },
   {
    "duration": 549,
    "start_time": "2022-02-12T20:48:23.821Z"
   },
   {
    "duration": 2481,
    "start_time": "2022-02-12T20:48:24.373Z"
   },
   {
    "duration": 35,
    "start_time": "2022-02-12T20:48:26.857Z"
   },
   {
    "duration": 404,
    "start_time": "2022-02-12T20:48:26.894Z"
   },
   {
    "duration": 4,
    "start_time": "2022-02-12T20:48:27.300Z"
   },
   {
    "duration": 3762,
    "start_time": "2022-02-12T20:48:27.307Z"
   },
   {
    "duration": 39,
    "start_time": "2022-02-12T20:48:31.072Z"
   },
   {
    "duration": 254,
    "start_time": "2022-02-12T20:48:31.114Z"
   },
   {
    "duration": 4,
    "start_time": "2022-02-12T20:48:31.370Z"
   },
   {
    "duration": 1225,
    "start_time": "2022-02-12T20:48:31.377Z"
   },
   {
    "duration": 55,
    "start_time": "2022-02-12T20:48:32.604Z"
   },
   {
    "duration": 20,
    "start_time": "2022-02-12T20:48:32.662Z"
   },
   {
    "duration": 9250,
    "start_time": "2022-02-12T20:48:32.685Z"
   },
   {
    "duration": 6,
    "start_time": "2022-02-12T20:48:41.938Z"
   },
   {
    "duration": 1516,
    "start_time": "2022-02-12T20:48:41.946Z"
   },
   {
    "duration": 5,
    "start_time": "2022-02-12T20:48:43.464Z"
   },
   {
    "duration": 177505,
    "start_time": "2022-02-12T20:48:43.471Z"
   },
   {
    "duration": 17,
    "start_time": "2022-02-12T20:51:40.978Z"
   },
   {
    "duration": 56,
    "start_time": "2022-02-12T20:51:40.998Z"
   },
   {
    "duration": 250,
    "start_time": "2022-02-12T20:51:41.056Z"
   },
   {
    "duration": 30,
    "start_time": "2022-02-12T20:51:41.309Z"
   },
   {
    "duration": 489,
    "start_time": "2022-02-12T20:51:41.343Z"
   },
   {
    "duration": 6,
    "start_time": "2022-02-12T20:51:41.835Z"
   },
   {
    "duration": 1331,
    "start_time": "2022-02-12T20:51:41.844Z"
   },
   {
    "duration": 6,
    "start_time": "2022-02-12T21:01:37.140Z"
   },
   {
    "duration": 2969,
    "start_time": "2022-02-12T21:02:58.263Z"
   },
   {
    "duration": 47,
    "start_time": "2022-02-12T21:03:01.235Z"
   },
   {
    "duration": 17,
    "start_time": "2022-02-12T21:03:01.285Z"
   },
   {
    "duration": 31,
    "start_time": "2022-02-12T21:03:01.305Z"
   },
   {
    "duration": 9,
    "start_time": "2022-02-12T21:03:01.339Z"
   },
   {
    "duration": 95,
    "start_time": "2022-02-12T21:03:01.351Z"
   },
   {
    "duration": 17,
    "start_time": "2022-02-12T21:03:01.449Z"
   },
   {
    "duration": 29,
    "start_time": "2022-02-12T21:03:01.470Z"
   },
   {
    "duration": 346,
    "start_time": "2022-02-12T21:03:01.503Z"
   },
   {
    "duration": 20,
    "start_time": "2022-02-12T21:03:01.852Z"
   },
   {
    "duration": 21,
    "start_time": "2022-02-12T21:03:01.874Z"
   },
   {
    "duration": 14,
    "start_time": "2022-02-12T21:03:01.898Z"
   },
   {
    "duration": 20,
    "start_time": "2022-02-12T21:03:01.914Z"
   },
   {
    "duration": 509,
    "start_time": "2022-02-12T21:03:01.937Z"
   },
   {
    "duration": 6,
    "start_time": "2022-02-12T21:03:02.449Z"
   },
   {
    "duration": 9,
    "start_time": "2022-02-12T21:03:02.458Z"
   },
   {
    "duration": 29,
    "start_time": "2022-02-12T21:03:02.470Z"
   },
   {
    "duration": 502,
    "start_time": "2022-02-12T21:03:02.501Z"
   },
   {
    "duration": 361,
    "start_time": "2022-02-12T21:03:03.006Z"
   },
   {
    "duration": 22,
    "start_time": "2022-02-12T21:03:03.370Z"
   },
   {
    "duration": 38,
    "start_time": "2022-02-12T21:03:03.395Z"
   },
   {
    "duration": 2842,
    "start_time": "2022-02-12T21:03:03.435Z"
   },
   {
    "duration": 544,
    "start_time": "2022-02-12T21:03:06.282Z"
   },
   {
    "duration": 2546,
    "start_time": "2022-02-12T21:03:06.829Z"
   },
   {
    "duration": 35,
    "start_time": "2022-02-12T21:03:09.378Z"
   },
   {
    "duration": 368,
    "start_time": "2022-02-12T21:03:09.432Z"
   },
   {
    "duration": 6,
    "start_time": "2022-02-12T21:03:09.802Z"
   },
   {
    "duration": 3955,
    "start_time": "2022-02-12T21:03:09.811Z"
   },
   {
    "duration": 37,
    "start_time": "2022-02-12T21:03:13.768Z"
   },
   {
    "duration": 230,
    "start_time": "2022-02-12T21:03:13.808Z"
   },
   {
    "duration": 5,
    "start_time": "2022-02-12T21:03:14.041Z"
   },
   {
    "duration": 1228,
    "start_time": "2022-02-12T21:03:14.049Z"
   },
   {
    "duration": 56,
    "start_time": "2022-02-12T21:03:15.279Z"
   },
   {
    "duration": 22,
    "start_time": "2022-02-12T21:03:15.337Z"
   },
   {
    "duration": 9175,
    "start_time": "2022-02-12T21:03:15.361Z"
   },
   {
    "duration": 6,
    "start_time": "2022-02-12T21:03:24.539Z"
   },
   {
    "duration": 1494,
    "start_time": "2022-02-12T21:03:24.548Z"
   },
   {
    "duration": 6,
    "start_time": "2022-02-12T21:03:26.044Z"
   },
   {
    "duration": 68701,
    "start_time": "2022-02-12T21:03:26.052Z"
   },
   {
    "duration": 17,
    "start_time": "2022-02-12T21:04:34.756Z"
   },
   {
    "duration": 56,
    "start_time": "2022-02-12T21:04:34.776Z"
   },
   {
    "duration": 193,
    "start_time": "2022-02-12T21:04:34.835Z"
   },
   {
    "duration": 17,
    "start_time": "2022-02-12T21:04:35.030Z"
   },
   {
    "duration": 490,
    "start_time": "2022-02-12T21:04:35.049Z"
   },
   {
    "duration": 5,
    "start_time": "2022-02-12T21:04:35.542Z"
   },
   {
    "duration": 904,
    "start_time": "2022-02-12T21:04:35.549Z"
   },
   {
    "duration": 503,
    "start_time": "2022-02-12T21:11:33.328Z"
   },
   {
    "duration": 2733,
    "start_time": "2022-02-12T21:11:53.481Z"
   },
   {
    "duration": 66,
    "start_time": "2022-02-12T21:11:56.218Z"
   },
   {
    "duration": 25,
    "start_time": "2022-02-12T21:11:56.289Z"
   },
   {
    "duration": 34,
    "start_time": "2022-02-12T21:11:56.317Z"
   },
   {
    "duration": 11,
    "start_time": "2022-02-12T21:11:56.354Z"
   },
   {
    "duration": 90,
    "start_time": "2022-02-12T21:11:56.368Z"
   },
   {
    "duration": 18,
    "start_time": "2022-02-12T21:11:56.461Z"
   },
   {
    "duration": 53,
    "start_time": "2022-02-12T21:11:56.485Z"
   },
   {
    "duration": 384,
    "start_time": "2022-02-12T21:11:56.541Z"
   },
   {
    "duration": 23,
    "start_time": "2022-02-12T21:11:56.927Z"
   },
   {
    "duration": 574,
    "start_time": "2022-02-12T21:11:56.953Z"
   },
   {
    "duration": 77,
    "start_time": "2022-02-12T21:11:57.454Z"
   },
   {
    "duration": 77,
    "start_time": "2022-02-12T21:11:57.456Z"
   },
   {
    "duration": 76,
    "start_time": "2022-02-12T21:11:57.458Z"
   },
   {
    "duration": 76,
    "start_time": "2022-02-12T21:11:57.460Z"
   },
   {
    "duration": 75,
    "start_time": "2022-02-12T21:11:57.462Z"
   },
   {
    "duration": 75,
    "start_time": "2022-02-12T21:11:57.464Z"
   },
   {
    "duration": 75,
    "start_time": "2022-02-12T21:11:57.465Z"
   },
   {
    "duration": 75,
    "start_time": "2022-02-12T21:11:57.467Z"
   },
   {
    "duration": 74,
    "start_time": "2022-02-12T21:11:57.469Z"
   },
   {
    "duration": 74,
    "start_time": "2022-02-12T21:11:57.470Z"
   },
   {
    "duration": 74,
    "start_time": "2022-02-12T21:11:57.472Z"
   },
   {
    "duration": 73,
    "start_time": "2022-02-12T21:11:57.474Z"
   },
   {
    "duration": 74,
    "start_time": "2022-02-12T21:11:57.475Z"
   },
   {
    "duration": 74,
    "start_time": "2022-02-12T21:11:57.476Z"
   },
   {
    "duration": 74,
    "start_time": "2022-02-12T21:11:57.478Z"
   },
   {
    "duration": 74,
    "start_time": "2022-02-12T21:11:57.479Z"
   },
   {
    "duration": 75,
    "start_time": "2022-02-12T21:11:57.480Z"
   },
   {
    "duration": 74,
    "start_time": "2022-02-12T21:11:57.482Z"
   },
   {
    "duration": 37,
    "start_time": "2022-02-12T21:11:57.521Z"
   },
   {
    "duration": 38,
    "start_time": "2022-02-12T21:11:57.522Z"
   },
   {
    "duration": 36,
    "start_time": "2022-02-12T21:11:57.525Z"
   },
   {
    "duration": 37,
    "start_time": "2022-02-12T21:11:57.526Z"
   },
   {
    "duration": 38,
    "start_time": "2022-02-12T21:11:57.527Z"
   },
   {
    "duration": 37,
    "start_time": "2022-02-12T21:11:57.529Z"
   },
   {
    "duration": 38,
    "start_time": "2022-02-12T21:11:57.530Z"
   },
   {
    "duration": 30,
    "start_time": "2022-02-12T21:11:57.540Z"
   },
   {
    "duration": 30,
    "start_time": "2022-02-12T21:11:57.541Z"
   },
   {
    "duration": 31,
    "start_time": "2022-02-12T21:11:57.542Z"
   },
   {
    "duration": 31,
    "start_time": "2022-02-12T21:11:57.543Z"
   },
   {
    "duration": 32,
    "start_time": "2022-02-12T21:11:57.544Z"
   },
   {
    "duration": 29,
    "start_time": "2022-02-12T21:11:57.548Z"
   },
   {
    "duration": 29,
    "start_time": "2022-02-12T21:11:57.549Z"
   },
   {
    "duration": 24,
    "start_time": "2022-02-12T21:11:57.555Z"
   },
   {
    "duration": 77,
    "start_time": "2022-02-12T21:11:57.556Z"
   },
   {
    "duration": 2588,
    "start_time": "2022-02-12T21:13:19.334Z"
   },
   {
    "duration": 49,
    "start_time": "2022-02-12T21:13:21.925Z"
   },
   {
    "duration": 19,
    "start_time": "2022-02-12T21:13:21.978Z"
   },
   {
    "duration": 37,
    "start_time": "2022-02-12T21:13:22.000Z"
   },
   {
    "duration": 9,
    "start_time": "2022-02-12T21:13:22.040Z"
   },
   {
    "duration": 85,
    "start_time": "2022-02-12T21:13:22.051Z"
   },
   {
    "duration": 17,
    "start_time": "2022-02-12T21:13:22.138Z"
   },
   {
    "duration": 24,
    "start_time": "2022-02-12T21:13:22.157Z"
   },
   {
    "duration": 355,
    "start_time": "2022-02-12T21:13:22.184Z"
   },
   {
    "duration": 20,
    "start_time": "2022-02-12T21:13:22.543Z"
   },
   {
    "duration": 7,
    "start_time": "2022-02-12T21:13:22.566Z"
   },
   {
    "duration": 560,
    "start_time": "2022-02-12T21:13:22.575Z"
   },
   {
    "duration": 6,
    "start_time": "2022-02-12T21:13:23.137Z"
   },
   {
    "duration": 12,
    "start_time": "2022-02-12T21:13:23.145Z"
   },
   {
    "duration": 23,
    "start_time": "2022-02-12T21:13:23.159Z"
   },
   {
    "duration": 889,
    "start_time": "2022-02-12T21:13:23.185Z"
   },
   {
    "duration": 52,
    "start_time": "2022-02-12T21:13:24.140Z"
   },
   {
    "duration": 45,
    "start_time": "2022-02-12T21:13:24.149Z"
   },
   {
    "duration": 44,
    "start_time": "2022-02-12T21:13:24.152Z"
   },
   {
    "duration": 44,
    "start_time": "2022-02-12T21:13:24.154Z"
   },
   {
    "duration": 44,
    "start_time": "2022-02-12T21:13:24.156Z"
   },
   {
    "duration": 34,
    "start_time": "2022-02-12T21:13:24.168Z"
   },
   {
    "duration": 31,
    "start_time": "2022-02-12T21:13:24.173Z"
   },
   {
    "duration": -72,
    "start_time": "2022-02-12T21:13:24.278Z"
   },
   {
    "duration": -71,
    "start_time": "2022-02-12T21:13:24.279Z"
   },
   {
    "duration": -48,
    "start_time": "2022-02-12T21:13:24.280Z"
   },
   {
    "duration": -47,
    "start_time": "2022-02-12T21:13:24.282Z"
   },
   {
    "duration": -46,
    "start_time": "2022-02-12T21:13:24.283Z"
   },
   {
    "duration": -45,
    "start_time": "2022-02-12T21:13:24.284Z"
   },
   {
    "duration": -44,
    "start_time": "2022-02-12T21:13:24.285Z"
   },
   {
    "duration": -43,
    "start_time": "2022-02-12T21:13:24.286Z"
   },
   {
    "duration": -41,
    "start_time": "2022-02-12T21:13:24.287Z"
   },
   {
    "duration": -40,
    "start_time": "2022-02-12T21:13:24.288Z"
   },
   {
    "duration": -41,
    "start_time": "2022-02-12T21:13:24.291Z"
   },
   {
    "duration": -40,
    "start_time": "2022-02-12T21:13:24.292Z"
   },
   {
    "duration": -42,
    "start_time": "2022-02-12T21:13:24.296Z"
   },
   {
    "duration": -41,
    "start_time": "2022-02-12T21:13:24.297Z"
   },
   {
    "duration": -41,
    "start_time": "2022-02-12T21:13:24.299Z"
   },
   {
    "duration": -39,
    "start_time": "2022-02-12T21:13:24.299Z"
   },
   {
    "duration": -37,
    "start_time": "2022-02-12T21:13:24.300Z"
   },
   {
    "duration": -37,
    "start_time": "2022-02-12T21:13:24.302Z"
   },
   {
    "duration": -34,
    "start_time": "2022-02-12T21:13:24.302Z"
   },
   {
    "duration": -33,
    "start_time": "2022-02-12T21:13:24.303Z"
   },
   {
    "duration": 2123,
    "start_time": "2022-02-12T21:14:17.501Z"
   },
   {
    "duration": 1752,
    "start_time": "2022-02-12T21:16:37.237Z"
   },
   {
    "duration": 2579,
    "start_time": "2022-02-12T21:16:55.757Z"
   },
   {
    "duration": 47,
    "start_time": "2022-02-12T21:16:58.338Z"
   },
   {
    "duration": 19,
    "start_time": "2022-02-12T21:16:58.388Z"
   },
   {
    "duration": 27,
    "start_time": "2022-02-12T21:16:58.410Z"
   },
   {
    "duration": 11,
    "start_time": "2022-02-12T21:16:58.440Z"
   },
   {
    "duration": 86,
    "start_time": "2022-02-12T21:16:58.453Z"
   },
   {
    "duration": 17,
    "start_time": "2022-02-12T21:16:58.541Z"
   },
   {
    "duration": 23,
    "start_time": "2022-02-12T21:16:58.562Z"
   },
   {
    "duration": 350,
    "start_time": "2022-02-12T21:16:58.588Z"
   },
   {
    "duration": 21,
    "start_time": "2022-02-12T21:16:58.940Z"
   },
   {
    "duration": 10,
    "start_time": "2022-02-12T21:16:58.963Z"
   },
   {
    "duration": 521,
    "start_time": "2022-02-12T21:16:58.975Z"
   },
   {
    "duration": 6,
    "start_time": "2022-02-12T21:16:59.499Z"
   },
   {
    "duration": 27,
    "start_time": "2022-02-12T21:16:59.507Z"
   },
   {
    "duration": 25,
    "start_time": "2022-02-12T21:16:59.536Z"
   },
   {
    "duration": 319,
    "start_time": "2022-02-12T21:16:59.563Z"
   },
   {
    "duration": 534,
    "start_time": "2022-02-12T21:16:59.885Z"
   },
   {
    "duration": 16,
    "start_time": "2022-02-12T21:17:00.422Z"
   },
   {
    "duration": 44,
    "start_time": "2022-02-12T21:17:00.441Z"
   },
   {
    "duration": 2858,
    "start_time": "2022-02-12T21:17:00.487Z"
   },
   {
    "duration": 553,
    "start_time": "2022-02-12T21:17:03.348Z"
   },
   {
    "duration": 2703,
    "start_time": "2022-02-12T21:17:03.904Z"
   },
   {
    "duration": 40,
    "start_time": "2022-02-12T21:17:06.612Z"
   },
   {
    "duration": 380,
    "start_time": "2022-02-12T21:17:06.655Z"
   },
   {
    "duration": 4,
    "start_time": "2022-02-12T21:17:07.038Z"
   },
   {
    "duration": 3782,
    "start_time": "2022-02-12T21:17:07.044Z"
   },
   {
    "duration": 38,
    "start_time": "2022-02-12T21:17:10.829Z"
   },
   {
    "duration": 229,
    "start_time": "2022-02-12T21:17:10.869Z"
   },
   {
    "duration": 4,
    "start_time": "2022-02-12T21:17:11.101Z"
   },
   {
    "duration": 1331,
    "start_time": "2022-02-12T21:17:11.107Z"
   },
   {
    "duration": 48,
    "start_time": "2022-02-12T21:17:12.440Z"
   },
   {
    "duration": 42,
    "start_time": "2022-02-12T21:17:12.490Z"
   },
   {
    "duration": 22600,
    "start_time": "2022-02-12T21:17:12.534Z"
   },
   {
    "duration": 6,
    "start_time": "2022-02-12T21:17:35.137Z"
   },
   {
    "duration": 1488,
    "start_time": "2022-02-12T21:17:35.145Z"
   },
   {
    "duration": 6,
    "start_time": "2022-02-12T21:17:36.636Z"
   },
   {
    "duration": 69122,
    "start_time": "2022-02-12T21:17:36.644Z"
   },
   {
    "duration": 18,
    "start_time": "2022-02-12T21:18:45.768Z"
   },
   {
    "duration": 52,
    "start_time": "2022-02-12T21:18:45.788Z"
   },
   {
    "duration": 204,
    "start_time": "2022-02-12T21:18:45.843Z"
   },
   {
    "duration": 17,
    "start_time": "2022-02-12T21:18:46.049Z"
   },
   {
    "duration": 505,
    "start_time": "2022-02-12T21:18:46.068Z"
   },
   {
    "duration": 5,
    "start_time": "2022-02-12T21:18:46.576Z"
   },
   {
    "duration": 954,
    "start_time": "2022-02-12T21:18:46.583Z"
   },
   {
    "duration": 210119,
    "start_time": "2022-02-12T21:21:43.898Z"
   },
   {
    "duration": 193,
    "start_time": "2022-02-12T21:25:14.020Z"
   },
   {
    "duration": 41,
    "start_time": "2022-02-12T21:25:14.217Z"
   },
   {
    "duration": 2583,
    "start_time": "2022-02-12T21:25:17.821Z"
   },
   {
    "duration": 54,
    "start_time": "2022-02-12T21:25:20.406Z"
   },
   {
    "duration": 18,
    "start_time": "2022-02-12T21:25:20.465Z"
   },
   {
    "duration": 15,
    "start_time": "2022-02-12T21:25:20.487Z"
   },
   {
    "duration": 12,
    "start_time": "2022-02-12T21:25:20.533Z"
   },
   {
    "duration": 87,
    "start_time": "2022-02-12T21:25:20.548Z"
   },
   {
    "duration": 16,
    "start_time": "2022-02-12T21:25:20.638Z"
   },
   {
    "duration": 23,
    "start_time": "2022-02-12T21:25:20.658Z"
   },
   {
    "duration": 344,
    "start_time": "2022-02-12T21:25:20.684Z"
   },
   {
    "duration": 22,
    "start_time": "2022-02-12T21:25:21.033Z"
   },
   {
    "duration": 8,
    "start_time": "2022-02-12T21:25:21.057Z"
   },
   {
    "duration": 525,
    "start_time": "2022-02-12T21:25:21.067Z"
   },
   {
    "duration": 6,
    "start_time": "2022-02-12T21:25:21.595Z"
   },
   {
    "duration": 8,
    "start_time": "2022-02-12T21:25:21.603Z"
   },
   {
    "duration": 21,
    "start_time": "2022-02-12T21:25:21.633Z"
   },
   {
    "duration": 336,
    "start_time": "2022-02-12T21:25:21.656Z"
   },
   {
    "duration": 496,
    "start_time": "2022-02-12T21:25:21.994Z"
   },
   {
    "duration": 11,
    "start_time": "2022-02-12T21:25:22.492Z"
   },
   {
    "duration": 52,
    "start_time": "2022-02-12T21:25:22.505Z"
   },
   {
    "duration": 22,
    "start_time": "2022-02-12T21:25:22.559Z"
   },
   {
    "duration": 2754,
    "start_time": "2022-02-12T21:25:22.583Z"
   },
   {
    "duration": 569,
    "start_time": "2022-02-12T21:25:25.339Z"
   },
   {
    "duration": 2656,
    "start_time": "2022-02-12T21:25:25.914Z"
   },
   {
    "duration": 35,
    "start_time": "2022-02-12T21:25:28.573Z"
   },
   {
    "duration": 388,
    "start_time": "2022-02-12T21:25:28.611Z"
   },
   {
    "duration": 5,
    "start_time": "2022-02-12T21:25:29.001Z"
   },
   {
    "duration": 3824,
    "start_time": "2022-02-12T21:25:29.008Z"
   },
   {
    "duration": 37,
    "start_time": "2022-02-12T21:25:32.834Z"
   },
   {
    "duration": 234,
    "start_time": "2022-02-12T21:25:32.874Z"
   },
   {
    "duration": 5,
    "start_time": "2022-02-12T21:25:33.110Z"
   },
   {
    "duration": 1169,
    "start_time": "2022-02-12T21:25:33.118Z"
   },
   {
    "duration": 54,
    "start_time": "2022-02-12T21:25:34.290Z"
   },
   {
    "duration": 21,
    "start_time": "2022-02-12T21:25:34.346Z"
   },
   {
    "duration": 31971,
    "start_time": "2022-02-12T21:25:34.369Z"
   },
   {
    "duration": 5,
    "start_time": "2022-02-12T21:26:06.343Z"
   },
   {
    "duration": 1481,
    "start_time": "2022-02-12T21:26:06.351Z"
   },
   {
    "duration": 6,
    "start_time": "2022-02-12T21:26:07.834Z"
   },
   {
    "duration": 213895,
    "start_time": "2022-02-12T21:26:07.842Z"
   },
   {
    "duration": 16,
    "start_time": "2022-02-12T21:29:41.740Z"
   },
   {
    "duration": 22,
    "start_time": "2022-02-12T21:29:41.758Z"
   },
   {
    "duration": 217,
    "start_time": "2022-02-12T21:29:41.783Z"
   },
   {
    "duration": 29,
    "start_time": "2022-02-12T21:29:42.003Z"
   },
   {
    "duration": 512,
    "start_time": "2022-02-12T21:29:42.035Z"
   },
   {
    "duration": 4,
    "start_time": "2022-02-12T21:29:42.550Z"
   },
   {
    "duration": 939,
    "start_time": "2022-02-12T21:29:42.557Z"
   },
   {
    "duration": 38,
    "start_time": "2022-02-12T21:29:43.500Z"
   },
   {
    "duration": 68798,
    "start_time": "2022-02-12T21:39:09.818Z"
   },
   {
    "duration": 25,
    "start_time": "2022-02-12T21:42:52.777Z"
   },
   {
    "duration": 580,
    "start_time": "2022-02-12T21:43:07.215Z"
   },
   {
    "duration": 17,
    "start_time": "2022-02-12T21:43:10.844Z"
   },
   {
    "duration": 2588,
    "start_time": "2022-02-12T21:43:30.481Z"
   },
   {
    "duration": 48,
    "start_time": "2022-02-12T21:43:33.072Z"
   },
   {
    "duration": 25,
    "start_time": "2022-02-12T21:43:33.123Z"
   },
   {
    "duration": 13,
    "start_time": "2022-02-12T21:43:33.151Z"
   },
   {
    "duration": 9,
    "start_time": "2022-02-12T21:43:33.167Z"
   },
   {
    "duration": 99,
    "start_time": "2022-02-12T21:43:33.178Z"
   },
   {
    "duration": 16,
    "start_time": "2022-02-12T21:43:33.280Z"
   },
   {
    "duration": 43,
    "start_time": "2022-02-12T21:43:33.300Z"
   },
   {
    "duration": 333,
    "start_time": "2022-02-12T21:43:33.346Z"
   },
   {
    "duration": 20,
    "start_time": "2022-02-12T21:43:33.681Z"
   },
   {
    "duration": 10,
    "start_time": "2022-02-12T21:43:33.704Z"
   },
   {
    "duration": 523,
    "start_time": "2022-02-12T21:43:33.733Z"
   },
   {
    "duration": 7,
    "start_time": "2022-02-12T21:43:34.258Z"
   },
   {
    "duration": 8,
    "start_time": "2022-02-12T21:43:34.267Z"
   },
   {
    "duration": 20,
    "start_time": "2022-02-12T21:43:34.278Z"
   },
   {
    "duration": 352,
    "start_time": "2022-02-12T21:43:34.300Z"
   },
   {
    "duration": 514,
    "start_time": "2022-02-12T21:43:34.655Z"
   },
   {
    "duration": 12,
    "start_time": "2022-02-12T21:43:35.171Z"
   },
   {
    "duration": 48,
    "start_time": "2022-02-12T21:43:35.185Z"
   },
   {
    "duration": 26,
    "start_time": "2022-02-12T21:43:35.235Z"
   },
   {
    "duration": 20,
    "start_time": "2022-02-12T21:43:35.263Z"
   },
   {
    "duration": 2889,
    "start_time": "2022-02-12T21:43:35.285Z"
   },
   {
    "duration": 541,
    "start_time": "2022-02-12T21:43:38.179Z"
   },
   {
    "duration": 2654,
    "start_time": "2022-02-12T21:43:38.724Z"
   },
   {
    "duration": 35,
    "start_time": "2022-02-12T21:43:41.381Z"
   },
   {
    "duration": 377,
    "start_time": "2022-02-12T21:43:41.418Z"
   },
   {
    "duration": 5,
    "start_time": "2022-02-12T21:43:41.797Z"
   },
   {
    "duration": 3858,
    "start_time": "2022-02-12T21:43:41.804Z"
   },
   {
    "duration": 41,
    "start_time": "2022-02-12T21:43:45.664Z"
   },
   {
    "duration": 239,
    "start_time": "2022-02-12T21:43:45.707Z"
   },
   {
    "duration": 5,
    "start_time": "2022-02-12T21:43:45.948Z"
   },
   {
    "duration": 1224,
    "start_time": "2022-02-12T21:43:45.955Z"
   },
   {
    "duration": 58,
    "start_time": "2022-02-12T21:43:47.182Z"
   },
   {
    "duration": 21,
    "start_time": "2022-02-12T21:43:47.242Z"
   },
   {
    "duration": 32369,
    "start_time": "2022-02-12T21:43:47.265Z"
   },
   {
    "duration": 6,
    "start_time": "2022-02-12T21:44:19.636Z"
   },
   {
    "duration": 1427,
    "start_time": "2022-02-12T21:44:19.644Z"
   },
   {
    "duration": 5,
    "start_time": "2022-02-12T21:44:21.074Z"
   },
   {
    "duration": 66770,
    "start_time": "2022-02-12T21:44:21.081Z"
   },
   {
    "duration": 17,
    "start_time": "2022-02-12T21:45:27.853Z"
   },
   {
    "duration": 23,
    "start_time": "2022-02-12T21:45:27.872Z"
   },
   {
    "duration": 205,
    "start_time": "2022-02-12T21:45:27.898Z"
   },
   {
    "duration": 28,
    "start_time": "2022-02-12T21:45:28.105Z"
   },
   {
    "duration": 469,
    "start_time": "2022-02-12T21:45:28.135Z"
   },
   {
    "duration": 5,
    "start_time": "2022-02-12T21:45:28.607Z"
   },
   {
    "duration": 907,
    "start_time": "2022-02-12T21:45:28.614Z"
   },
   {
    "duration": 25,
    "start_time": "2022-02-12T21:45:50.213Z"
   },
   {
    "duration": 18,
    "start_time": "2022-02-12T21:45:58.718Z"
   },
   {
    "duration": 2558,
    "start_time": "2022-02-12T21:46:24.149Z"
   },
   {
    "duration": 51,
    "start_time": "2022-02-12T21:46:26.709Z"
   },
   {
    "duration": 18,
    "start_time": "2022-02-12T21:46:26.763Z"
   },
   {
    "duration": 15,
    "start_time": "2022-02-12T21:46:26.784Z"
   },
   {
    "duration": 31,
    "start_time": "2022-02-12T21:46:26.801Z"
   },
   {
    "duration": 61,
    "start_time": "2022-02-12T21:46:26.834Z"
   },
   {
    "duration": 41,
    "start_time": "2022-02-12T21:46:26.897Z"
   },
   {
    "duration": 23,
    "start_time": "2022-02-12T21:46:26.940Z"
   },
   {
    "duration": 475,
    "start_time": "2022-02-12T21:46:26.967Z"
   },
   {
    "duration": 20,
    "start_time": "2022-02-12T21:46:27.446Z"
   },
   {
    "duration": 8,
    "start_time": "2022-02-12T21:46:27.468Z"
   },
   {
    "duration": 514,
    "start_time": "2022-02-12T21:46:27.479Z"
   },
   {
    "duration": 5,
    "start_time": "2022-02-12T21:46:27.996Z"
   },
   {
    "duration": 29,
    "start_time": "2022-02-12T21:46:28.003Z"
   },
   {
    "duration": 21,
    "start_time": "2022-02-12T21:46:28.035Z"
   },
   {
    "duration": 340,
    "start_time": "2022-02-12T21:46:28.059Z"
   },
   {
    "duration": 501,
    "start_time": "2022-02-12T21:46:28.401Z"
   },
   {
    "duration": 11,
    "start_time": "2022-02-12T21:46:28.904Z"
   },
   {
    "duration": 29,
    "start_time": "2022-02-12T21:46:28.933Z"
   },
   {
    "duration": 28,
    "start_time": "2022-02-12T21:46:28.965Z"
   },
   {
    "duration": 41,
    "start_time": "2022-02-12T21:46:28.996Z"
   },
   {
    "duration": 2987,
    "start_time": "2022-02-12T21:46:29.040Z"
   },
   {
    "duration": 563,
    "start_time": "2022-02-12T21:46:32.029Z"
   },
   {
    "duration": 2788,
    "start_time": "2022-02-12T21:46:32.596Z"
   },
   {
    "duration": 53,
    "start_time": "2022-02-12T21:46:35.387Z"
   },
   {
    "duration": 379,
    "start_time": "2022-02-12T21:46:35.443Z"
   },
   {
    "duration": 5,
    "start_time": "2022-02-12T21:46:35.834Z"
   },
   {
    "duration": 3723,
    "start_time": "2022-02-12T21:46:35.842Z"
   },
   {
    "duration": 40,
    "start_time": "2022-02-12T21:46:39.568Z"
   },
   {
    "duration": 217,
    "start_time": "2022-02-12T21:46:39.631Z"
   },
   {
    "duration": 4,
    "start_time": "2022-02-12T21:46:39.851Z"
   },
   {
    "duration": 1227,
    "start_time": "2022-02-12T21:46:39.858Z"
   },
   {
    "duration": 51,
    "start_time": "2022-02-12T21:46:41.088Z"
   },
   {
    "duration": 20,
    "start_time": "2022-02-12T21:46:41.142Z"
   },
   {
    "duration": 31370,
    "start_time": "2022-02-12T21:46:41.164Z"
   },
   {
    "duration": 6,
    "start_time": "2022-02-12T21:47:12.536Z"
   },
   {
    "duration": 1421,
    "start_time": "2022-02-12T21:47:12.544Z"
   },
   {
    "duration": 5,
    "start_time": "2022-02-12T21:47:13.967Z"
   },
   {
    "duration": 68126,
    "start_time": "2022-02-12T21:47:13.974Z"
   },
   {
    "duration": 29,
    "start_time": "2022-02-12T21:48:22.103Z"
   },
   {
    "duration": 23,
    "start_time": "2022-02-12T21:48:22.134Z"
   },
   {
    "duration": 209,
    "start_time": "2022-02-12T21:48:22.160Z"
   },
   {
    "duration": 16,
    "start_time": "2022-02-12T21:48:22.372Z"
   },
   {
    "duration": 477,
    "start_time": "2022-02-12T21:48:22.391Z"
   },
   {
    "duration": 5,
    "start_time": "2022-02-12T21:48:22.870Z"
   },
   {
    "duration": 929,
    "start_time": "2022-02-12T21:48:22.878Z"
   },
   {
    "duration": 28,
    "start_time": "2022-02-12T21:49:46.544Z"
   },
   {
    "duration": 519,
    "start_time": "2022-02-12T21:49:54.643Z"
   },
   {
    "duration": 258,
    "start_time": "2022-02-12T21:50:24.843Z"
   },
   {
    "duration": 2610,
    "start_time": "2022-02-12T21:50:57.615Z"
   },
   {
    "duration": 49,
    "start_time": "2022-02-12T21:51:00.228Z"
   },
   {
    "duration": 20,
    "start_time": "2022-02-12T21:51:00.281Z"
   },
   {
    "duration": 33,
    "start_time": "2022-02-12T21:51:00.304Z"
   },
   {
    "duration": 24,
    "start_time": "2022-02-12T21:51:00.340Z"
   },
   {
    "duration": 79,
    "start_time": "2022-02-12T21:51:00.366Z"
   },
   {
    "duration": 16,
    "start_time": "2022-02-12T21:51:00.448Z"
   },
   {
    "duration": 37,
    "start_time": "2022-02-12T21:51:00.466Z"
   },
   {
    "duration": 344,
    "start_time": "2022-02-12T21:51:00.507Z"
   },
   {
    "duration": 23,
    "start_time": "2022-02-12T21:51:00.854Z"
   },
   {
    "duration": 15,
    "start_time": "2022-02-12T21:51:00.879Z"
   },
   {
    "duration": 519,
    "start_time": "2022-02-12T21:51:00.896Z"
   },
   {
    "duration": 16,
    "start_time": "2022-02-12T21:51:01.418Z"
   },
   {
    "duration": 44,
    "start_time": "2022-02-12T21:51:01.436Z"
   },
   {
    "duration": 46,
    "start_time": "2022-02-12T21:51:01.483Z"
   },
   {
    "duration": 319,
    "start_time": "2022-02-12T21:51:01.531Z"
   },
   {
    "duration": 505,
    "start_time": "2022-02-12T21:51:01.853Z"
   },
   {
    "duration": 10,
    "start_time": "2022-02-12T21:51:02.360Z"
   },
   {
    "duration": 29,
    "start_time": "2022-02-12T21:51:02.372Z"
   },
   {
    "duration": 47,
    "start_time": "2022-02-12T21:51:02.403Z"
   },
   {
    "duration": 21,
    "start_time": "2022-02-12T21:51:02.452Z"
   },
   {
    "duration": 2886,
    "start_time": "2022-02-12T21:51:02.476Z"
   },
   {
    "duration": 555,
    "start_time": "2022-02-12T21:51:05.364Z"
   },
   {
    "duration": 2666,
    "start_time": "2022-02-12T21:51:05.921Z"
   },
   {
    "duration": 43,
    "start_time": "2022-02-12T21:51:08.590Z"
   },
   {
    "duration": 360,
    "start_time": "2022-02-12T21:51:08.636Z"
   },
   {
    "duration": 5,
    "start_time": "2022-02-12T21:51:09.001Z"
   },
   {
    "duration": 3824,
    "start_time": "2022-02-12T21:51:09.008Z"
   },
   {
    "duration": 38,
    "start_time": "2022-02-12T21:51:12.835Z"
   },
   {
    "duration": 228,
    "start_time": "2022-02-12T21:51:12.875Z"
   },
   {
    "duration": 4,
    "start_time": "2022-02-12T21:51:13.105Z"
   },
   {
    "duration": 1174,
    "start_time": "2022-02-12T21:51:13.111Z"
   },
   {
    "duration": 52,
    "start_time": "2022-02-12T21:51:14.287Z"
   },
   {
    "duration": 19,
    "start_time": "2022-02-12T21:51:14.342Z"
   },
   {
    "duration": 31470,
    "start_time": "2022-02-12T21:51:14.364Z"
   },
   {
    "duration": 6,
    "start_time": "2022-02-12T21:51:45.837Z"
   },
   {
    "duration": 1496,
    "start_time": "2022-02-12T21:51:45.845Z"
   },
   {
    "duration": 5,
    "start_time": "2022-02-12T21:51:47.343Z"
   },
   {
    "duration": 69799,
    "start_time": "2022-02-12T21:51:47.351Z"
   },
   {
    "duration": 17,
    "start_time": "2022-02-12T21:52:57.152Z"
   },
   {
    "duration": 23,
    "start_time": "2022-02-12T21:54:10.724Z"
   },
   {
    "duration": 2606,
    "start_time": "2022-02-12T21:55:24.409Z"
   },
   {
    "duration": 66,
    "start_time": "2022-02-12T21:55:27.018Z"
   },
   {
    "duration": 44,
    "start_time": "2022-02-12T21:55:27.088Z"
   },
   {
    "duration": 13,
    "start_time": "2022-02-12T21:55:27.135Z"
   },
   {
    "duration": 9,
    "start_time": "2022-02-12T21:55:27.151Z"
   },
   {
    "duration": 90,
    "start_time": "2022-02-12T21:55:27.162Z"
   },
   {
    "duration": 17,
    "start_time": "2022-02-12T21:55:27.254Z"
   },
   {
    "duration": 24,
    "start_time": "2022-02-12T21:55:27.273Z"
   },
   {
    "duration": 348,
    "start_time": "2022-02-12T21:55:27.301Z"
   },
   {
    "duration": 22,
    "start_time": "2022-02-12T21:55:27.652Z"
   },
   {
    "duration": 9,
    "start_time": "2022-02-12T21:55:27.676Z"
   },
   {
    "duration": 525,
    "start_time": "2022-02-12T21:55:27.687Z"
   },
   {
    "duration": 16,
    "start_time": "2022-02-12T21:55:28.215Z"
   },
   {
    "duration": 5,
    "start_time": "2022-02-12T21:55:28.234Z"
   },
   {
    "duration": 20,
    "start_time": "2022-02-12T21:55:28.242Z"
   },
   {
    "duration": 353,
    "start_time": "2022-02-12T21:55:28.265Z"
   },
   {
    "duration": 517,
    "start_time": "2022-02-12T21:55:28.621Z"
   },
   {
    "duration": 11,
    "start_time": "2022-02-12T21:55:29.140Z"
   },
   {
    "duration": 29,
    "start_time": "2022-02-12T21:55:29.153Z"
   },
   {
    "duration": 60,
    "start_time": "2022-02-12T21:55:29.185Z"
   },
   {
    "duration": 25,
    "start_time": "2022-02-12T21:55:29.248Z"
   },
   {
    "duration": 2907,
    "start_time": "2022-02-12T21:55:29.276Z"
   },
   {
    "duration": 572,
    "start_time": "2022-02-12T21:55:32.185Z"
   },
   {
    "duration": 2701,
    "start_time": "2022-02-12T21:55:32.759Z"
   },
   {
    "duration": 36,
    "start_time": "2022-02-12T21:55:35.463Z"
   },
   {
    "duration": 373,
    "start_time": "2022-02-12T21:55:35.502Z"
   },
   {
    "duration": 4,
    "start_time": "2022-02-12T21:55:35.881Z"
   },
   {
    "duration": 3812,
    "start_time": "2022-02-12T21:55:35.888Z"
   },
   {
    "duration": 50,
    "start_time": "2022-02-12T21:55:39.703Z"
   },
   {
    "duration": 225,
    "start_time": "2022-02-12T21:55:39.756Z"
   },
   {
    "duration": 4,
    "start_time": "2022-02-12T21:55:39.983Z"
   },
   {
    "duration": 1171,
    "start_time": "2022-02-12T21:55:39.990Z"
   },
   {
    "duration": 45,
    "start_time": "2022-02-12T21:55:41.164Z"
   },
   {
    "duration": 34,
    "start_time": "2022-02-12T21:55:41.211Z"
   },
   {
    "duration": 31287,
    "start_time": "2022-02-12T21:55:41.248Z"
   },
   {
    "duration": 7,
    "start_time": "2022-02-12T21:56:12.538Z"
   },
   {
    "duration": 1486,
    "start_time": "2022-02-12T21:56:12.548Z"
   },
   {
    "duration": 6,
    "start_time": "2022-02-12T21:56:14.038Z"
   },
   {
    "duration": 206309,
    "start_time": "2022-02-12T21:56:14.047Z"
   },
   {
    "duration": 16,
    "start_time": "2022-02-12T21:59:40.358Z"
   },
   {
    "duration": 23,
    "start_time": "2022-02-12T21:59:40.376Z"
   },
   {
    "duration": 1079,
    "start_time": "2022-02-12T22:02:59.119Z"
   },
   {
    "duration": 2441,
    "start_time": "2022-02-12T22:04:18.509Z"
   },
   {
    "duration": 2647,
    "start_time": "2022-02-12T22:04:26.825Z"
   },
   {
    "duration": 58,
    "start_time": "2022-02-12T22:04:29.474Z"
   },
   {
    "duration": 19,
    "start_time": "2022-02-12T22:04:29.535Z"
   },
   {
    "duration": 14,
    "start_time": "2022-02-12T22:04:29.558Z"
   },
   {
    "duration": 9,
    "start_time": "2022-02-12T22:04:29.576Z"
   },
   {
    "duration": 99,
    "start_time": "2022-02-12T22:04:29.587Z"
   },
   {
    "duration": 15,
    "start_time": "2022-02-12T22:04:29.688Z"
   },
   {
    "duration": 43,
    "start_time": "2022-02-12T22:04:29.707Z"
   },
   {
    "duration": 327,
    "start_time": "2022-02-12T22:04:29.753Z"
   },
   {
    "duration": 21,
    "start_time": "2022-02-12T22:04:30.082Z"
   },
   {
    "duration": 28,
    "start_time": "2022-02-12T22:04:30.106Z"
   },
   {
    "duration": 511,
    "start_time": "2022-02-12T22:04:30.136Z"
   },
   {
    "duration": 9,
    "start_time": "2022-02-12T22:04:30.650Z"
   },
   {
    "duration": 33,
    "start_time": "2022-02-12T22:04:30.662Z"
   },
   {
    "duration": 73,
    "start_time": "2022-02-12T22:04:30.698Z"
   },
   {
    "duration": 340,
    "start_time": "2022-02-12T22:04:30.774Z"
   },
   {
    "duration": 515,
    "start_time": "2022-02-12T22:04:31.117Z"
   },
   {
    "duration": 2254,
    "start_time": "2022-02-12T22:04:31.635Z"
   },
   {
    "duration": -1083,
    "start_time": "2022-02-12T22:04:34.976Z"
   },
   {
    "duration": -1086,
    "start_time": "2022-02-12T22:04:34.981Z"
   },
   {
    "duration": 1793,
    "start_time": "2022-02-12T22:05:18.445Z"
   },
   {
    "duration": 2635,
    "start_time": "2022-02-12T22:05:28.062Z"
   },
   {
    "duration": 54,
    "start_time": "2022-02-12T22:05:30.701Z"
   },
   {
    "duration": 20,
    "start_time": "2022-02-12T22:05:30.758Z"
   },
   {
    "duration": 23,
    "start_time": "2022-02-12T22:05:30.781Z"
   },
   {
    "duration": 31,
    "start_time": "2022-02-12T22:05:30.806Z"
   },
   {
    "duration": 63,
    "start_time": "2022-02-12T22:05:30.839Z"
   },
   {
    "duration": 37,
    "start_time": "2022-02-12T22:05:30.905Z"
   },
   {
    "duration": 25,
    "start_time": "2022-02-12T22:05:30.945Z"
   },
   {
    "duration": 348,
    "start_time": "2022-02-12T22:05:30.973Z"
   },
   {
    "duration": 26,
    "start_time": "2022-02-12T22:05:31.323Z"
   },
   {
    "duration": 11,
    "start_time": "2022-02-12T22:05:31.351Z"
   },
   {
    "duration": 548,
    "start_time": "2022-02-12T22:05:31.364Z"
   },
   {
    "duration": 7,
    "start_time": "2022-02-12T22:05:31.915Z"
   },
   {
    "duration": 8,
    "start_time": "2022-02-12T22:05:31.933Z"
   },
   {
    "duration": 32,
    "start_time": "2022-02-12T22:05:31.944Z"
   },
   {
    "duration": 341,
    "start_time": "2022-02-12T22:05:31.980Z"
   },
   {
    "duration": 504,
    "start_time": "2022-02-12T22:05:32.324Z"
   },
   {
    "duration": 1844,
    "start_time": "2022-02-12T22:05:32.833Z"
   },
   {
    "duration": 21,
    "start_time": "2022-02-12T22:05:34.679Z"
   },
   {
    "duration": 1044,
    "start_time": "2022-02-12T22:05:34.703Z"
   },
   {
    "duration": 2512,
    "start_time": "2022-02-12T22:07:02.577Z"
   },
   {
    "duration": 50,
    "start_time": "2022-02-12T22:07:05.092Z"
   },
   {
    "duration": 18,
    "start_time": "2022-02-12T22:07:05.145Z"
   },
   {
    "duration": 13,
    "start_time": "2022-02-12T22:07:05.165Z"
   },
   {
    "duration": 8,
    "start_time": "2022-02-12T22:07:05.180Z"
   },
   {
    "duration": 93,
    "start_time": "2022-02-12T22:07:05.190Z"
   },
   {
    "duration": 15,
    "start_time": "2022-02-12T22:07:05.285Z"
   },
   {
    "duration": 46,
    "start_time": "2022-02-12T22:07:05.302Z"
   },
   {
    "duration": 313,
    "start_time": "2022-02-12T22:07:05.352Z"
   },
   {
    "duration": 21,
    "start_time": "2022-02-12T22:07:05.668Z"
   },
   {
    "duration": 8,
    "start_time": "2022-02-12T22:07:05.691Z"
   },
   {
    "duration": 506,
    "start_time": "2022-02-12T22:07:05.701Z"
   },
   {
    "duration": 7,
    "start_time": "2022-02-12T22:07:06.209Z"
   },
   {
    "duration": 7,
    "start_time": "2022-02-12T22:07:06.232Z"
   },
   {
    "duration": 26,
    "start_time": "2022-02-12T22:07:06.242Z"
   },
   {
    "duration": 465,
    "start_time": "2022-02-12T22:07:06.270Z"
   },
   {
    "duration": 501,
    "start_time": "2022-02-12T22:07:06.738Z"
   },
   {
    "duration": 1763,
    "start_time": "2022-02-12T22:07:07.241Z"
   },
   {
    "duration": 45,
    "start_time": "2022-02-12T22:07:09.006Z"
   },
   {
    "duration": 22,
    "start_time": "2022-02-12T22:07:09.054Z"
   },
   {
    "duration": 1067,
    "start_time": "2022-02-12T22:07:09.078Z"
   },
   {
    "duration": 524,
    "start_time": "2022-02-12T22:08:12.489Z"
   },
   {
    "duration": 2522,
    "start_time": "2022-02-12T22:08:18.478Z"
   },
   {
    "duration": 52,
    "start_time": "2022-02-12T22:08:21.002Z"
   },
   {
    "duration": 18,
    "start_time": "2022-02-12T22:08:21.057Z"
   },
   {
    "duration": 23,
    "start_time": "2022-02-12T22:08:21.078Z"
   },
   {
    "duration": 28,
    "start_time": "2022-02-12T22:08:21.104Z"
   },
   {
    "duration": 99,
    "start_time": "2022-02-12T22:08:21.135Z"
   },
   {
    "duration": 15,
    "start_time": "2022-02-12T22:08:21.237Z"
   },
   {
    "duration": 26,
    "start_time": "2022-02-12T22:08:21.255Z"
   },
   {
    "duration": 353,
    "start_time": "2022-02-12T22:08:21.286Z"
   },
   {
    "duration": 22,
    "start_time": "2022-02-12T22:08:21.643Z"
   },
   {
    "duration": 7,
    "start_time": "2022-02-12T22:08:21.668Z"
   },
   {
    "duration": 625,
    "start_time": "2022-02-12T22:08:21.677Z"
   },
   {
    "duration": 6,
    "start_time": "2022-02-12T22:08:22.304Z"
   },
   {
    "duration": 7,
    "start_time": "2022-02-12T22:08:22.334Z"
   },
   {
    "duration": 29,
    "start_time": "2022-02-12T22:08:22.343Z"
   },
   {
    "duration": 21,
    "start_time": "2022-02-12T22:08:22.375Z"
   },
   {
    "duration": 160,
    "start_time": "2022-02-12T22:08:22.398Z"
   },
   {
    "duration": 31,
    "start_time": "2022-02-12T22:08:22.561Z"
   },
   {
    "duration": 55,
    "start_time": "2022-02-12T22:08:22.594Z"
   },
   {
    "duration": 21,
    "start_time": "2022-02-12T22:08:22.651Z"
   },
   {
    "duration": 135,
    "start_time": "2022-02-12T22:08:22.674Z"
   },
   {
    "duration": 2638,
    "start_time": "2022-02-13T16:01:19.672Z"
   },
   {
    "duration": 57,
    "start_time": "2022-02-13T16:01:22.313Z"
   },
   {
    "duration": 18,
    "start_time": "2022-02-13T16:01:22.375Z"
   },
   {
    "duration": 11,
    "start_time": "2022-02-13T16:01:22.396Z"
   },
   {
    "duration": 8,
    "start_time": "2022-02-13T16:01:22.410Z"
   },
   {
    "duration": 93,
    "start_time": "2022-02-13T16:01:22.421Z"
   },
   {
    "duration": 15,
    "start_time": "2022-02-13T16:01:22.517Z"
   },
   {
    "duration": 48,
    "start_time": "2022-02-13T16:01:22.535Z"
   },
   {
    "duration": 349,
    "start_time": "2022-02-13T16:01:22.587Z"
   },
   {
    "duration": 32,
    "start_time": "2022-02-13T16:01:22.939Z"
   },
   {
    "duration": 9261,
    "start_time": "2022-02-13T16:01:22.973Z"
   },
   {
    "duration": 20,
    "start_time": "2022-02-13T16:01:32.216Z"
   },
   {
    "duration": 21,
    "start_time": "2022-02-13T16:01:32.217Z"
   },
   {
    "duration": 20,
    "start_time": "2022-02-13T16:01:32.219Z"
   },
   {
    "duration": 18,
    "start_time": "2022-02-13T16:01:32.222Z"
   },
   {
    "duration": 18,
    "start_time": "2022-02-13T16:01:32.223Z"
   },
   {
    "duration": 18,
    "start_time": "2022-02-13T16:01:32.225Z"
   },
   {
    "duration": 18,
    "start_time": "2022-02-13T16:01:32.226Z"
   },
   {
    "duration": 18,
    "start_time": "2022-02-13T16:01:32.227Z"
   },
   {
    "duration": 18,
    "start_time": "2022-02-13T16:01:32.228Z"
   },
   {
    "duration": 3225,
    "start_time": "2022-02-13T16:03:14.587Z"
   },
   {
    "duration": 51,
    "start_time": "2022-02-13T16:03:17.815Z"
   },
   {
    "duration": 18,
    "start_time": "2022-02-13T16:03:17.870Z"
   },
   {
    "duration": 11,
    "start_time": "2022-02-13T16:03:17.891Z"
   },
   {
    "duration": 7,
    "start_time": "2022-02-13T16:03:17.905Z"
   },
   {
    "duration": 100,
    "start_time": "2022-02-13T16:03:17.915Z"
   },
   {
    "duration": 16,
    "start_time": "2022-02-13T16:03:18.018Z"
   },
   {
    "duration": 42,
    "start_time": "2022-02-13T16:03:18.036Z"
   },
   {
    "duration": 318,
    "start_time": "2022-02-13T16:03:18.082Z"
   },
   {
    "duration": 20,
    "start_time": "2022-02-13T16:03:18.403Z"
   },
   {
    "duration": 607,
    "start_time": "2022-02-13T16:03:18.425Z"
   },
   {
    "duration": -56,
    "start_time": "2022-02-13T16:03:19.091Z"
   },
   {
    "duration": -57,
    "start_time": "2022-02-13T16:03:19.093Z"
   },
   {
    "duration": -56,
    "start_time": "2022-02-13T16:03:19.094Z"
   },
   {
    "duration": -56,
    "start_time": "2022-02-13T16:03:19.096Z"
   },
   {
    "duration": -92,
    "start_time": "2022-02-13T16:03:19.133Z"
   },
   {
    "duration": -93,
    "start_time": "2022-02-13T16:03:19.135Z"
   },
   {
    "duration": -93,
    "start_time": "2022-02-13T16:03:19.137Z"
   },
   {
    "duration": -93,
    "start_time": "2022-02-13T16:03:19.139Z"
   },
   {
    "duration": -93,
    "start_time": "2022-02-13T16:03:19.140Z"
   },
   {
    "duration": 2835,
    "start_time": "2022-02-13T16:06:31.397Z"
   },
   {
    "duration": 52,
    "start_time": "2022-02-13T16:06:34.235Z"
   },
   {
    "duration": 17,
    "start_time": "2022-02-13T16:06:34.290Z"
   },
   {
    "duration": 12,
    "start_time": "2022-02-13T16:06:34.310Z"
   },
   {
    "duration": 36,
    "start_time": "2022-02-13T16:06:34.325Z"
   },
   {
    "duration": 65,
    "start_time": "2022-02-13T16:06:34.363Z"
   },
   {
    "duration": 40,
    "start_time": "2022-02-13T16:06:34.430Z"
   },
   {
    "duration": 23,
    "start_time": "2022-02-13T16:06:34.473Z"
   },
   {
    "duration": 419,
    "start_time": "2022-02-13T16:06:34.500Z"
   },
   {
    "duration": 38,
    "start_time": "2022-02-13T16:06:34.922Z"
   },
   {
    "duration": 44,
    "start_time": "2022-02-13T16:06:34.962Z"
   },
   {
    "duration": 6,
    "start_time": "2022-02-13T16:06:35.008Z"
   },
   {
    "duration": 42,
    "start_time": "2022-02-13T16:06:35.017Z"
   },
   {
    "duration": 34,
    "start_time": "2022-02-13T16:06:35.063Z"
   },
   {
    "duration": 59,
    "start_time": "2022-02-13T16:06:35.100Z"
   },
   {
    "duration": 19,
    "start_time": "2022-02-13T16:06:35.162Z"
   },
   {
    "duration": 34,
    "start_time": "2022-02-13T16:06:35.183Z"
   },
   {
    "duration": 67,
    "start_time": "2022-02-13T16:06:35.219Z"
   },
   {
    "duration": 22,
    "start_time": "2022-02-13T16:06:35.288Z"
   },
   {
    "duration": 134,
    "start_time": "2022-02-13T16:06:35.312Z"
   },
   {
    "duration": 35,
    "start_time": "2022-02-13T16:07:28.579Z"
   },
   {
    "duration": 692,
    "start_time": "2022-02-13T16:07:47.017Z"
   },
   {
    "duration": 18,
    "start_time": "2022-02-13T16:08:27.153Z"
   },
   {
    "duration": 116,
    "start_time": "2022-02-13T16:09:12.737Z"
   },
   {
    "duration": 3070,
    "start_time": "2022-02-13T16:11:42.384Z"
   },
   {
    "duration": 1467,
    "start_time": "2022-02-13T16:13:16.792Z"
   },
   {
    "duration": 585,
    "start_time": "2022-02-13T16:13:47.487Z"
   },
   {
    "duration": 401,
    "start_time": "2022-02-13T16:25:41.473Z"
   },
   {
    "duration": 811,
    "start_time": "2022-02-13T16:25:59.521Z"
   },
   {
    "duration": 402,
    "start_time": "2022-02-13T16:26:45.586Z"
   },
   {
    "duration": 3179,
    "start_time": "2022-02-13T16:26:54.477Z"
   },
   {
    "duration": -60,
    "start_time": "2022-02-13T16:26:57.720Z"
   },
   {
    "duration": -61,
    "start_time": "2022-02-13T16:26:57.723Z"
   },
   {
    "duration": -61,
    "start_time": "2022-02-13T16:26:57.724Z"
   },
   {
    "duration": -61,
    "start_time": "2022-02-13T16:26:57.725Z"
   },
   {
    "duration": -60,
    "start_time": "2022-02-13T16:26:57.726Z"
   },
   {
    "duration": -61,
    "start_time": "2022-02-13T16:26:57.728Z"
   },
   {
    "duration": -61,
    "start_time": "2022-02-13T16:26:57.729Z"
   },
   {
    "duration": -60,
    "start_time": "2022-02-13T16:26:57.730Z"
   },
   {
    "duration": -71,
    "start_time": "2022-02-13T16:26:57.742Z"
   },
   {
    "duration": -74,
    "start_time": "2022-02-13T16:26:57.746Z"
   },
   {
    "duration": -73,
    "start_time": "2022-02-13T16:26:57.747Z"
   },
   {
    "duration": -74,
    "start_time": "2022-02-13T16:26:57.749Z"
   },
   {
    "duration": -75,
    "start_time": "2022-02-13T16:26:57.751Z"
   },
   {
    "duration": -74,
    "start_time": "2022-02-13T16:26:57.752Z"
   },
   {
    "duration": -74,
    "start_time": "2022-02-13T16:26:57.753Z"
   },
   {
    "duration": -73,
    "start_time": "2022-02-13T16:26:57.754Z"
   },
   {
    "duration": -90,
    "start_time": "2022-02-13T16:26:57.772Z"
   },
   {
    "duration": -94,
    "start_time": "2022-02-13T16:26:57.777Z"
   },
   {
    "duration": -93,
    "start_time": "2022-02-13T16:26:57.778Z"
   },
   {
    "duration": -94,
    "start_time": "2022-02-13T16:26:57.780Z"
   },
   {
    "duration": -95,
    "start_time": "2022-02-13T16:26:57.782Z"
   },
   {
    "duration": -94,
    "start_time": "2022-02-13T16:26:57.783Z"
   },
   {
    "duration": 3272,
    "start_time": "2022-02-13T16:29:49.066Z"
   },
   {
    "duration": -37,
    "start_time": "2022-02-13T16:29:52.379Z"
   },
   {
    "duration": -60,
    "start_time": "2022-02-13T16:29:52.404Z"
   },
   {
    "duration": -64,
    "start_time": "2022-02-13T16:29:52.409Z"
   },
   {
    "duration": -65,
    "start_time": "2022-02-13T16:29:52.411Z"
   },
   {
    "duration": -65,
    "start_time": "2022-02-13T16:29:52.412Z"
   },
   {
    "duration": -65,
    "start_time": "2022-02-13T16:29:52.413Z"
   },
   {
    "duration": -65,
    "start_time": "2022-02-13T16:29:52.414Z"
   },
   {
    "duration": -65,
    "start_time": "2022-02-13T16:29:52.416Z"
   },
   {
    "duration": -65,
    "start_time": "2022-02-13T16:29:52.417Z"
   },
   {
    "duration": -66,
    "start_time": "2022-02-13T16:29:52.419Z"
   },
   {
    "duration": -65,
    "start_time": "2022-02-13T16:29:52.420Z"
   },
   {
    "duration": -65,
    "start_time": "2022-02-13T16:29:52.421Z"
   },
   {
    "duration": -64,
    "start_time": "2022-02-13T16:29:52.422Z"
   },
   {
    "duration": -88,
    "start_time": "2022-02-13T16:29:52.447Z"
   },
   {
    "duration": -90,
    "start_time": "2022-02-13T16:29:52.450Z"
   },
   {
    "duration": -93,
    "start_time": "2022-02-13T16:29:52.454Z"
   },
   {
    "duration": -92,
    "start_time": "2022-02-13T16:29:52.455Z"
   },
   {
    "duration": -93,
    "start_time": "2022-02-13T16:29:52.457Z"
   },
   {
    "duration": -93,
    "start_time": "2022-02-13T16:29:52.458Z"
   },
   {
    "duration": -92,
    "start_time": "2022-02-13T16:29:52.459Z"
   },
   {
    "duration": -91,
    "start_time": "2022-02-13T16:29:52.459Z"
   },
   {
    "duration": -91,
    "start_time": "2022-02-13T16:29:52.460Z"
   },
   {
    "duration": 2739,
    "start_time": "2022-02-13T16:32:11.058Z"
   },
   {
    "duration": 53,
    "start_time": "2022-02-13T16:32:13.800Z"
   },
   {
    "duration": 19,
    "start_time": "2022-02-13T16:32:13.861Z"
   },
   {
    "duration": 13,
    "start_time": "2022-02-13T16:32:13.884Z"
   },
   {
    "duration": 11,
    "start_time": "2022-02-13T16:32:13.900Z"
   },
   {
    "duration": 98,
    "start_time": "2022-02-13T16:32:13.913Z"
   },
   {
    "duration": 17,
    "start_time": "2022-02-13T16:32:14.014Z"
   },
   {
    "duration": 26,
    "start_time": "2022-02-13T16:32:14.059Z"
   },
   {
    "duration": 326,
    "start_time": "2022-02-13T16:32:14.088Z"
   },
   {
    "duration": 21,
    "start_time": "2022-02-13T16:32:14.416Z"
   },
   {
    "duration": 58,
    "start_time": "2022-02-13T16:32:14.440Z"
   },
   {
    "duration": 6,
    "start_time": "2022-02-13T16:32:14.502Z"
   },
   {
    "duration": 9,
    "start_time": "2022-02-13T16:32:14.510Z"
   },
   {
    "duration": 1019,
    "start_time": "2022-02-13T16:32:14.522Z"
   },
   {
    "duration": -5,
    "start_time": "2022-02-13T16:32:15.549Z"
   },
   {
    "duration": -6,
    "start_time": "2022-02-13T16:32:15.551Z"
   },
   {
    "duration": -15,
    "start_time": "2022-02-13T16:32:15.561Z"
   },
   {
    "duration": -37,
    "start_time": "2022-02-13T16:32:15.585Z"
   },
   {
    "duration": -38,
    "start_time": "2022-02-13T16:32:15.587Z"
   },
   {
    "duration": -37,
    "start_time": "2022-02-13T16:32:15.588Z"
   },
   {
    "duration": -37,
    "start_time": "2022-02-13T16:32:15.589Z"
   },
   {
    "duration": -37,
    "start_time": "2022-02-13T16:32:15.590Z"
   },
   {
    "duration": -36,
    "start_time": "2022-02-13T16:32:15.591Z"
   },
   {
    "duration": 2654,
    "start_time": "2022-02-13T16:32:51.543Z"
   },
   {
    "duration": 54,
    "start_time": "2022-02-13T16:32:54.200Z"
   },
   {
    "duration": 19,
    "start_time": "2022-02-13T16:32:54.259Z"
   },
   {
    "duration": 11,
    "start_time": "2022-02-13T16:32:54.281Z"
   },
   {
    "duration": 8,
    "start_time": "2022-02-13T16:32:54.295Z"
   },
   {
    "duration": 102,
    "start_time": "2022-02-13T16:32:54.305Z"
   },
   {
    "duration": 17,
    "start_time": "2022-02-13T16:32:54.409Z"
   },
   {
    "duration": 48,
    "start_time": "2022-02-13T16:32:54.428Z"
   },
   {
    "duration": 319,
    "start_time": "2022-02-13T16:32:54.479Z"
   },
   {
    "duration": 21,
    "start_time": "2022-02-13T16:32:54.801Z"
   },
   {
    "duration": 59,
    "start_time": "2022-02-13T16:32:54.825Z"
   },
   {
    "duration": 7,
    "start_time": "2022-02-13T16:32:54.886Z"
   },
   {
    "duration": 8,
    "start_time": "2022-02-13T16:32:54.895Z"
   },
   {
    "duration": 377,
    "start_time": "2022-02-13T16:32:54.905Z"
   },
   {
    "duration": 40,
    "start_time": "2022-02-13T16:32:55.284Z"
   },
   {
    "duration": 364,
    "start_time": "2022-02-13T16:32:55.327Z"
   },
   {
    "duration": 1171,
    "start_time": "2022-02-13T16:32:55.694Z"
   },
   {
    "duration": 492,
    "start_time": "2022-02-13T16:32:56.867Z"
   },
   {
    "duration": 7975,
    "start_time": "2022-02-13T16:32:57.362Z"
   },
   {
    "duration": 20167,
    "start_time": "2022-02-13T16:33:05.340Z"
   },
   {
    "duration": 4911,
    "start_time": "2022-02-13T16:33:25.509Z"
   },
   {
    "duration": 897,
    "start_time": "2022-02-13T16:33:30.422Z"
   },
   {
    "duration": 685,
    "start_time": "2022-02-13T16:33:31.321Z"
   },
   {
    "duration": 3014,
    "start_time": "2022-02-13T16:36:06.829Z"
   },
   {
    "duration": 61,
    "start_time": "2022-02-13T16:36:09.845Z"
   },
   {
    "duration": 18,
    "start_time": "2022-02-13T16:36:09.909Z"
   },
   {
    "duration": 35,
    "start_time": "2022-02-13T16:36:09.929Z"
   },
   {
    "duration": 8,
    "start_time": "2022-02-13T16:36:09.967Z"
   },
   {
    "duration": 87,
    "start_time": "2022-02-13T16:36:09.977Z"
   },
   {
    "duration": 16,
    "start_time": "2022-02-13T16:36:10.067Z"
   },
   {
    "duration": 24,
    "start_time": "2022-02-13T16:36:10.085Z"
   },
   {
    "duration": 362,
    "start_time": "2022-02-13T16:36:10.113Z"
   },
   {
    "duration": 20,
    "start_time": "2022-02-13T16:36:10.478Z"
   },
   {
    "duration": 6,
    "start_time": "2022-02-13T16:36:10.500Z"
   },
   {
    "duration": 61,
    "start_time": "2022-02-13T16:36:10.508Z"
   },
   {
    "duration": 6,
    "start_time": "2022-02-13T16:36:10.571Z"
   },
   {
    "duration": 7,
    "start_time": "2022-02-13T16:36:10.579Z"
   },
   {
    "duration": 37,
    "start_time": "2022-02-13T16:36:10.589Z"
   },
   {
    "duration": 64,
    "start_time": "2022-02-13T16:36:10.628Z"
   },
   {
    "duration": 18,
    "start_time": "2022-02-13T16:36:10.695Z"
   },
   {
    "duration": 139,
    "start_time": "2022-02-13T16:36:10.715Z"
   },
   {
    "duration": 106,
    "start_time": "2022-02-13T16:36:10.860Z"
   },
   {
    "duration": 3143,
    "start_time": "2022-02-13T16:36:10.969Z"
   },
   {
    "duration": 1481,
    "start_time": "2022-02-13T16:36:14.114Z"
   },
   {
    "duration": 629,
    "start_time": "2022-02-13T16:36:15.598Z"
   },
   {
    "duration": 404,
    "start_time": "2022-02-13T16:36:16.230Z"
   },
   {
    "duration": 1874,
    "start_time": "2022-02-13T16:36:16.636Z"
   },
   {
    "duration": 3431,
    "start_time": "2022-02-13T16:42:33.054Z"
   },
   {
    "duration": -47,
    "start_time": "2022-02-13T16:42:36.537Z"
   },
   {
    "duration": -48,
    "start_time": "2022-02-13T16:42:36.539Z"
   },
   {
    "duration": -48,
    "start_time": "2022-02-13T16:42:36.541Z"
   },
   {
    "duration": -82,
    "start_time": "2022-02-13T16:42:36.577Z"
   },
   {
    "duration": -81,
    "start_time": "2022-02-13T16:42:36.578Z"
   },
   {
    "duration": -81,
    "start_time": "2022-02-13T16:42:36.580Z"
   },
   {
    "duration": -81,
    "start_time": "2022-02-13T16:42:36.582Z"
   },
   {
    "duration": -80,
    "start_time": "2022-02-13T16:42:36.583Z"
   },
   {
    "duration": -78,
    "start_time": "2022-02-13T16:42:36.584Z"
   },
   {
    "duration": -77,
    "start_time": "2022-02-13T16:42:36.585Z"
   },
   {
    "duration": -76,
    "start_time": "2022-02-13T16:42:36.586Z"
   },
   {
    "duration": -75,
    "start_time": "2022-02-13T16:42:36.587Z"
   },
   {
    "duration": -73,
    "start_time": "2022-02-13T16:42:36.588Z"
   },
   {
    "duration": -72,
    "start_time": "2022-02-13T16:42:36.589Z"
   },
   {
    "duration": -70,
    "start_time": "2022-02-13T16:42:36.590Z"
   },
   {
    "duration": -68,
    "start_time": "2022-02-13T16:42:36.591Z"
   },
   {
    "duration": -68,
    "start_time": "2022-02-13T16:42:36.592Z"
   },
   {
    "duration": -67,
    "start_time": "2022-02-13T16:42:36.593Z"
   },
   {
    "duration": -35,
    "start_time": "2022-02-13T16:42:36.594Z"
   },
   {
    "duration": -35,
    "start_time": "2022-02-13T16:42:36.595Z"
   },
   {
    "duration": -34,
    "start_time": "2022-02-13T16:42:36.596Z"
   },
   {
    "duration": -38,
    "start_time": "2022-02-13T16:42:36.602Z"
   },
   {
    "duration": -38,
    "start_time": "2022-02-13T16:42:36.603Z"
   },
   {
    "duration": 666,
    "start_time": "2022-02-13T16:45:55.460Z"
   },
   {
    "duration": 5613,
    "start_time": "2022-02-13T16:48:06.144Z"
   },
   {
    "duration": 175,
    "start_time": "2022-02-13T16:48:24.974Z"
   },
   {
    "duration": 3649,
    "start_time": "2022-02-13T16:48:33.722Z"
   },
   {
    "duration": 2570,
    "start_time": "2022-02-13T16:48:37.375Z"
   },
   {
    "duration": 51,
    "start_time": "2022-02-13T16:48:39.948Z"
   },
   {
    "duration": 16,
    "start_time": "2022-02-13T16:48:40.002Z"
   },
   {
    "duration": 13,
    "start_time": "2022-02-13T16:48:40.020Z"
   },
   {
    "duration": 30,
    "start_time": "2022-02-13T16:48:40.036Z"
   },
   {
    "duration": 90,
    "start_time": "2022-02-13T16:48:40.069Z"
   },
   {
    "duration": 15,
    "start_time": "2022-02-13T16:48:40.161Z"
   },
   {
    "duration": 23,
    "start_time": "2022-02-13T16:48:40.180Z"
   },
   {
    "duration": 333,
    "start_time": "2022-02-13T16:48:40.206Z"
   },
   {
    "duration": 28,
    "start_time": "2022-02-13T16:48:40.541Z"
   },
   {
    "duration": 8,
    "start_time": "2022-02-13T16:48:40.572Z"
   },
   {
    "duration": 31,
    "start_time": "2022-02-13T16:48:40.583Z"
   },
   {
    "duration": 5,
    "start_time": "2022-02-13T16:48:40.616Z"
   },
   {
    "duration": 37,
    "start_time": "2022-02-13T16:48:40.623Z"
   },
   {
    "duration": 37,
    "start_time": "2022-02-13T16:48:40.662Z"
   },
   {
    "duration": 58,
    "start_time": "2022-02-13T16:48:40.702Z"
   },
   {
    "duration": 17,
    "start_time": "2022-02-13T16:48:40.763Z"
   },
   {
    "duration": 126,
    "start_time": "2022-02-13T16:48:40.783Z"
   },
   {
    "duration": 153,
    "start_time": "2022-02-13T16:48:40.912Z"
   },
   {
    "duration": 3179,
    "start_time": "2022-02-13T16:48:41.068Z"
   },
   {
    "duration": 1572,
    "start_time": "2022-02-13T16:48:44.249Z"
   },
   {
    "duration": 672,
    "start_time": "2022-02-13T16:48:45.823Z"
   },
   {
    "duration": 442,
    "start_time": "2022-02-13T16:48:46.497Z"
   },
   {
    "duration": 636,
    "start_time": "2022-02-13T16:48:46.941Z"
   },
   {
    "duration": 302,
    "start_time": "2022-02-13T16:49:28.280Z"
   },
   {
    "duration": 3668,
    "start_time": "2022-02-13T16:49:36.594Z"
   },
   {
    "duration": 2640,
    "start_time": "2022-02-13T16:49:40.265Z"
   },
   {
    "duration": 61,
    "start_time": "2022-02-13T16:49:42.908Z"
   },
   {
    "duration": 19,
    "start_time": "2022-02-13T16:49:42.972Z"
   },
   {
    "duration": 11,
    "start_time": "2022-02-13T16:49:42.994Z"
   },
   {
    "duration": 9,
    "start_time": "2022-02-13T16:49:43.008Z"
   },
   {
    "duration": 96,
    "start_time": "2022-02-13T16:49:43.020Z"
   },
   {
    "duration": 40,
    "start_time": "2022-02-13T16:49:43.119Z"
   },
   {
    "duration": 35,
    "start_time": "2022-02-13T16:49:43.163Z"
   },
   {
    "duration": 345,
    "start_time": "2022-02-13T16:49:43.201Z"
   },
   {
    "duration": 26,
    "start_time": "2022-02-13T16:49:43.549Z"
   },
   {
    "duration": 9,
    "start_time": "2022-02-13T16:49:43.578Z"
   },
   {
    "duration": 33,
    "start_time": "2022-02-13T16:49:43.590Z"
   },
   {
    "duration": 8,
    "start_time": "2022-02-13T16:49:43.659Z"
   },
   {
    "duration": 8,
    "start_time": "2022-02-13T16:49:43.670Z"
   },
   {
    "duration": 39,
    "start_time": "2022-02-13T16:49:43.681Z"
   },
   {
    "duration": 38,
    "start_time": "2022-02-13T16:49:43.760Z"
   },
   {
    "duration": 19,
    "start_time": "2022-02-13T16:49:43.801Z"
   },
   {
    "duration": 152,
    "start_time": "2022-02-13T16:49:43.822Z"
   },
   {
    "duration": 185,
    "start_time": "2022-02-13T16:49:43.977Z"
   },
   {
    "duration": 3038,
    "start_time": "2022-02-13T16:49:44.164Z"
   },
   {
    "duration": 1515,
    "start_time": "2022-02-13T16:49:47.205Z"
   },
   {
    "duration": 618,
    "start_time": "2022-02-13T16:49:48.726Z"
   },
   {
    "duration": 393,
    "start_time": "2022-02-13T16:49:49.347Z"
   },
   {
    "duration": 757,
    "start_time": "2022-02-13T16:49:49.742Z"
   },
   {
    "duration": 139,
    "start_time": "2022-02-13T16:55:16.519Z"
   },
   {
    "duration": 656,
    "start_time": "2022-02-13T16:55:38.166Z"
   },
   {
    "duration": 147,
    "start_time": "2022-02-13T16:55:48.697Z"
   },
   {
    "duration": 124,
    "start_time": "2022-02-13T16:56:07.612Z"
   },
   {
    "duration": 139,
    "start_time": "2022-02-13T16:56:32.634Z"
   },
   {
    "duration": 686,
    "start_time": "2022-02-13T16:56:49.621Z"
   },
   {
    "duration": 115,
    "start_time": "2022-02-13T16:57:58.850Z"
   },
   {
    "duration": 671,
    "start_time": "2022-02-13T16:58:10.312Z"
   },
   {
    "duration": 653,
    "start_time": "2022-02-13T17:00:18.220Z"
   },
   {
    "duration": 3224,
    "start_time": "2022-02-13T18:29:21.396Z"
   },
   {
    "duration": 2686,
    "start_time": "2022-02-13T18:29:24.623Z"
   },
   {
    "duration": 53,
    "start_time": "2022-02-13T18:29:27.313Z"
   },
   {
    "duration": 18,
    "start_time": "2022-02-13T18:29:27.370Z"
   },
   {
    "duration": 12,
    "start_time": "2022-02-13T18:29:27.390Z"
   },
   {
    "duration": 9,
    "start_time": "2022-02-13T18:29:27.404Z"
   },
   {
    "duration": 97,
    "start_time": "2022-02-13T18:29:27.416Z"
   },
   {
    "duration": 15,
    "start_time": "2022-02-13T18:29:27.519Z"
   },
   {
    "duration": 47,
    "start_time": "2022-02-13T18:29:27.537Z"
   },
   {
    "duration": 381,
    "start_time": "2022-02-13T18:29:27.587Z"
   },
   {
    "duration": 29,
    "start_time": "2022-02-13T18:29:27.971Z"
   },
   {
    "duration": 17,
    "start_time": "2022-02-13T18:29:28.003Z"
   },
   {
    "duration": 70,
    "start_time": "2022-02-13T18:29:28.023Z"
   },
   {
    "duration": 8,
    "start_time": "2022-02-13T18:29:28.095Z"
   },
   {
    "duration": 9,
    "start_time": "2022-02-13T18:29:28.106Z"
   },
   {
    "duration": 72,
    "start_time": "2022-02-13T18:29:28.117Z"
   },
   {
    "duration": 44,
    "start_time": "2022-02-13T18:29:28.192Z"
   },
   {
    "duration": 32,
    "start_time": "2022-02-13T18:29:28.239Z"
   },
   {
    "duration": 748,
    "start_time": "2022-02-13T18:29:28.274Z"
   },
   {
    "duration": 2,
    "start_time": "2022-02-13T18:29:29.023Z"
   },
   {
    "duration": -18,
    "start_time": "2022-02-13T18:29:29.045Z"
   },
   {
    "duration": -18,
    "start_time": "2022-02-13T18:29:29.047Z"
   },
   {
    "duration": -19,
    "start_time": "2022-02-13T18:29:29.049Z"
   },
   {
    "duration": -18,
    "start_time": "2022-02-13T18:29:29.050Z"
   },
   {
    "duration": -19,
    "start_time": "2022-02-13T18:29:29.052Z"
   },
   {
    "duration": -18,
    "start_time": "2022-02-13T18:29:29.053Z"
   },
   {
    "duration": 370,
    "start_time": "2022-02-13T18:30:26.977Z"
   },
   {
    "duration": 24,
    "start_time": "2022-02-13T18:30:39.003Z"
   },
   {
    "duration": 112,
    "start_time": "2022-02-13T18:30:47.263Z"
   },
   {
    "duration": 139,
    "start_time": "2022-02-13T18:30:50.525Z"
   },
   {
    "duration": 3017,
    "start_time": "2022-02-13T18:31:53.307Z"
   },
   {
    "duration": 3209,
    "start_time": "2022-02-13T18:31:59.650Z"
   },
   {
    "duration": 1451,
    "start_time": "2022-02-13T18:33:52.456Z"
   },
   {
    "duration": 581,
    "start_time": "2022-02-13T18:34:52.544Z"
   },
   {
    "duration": 379,
    "start_time": "2022-02-13T18:37:22.086Z"
   },
   {
    "duration": 375,
    "start_time": "2022-02-13T18:37:24.844Z"
   },
   {
    "duration": 3310,
    "start_time": "2022-02-13T18:38:15.335Z"
   },
   {
    "duration": 2889,
    "start_time": "2022-02-13T18:38:18.648Z"
   },
   {
    "duration": 53,
    "start_time": "2022-02-13T18:38:21.540Z"
   },
   {
    "duration": 18,
    "start_time": "2022-02-13T18:38:21.596Z"
   },
   {
    "duration": 13,
    "start_time": "2022-02-13T18:38:21.616Z"
   },
   {
    "duration": 33,
    "start_time": "2022-02-13T18:38:21.631Z"
   },
   {
    "duration": 66,
    "start_time": "2022-02-13T18:38:21.667Z"
   },
   {
    "duration": 16,
    "start_time": "2022-02-13T18:38:21.760Z"
   },
   {
    "duration": 24,
    "start_time": "2022-02-13T18:38:21.779Z"
   },
   {
    "duration": 353,
    "start_time": "2022-02-13T18:38:21.806Z"
   },
   {
    "duration": 22,
    "start_time": "2022-02-13T18:38:22.162Z"
   },
   {
    "duration": 7,
    "start_time": "2022-02-13T18:38:22.187Z"
   },
   {
    "duration": 74,
    "start_time": "2022-02-13T18:38:22.197Z"
   },
   {
    "duration": 7,
    "start_time": "2022-02-13T18:38:22.275Z"
   },
   {
    "duration": 8,
    "start_time": "2022-02-13T18:38:22.285Z"
   },
   {
    "duration": 69,
    "start_time": "2022-02-13T18:38:22.296Z"
   },
   {
    "duration": 35,
    "start_time": "2022-02-13T18:38:22.367Z"
   },
   {
    "duration": 17,
    "start_time": "2022-02-13T18:38:22.404Z"
   },
   {
    "duration": 54,
    "start_time": "2022-02-13T18:38:22.424Z"
   },
   {
    "duration": 122,
    "start_time": "2022-02-13T18:38:22.481Z"
   },
   {
    "duration": 155,
    "start_time": "2022-02-13T18:38:22.605Z"
   },
   {
    "duration": 3183,
    "start_time": "2022-02-13T18:38:22.764Z"
   },
   {
    "duration": 1749,
    "start_time": "2022-02-13T18:38:25.959Z"
   },
   {
    "duration": 648,
    "start_time": "2022-02-13T18:38:27.712Z"
   },
   {
    "duration": 392,
    "start_time": "2022-02-13T18:38:28.362Z"
   },
   {
    "duration": 752,
    "start_time": "2022-02-13T18:38:28.756Z"
   },
   {
    "duration": 680,
    "start_time": "2022-02-13T18:39:14.218Z"
   },
   {
    "duration": 3282,
    "start_time": "2022-02-13T18:44:00.621Z"
   },
   {
    "duration": 3423,
    "start_time": "2022-02-13T18:44:03.906Z"
   },
   {
    "duration": 52,
    "start_time": "2022-02-13T18:44:07.332Z"
   },
   {
    "duration": 17,
    "start_time": "2022-02-13T18:44:07.386Z"
   },
   {
    "duration": 11,
    "start_time": "2022-02-13T18:44:07.406Z"
   },
   {
    "duration": 8,
    "start_time": "2022-02-13T18:44:07.420Z"
   },
   {
    "duration": 92,
    "start_time": "2022-02-13T18:44:07.430Z"
   },
   {
    "duration": 14,
    "start_time": "2022-02-13T18:44:07.527Z"
   },
   {
    "duration": 23,
    "start_time": "2022-02-13T18:44:07.561Z"
   },
   {
    "duration": 333,
    "start_time": "2022-02-13T18:44:07.586Z"
   },
   {
    "duration": 21,
    "start_time": "2022-02-13T18:44:07.921Z"
   },
   {
    "duration": 6,
    "start_time": "2022-02-13T18:44:07.960Z"
   },
   {
    "duration": 32,
    "start_time": "2022-02-13T18:44:07.968Z"
   },
   {
    "duration": 6,
    "start_time": "2022-02-13T18:44:08.002Z"
   },
   {
    "duration": 9,
    "start_time": "2022-02-13T18:44:08.010Z"
   },
   {
    "duration": 75,
    "start_time": "2022-02-13T18:44:08.021Z"
   },
   {
    "duration": 37,
    "start_time": "2022-02-13T18:44:08.098Z"
   },
   {
    "duration": 39,
    "start_time": "2022-02-13T18:44:08.137Z"
   },
   {
    "duration": 23,
    "start_time": "2022-02-13T18:44:08.178Z"
   },
   {
    "duration": 129,
    "start_time": "2022-02-13T18:44:08.203Z"
   },
   {
    "duration": 224,
    "start_time": "2022-02-13T18:44:08.335Z"
   },
   {
    "duration": 3132,
    "start_time": "2022-02-13T18:44:08.562Z"
   },
   {
    "duration": 1514,
    "start_time": "2022-02-13T18:44:11.699Z"
   },
   {
    "duration": 615,
    "start_time": "2022-02-13T18:44:13.215Z"
   },
   {
    "duration": 515,
    "start_time": "2022-02-13T18:44:13.833Z"
   },
   {
    "duration": 1221,
    "start_time": "2022-02-13T18:44:14.351Z"
   },
   {
    "duration": 4101,
    "start_time": "2022-02-13T18:51:03.599Z"
   },
   {
    "duration": 3497,
    "start_time": "2022-02-13T18:51:07.703Z"
   },
   {
    "duration": 79,
    "start_time": "2022-02-13T18:51:11.204Z"
   },
   {
    "duration": 34,
    "start_time": "2022-02-13T18:51:11.286Z"
   },
   {
    "duration": 12,
    "start_time": "2022-02-13T18:51:11.322Z"
   },
   {
    "duration": 26,
    "start_time": "2022-02-13T18:51:11.336Z"
   },
   {
    "duration": 65,
    "start_time": "2022-02-13T18:51:11.365Z"
   },
   {
    "duration": 36,
    "start_time": "2022-02-13T18:51:11.433Z"
   },
   {
    "duration": 26,
    "start_time": "2022-02-13T18:51:11.472Z"
   },
   {
    "duration": 354,
    "start_time": "2022-02-13T18:51:11.500Z"
   },
   {
    "duration": 23,
    "start_time": "2022-02-13T18:51:11.859Z"
   },
   {
    "duration": 9,
    "start_time": "2022-02-13T18:51:11.885Z"
   },
   {
    "duration": 72,
    "start_time": "2022-02-13T18:51:11.897Z"
   },
   {
    "duration": 6,
    "start_time": "2022-02-13T18:51:11.972Z"
   },
   {
    "duration": 8,
    "start_time": "2022-02-13T18:51:11.980Z"
   },
   {
    "duration": 91,
    "start_time": "2022-02-13T18:51:11.991Z"
   },
   {
    "duration": 58,
    "start_time": "2022-02-13T18:51:12.085Z"
   },
   {
    "duration": 35,
    "start_time": "2022-02-13T18:51:12.145Z"
   },
   {
    "duration": 26,
    "start_time": "2022-02-13T18:51:12.182Z"
   },
   {
    "duration": 156,
    "start_time": "2022-02-13T18:51:12.211Z"
   },
   {
    "duration": 101,
    "start_time": "2022-02-13T18:51:12.369Z"
   },
   {
    "duration": 3165,
    "start_time": "2022-02-13T18:51:12.473Z"
   },
   {
    "duration": 1557,
    "start_time": "2022-02-13T18:51:15.642Z"
   },
   {
    "duration": 665,
    "start_time": "2022-02-13T18:51:17.201Z"
   },
   {
    "duration": 414,
    "start_time": "2022-02-13T18:51:17.869Z"
   },
   {
    "duration": 779,
    "start_time": "2022-02-13T18:51:18.286Z"
   },
   {
    "duration": 3255,
    "start_time": "2022-02-13T18:56:49.837Z"
   },
   {
    "duration": 2656,
    "start_time": "2022-02-13T18:56:53.096Z"
   },
   {
    "duration": 51,
    "start_time": "2022-02-13T18:56:55.755Z"
   },
   {
    "duration": 17,
    "start_time": "2022-02-13T18:56:55.808Z"
   },
   {
    "duration": 12,
    "start_time": "2022-02-13T18:56:55.827Z"
   },
   {
    "duration": 25,
    "start_time": "2022-02-13T18:56:55.841Z"
   },
   {
    "duration": 59,
    "start_time": "2022-02-13T18:56:55.868Z"
   },
   {
    "duration": 40,
    "start_time": "2022-02-13T18:56:55.931Z"
   },
   {
    "duration": 31,
    "start_time": "2022-02-13T18:56:55.973Z"
   },
   {
    "duration": 356,
    "start_time": "2022-02-13T18:56:56.007Z"
   },
   {
    "duration": 21,
    "start_time": "2022-02-13T18:56:56.366Z"
   },
   {
    "duration": 9,
    "start_time": "2022-02-13T18:56:56.389Z"
   },
   {
    "duration": 59,
    "start_time": "2022-02-13T18:56:56.400Z"
   },
   {
    "duration": 6,
    "start_time": "2022-02-13T18:56:56.461Z"
   },
   {
    "duration": 7,
    "start_time": "2022-02-13T18:56:56.469Z"
   },
   {
    "duration": 37,
    "start_time": "2022-02-13T18:56:56.478Z"
   },
   {
    "duration": 74,
    "start_time": "2022-02-13T18:56:56.517Z"
   },
   {
    "duration": 20,
    "start_time": "2022-02-13T18:56:56.594Z"
   },
   {
    "duration": 58,
    "start_time": "2022-02-13T18:56:56.617Z"
   },
   {
    "duration": 123,
    "start_time": "2022-02-13T18:56:56.678Z"
   },
   {
    "duration": 161,
    "start_time": "2022-02-13T18:56:56.803Z"
   },
   {
    "duration": 3131,
    "start_time": "2022-02-13T18:56:56.967Z"
   },
   {
    "duration": 1610,
    "start_time": "2022-02-13T18:57:00.104Z"
   },
   {
    "duration": 661,
    "start_time": "2022-02-13T18:57:01.717Z"
   },
   {
    "duration": 448,
    "start_time": "2022-02-13T18:57:02.381Z"
   },
   {
    "duration": 858,
    "start_time": "2022-02-13T18:57:02.832Z"
   }
  ],
  "kernelspec": {
   "display_name": "Python 3",
   "language": "python",
   "name": "python3"
  },
  "language_info": {
   "codemirror_mode": {
    "name": "ipython",
    "version": 3
   },
   "file_extension": ".py",
   "mimetype": "text/x-python",
   "name": "python",
   "nbconvert_exporter": "python",
   "pygments_lexer": "ipython3",
   "version": "3.8.8"
  },
  "toc": {
   "base_numbering": 1,
   "nav_menu": {},
   "number_sections": true,
   "sideBar": true,
   "skip_h1_title": true,
   "title_cell": "Содержание",
   "title_sidebar": "Contents",
   "toc_cell": true,
   "toc_position": {},
   "toc_section_display": true,
   "toc_window_display": true
  }
 },
 "nbformat": 4,
 "nbformat_minor": 2
}
